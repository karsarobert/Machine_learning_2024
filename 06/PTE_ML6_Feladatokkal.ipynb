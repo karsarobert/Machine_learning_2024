{
  "nbformat": 4,
  "nbformat_minor": 0,
  "metadata": {
    "colab": {
      "provenance": [],
      "authorship_tag": "ABX9TyNwgQjbFb/4rpwcfDNZve5v",
      "include_colab_link": true
    },
    "kernelspec": {
      "name": "python3",
      "display_name": "Python 3"
    },
    "language_info": {
      "name": "python"
    }
  },
  "cells": [
    {
      "cell_type": "markdown",
      "metadata": {
        "id": "view-in-github",
        "colab_type": "text"
      },
      "source": [
        "<a href=\"https://colab.research.google.com/github/karsarobert/Machine_learning_2024/blob/main/06/PTE_ML6_Feladatokkal.ipynb\" target=\"_parent\"><img src=\"https://colab.research.google.com/assets/colab-badge.svg\" alt=\"Open In Colab\"/></a>"
      ]
    },
    {
      "cell_type": "markdown",
      "source": [
        "# A mesterséges intelligencia matematikai alapjai gyakorlat\n",
        "# PTE Gépi tanulás\n",
        "\n",
        "## 6. Gyakorlat: Logisztikus regresszió, döntési fák\n",
        "### 2024. március 12."
      ],
      "metadata": {
        "id": "xyyM5JTGzZJN"
      }
    },
    {
      "cell_type": "markdown",
      "source": [
        "#Házi feladathoz segítség"
      ],
      "metadata": {
        "id": "qd0QsGx96shv"
      }
    },
    {
      "cell_type": "code",
      "source": [
        "import pandas as pd\n",
        "\n",
        "data = pd.read_csv('https://raw.githubusercontent.com/karsarobert/Machine_Learning_2024/main/melb_data.csv')"
      ],
      "metadata": {
        "id": "jRZa83up6dCi"
      },
      "execution_count": null,
      "outputs": []
    },
    {
      "cell_type": "code",
      "source": [
        "for cname in data.columns:\n",
        "   if data[cname].dtype == \"object\" :\n",
        "     print(str(cname) +': '+ str(data[cname].nunique()))"
      ],
      "metadata": {
        "id": "4Y2FeWj16cFE"
      },
      "execution_count": null,
      "outputs": []
    },
    {
      "cell_type": "code",
      "source": [
        "data.head()"
      ],
      "metadata": {
        "id": "ku-i0TP863JD"
      },
      "execution_count": null,
      "outputs": []
    },
    {
      "cell_type": "markdown",
      "source": [
        "#Logisztikus regresszió"
      ],
      "metadata": {
        "id": "SpcdHuKs6yQz"
      }
    },
    {
      "cell_type": "code",
      "source": [
        "import pandas as pd\n",
        "\n",
        "df = pd.read_csv('https://raw.githubusercontent.com/karsarobert/Machine_Learning_2024/main/diabetes.csv') # adatok betöltése\n",
        "\n",
        "y = df.label #X,y beállítása\n",
        "X= df.drop(['label'], axis = 1)\n",
        "df\n"
      ],
      "metadata": {
        "id": "kkdjjUVUnZVk"
      },
      "execution_count": null,
      "outputs": []
    },
    {
      "cell_type": "code",
      "source": [
        "from sklearn.model_selection import train_test_split\n",
        "\n",
        "X_train,X_test,y_train,y_test=train_test_split(X,y,test_size=0.2,random_state=0) # tréning és validációs adatkészletek beállítása"
      ],
      "metadata": {
        "id": "nXFm16U4qQkK"
      },
      "execution_count": null,
      "outputs": []
    },
    {
      "cell_type": "code",
      "source": [
        "from sklearn.linear_model import LogisticRegression\n",
        "\n",
        "model = LogisticRegression(solver='lbfgs', max_iter=1000) # logisztikus regressziós modell létrehozása\n",
        "model.fit(X_train, y_train) # modell illesztése\n",
        "y_pred=model.predict(X_test) # előrejelzések kiszámítása a teszt készleten\n"
      ],
      "metadata": {
        "id": "fVY2elDToPH_"
      },
      "execution_count": null,
      "outputs": []
    },
    {
      "cell_type": "markdown",
      "source": [],
      "metadata": {
        "id": "qk2mFtYgNANX"
      }
    },
    {
      "cell_type": "code",
      "source": [
        "from sklearn import metrics\n",
        "cnf_matrix = metrics.confusion_matrix(y_test, y_pred) # zavartsági mártix\n",
        "\n",
        "pd.DataFrame(cnf_matrix)"
      ],
      "metadata": {
        "id": "NDJiEyElrnLM"
      },
      "execution_count": null,
      "outputs": []
    },
    {
      "cell_type": "code",
      "source": [
        "y_pred.sum()"
      ],
      "metadata": {
        "id": "HjqqkyX8QYQ_"
      },
      "execution_count": null,
      "outputs": []
    },
    {
      "cell_type": "code",
      "source": [
        "import seaborn as sns # zavartsági mátrix grafikon rajzolása\n",
        "\n",
        "ax = sns.heatmap(cnf_matrix, annot=True, cmap='Blues')\n",
        "ax.set_title('Seaborn tévesztési mátrix címkékkel\\n\\n');\n",
        "ax.set_xlabel('\\nElőre jelzett értékek')\n",
        "ax.set_ylabel('Tényleges értékek ');"
      ],
      "metadata": {
        "id": "CaIBrkxCOBZ-"
      },
      "execution_count": null,
      "outputs": []
    },
    {
      "cell_type": "code",
      "source": [
        "print(\"Accuracy:\",metrics.accuracy_score(y_test, y_pred))\n",
        "print(\"Precision:\",metrics.precision_score(y_test, y_pred))\n",
        "print(\"Recall:\",metrics.recall_score(y_test, y_pred))\n"
      ],
      "metadata": {
        "id": "TnsSG6qWsHBr"
      },
      "execution_count": null,
      "outputs": []
    },
    {
      "cell_type": "markdown",
      "source": [
        "Itt a + jelöli a beteget (1 logikai érték), a - az egészségeset (0 logikai érték)\n",
        "<div class=mobile-container>\n",
        "<table style=\"margin-left: 10%\">\n",
        "<colgroup><col width=120px>\n",
        "<col width=50px>\n",
        "<col width=200px>\n",
        "<col width=200px>\n",
        "</colgroup><tbody>\n",
        "<tr style=\"border-top: 0px\">\n",
        "<td align=center colspan=2 rowspan=2 style=\"background: rgba(255, 255, 255, 1);border: 0px\"></td>\n",
        "<td align=center colspan=2 style=\"background: rgba(255, 255, 255, 1);border: 1px\"><b>Prediktált</b> osztály (betegséget keresünk)</td>\n",
        "</tr>\n",
        "<tr style=\"border-top: 0px\">\n",
        "<td align=center style=\"background: rgba(255, 255, 255, 1);border: 0px\"><b>+ (a modell szerint beteg)</b></td>\n",
        "<td align=center style=\"background: rgba(255, 255, 255, 1);border: 0px\"><b>- (a modell szerint egészséges)</b></td>\n",
        "</tr>\n",
        "<tr style=\"border-top: 0px\">\n",
        "<td align=center rowspan=2 style=\"border: 0px\"><b>Tényleges</b> osztály</td>\n",
        "<td align=center style=\"background: rgba(255, 255, 255, 1);border: 0px;\"><b>+ (valóban beteg)</b></td>\n",
        "<td align=center style=\"background: rgba(0, 255, 0, 0.15);border: 0px;\"><b>TP</b><br>True Positives<br>a modell helyesen döntött</td>\n",
        "<td align=center style=\"background: rgba(255, 0, 0, 0.25);border: 0px;\"><b>FN</b><br>False Negatives<br>Type II error<br>a modell szerint egészséges, valójában beteg</td>\n",
        "</tr>\n",
        "<tr style=\"border-top: 0px\">\n",
        "<td align=center style=\"background: rgba(255, 255, 255, 1);border: 0px;\"><b>- (valóban egészséges)</b></td>\n",
        "<td align=center style=\"background: rgba(255, 0, 0, 0.25);border: 0px;\"><b>FP</b><br>False Positives<br>Type I error<br>a modell szerint beteg, pedig egészséges</td>\n",
        "<td align=center style=\"background: rgba(0, 255, 0, 0.15);border: 0px;\"><b>TN</b><br>True Negatives<br>a modell helyesen döntött</td>\n",
        "</tr>\n",
        "</tbody>\n",
        "</table>\n",
        "</div>"
      ],
      "metadata": {
        "id": "-k8U5mPc4GZh"
      }
    },
    {
      "cell_type": "markdown",
      "source": [
        "</div>\n",
        "<br>\n",
        "<p><span class=\"new-item item-r\">Főbb mérőszámok:</span> Az osztályozási modellek teljesítményének értékelésére általában a következő mérőszámokat használják:</p>\n",
        "<div class=mobile-container>\n",
        "<center>\n",
        "<table>\n",
        "<colgroup><col width=200px>\n",
        "<col width=200px>\n",
        "<col width=200px>\n",
        "\n",
        "<tbody>\n",
        "<tr>\n",
        "<td align=center><b>Metrika</b></td>\n",
        "<td align=center><b>Számítása                             </b></td>\n",
        "<td align=center><b>Érelmezés</b></td>\n",
        "</tr>\n",
        "<tr>\n",
        "<td align=center>Accuracy</td>\n",
        "<td align=center>$\\displaystyle\\frac{\\textrm{TP}+\\textrm{TN}}{\\textrm{TP}+\\textrm{TN}+\\textrm{FP}+\\textrm{FN}}$</td>\n",
        "<td align=left>A modell általános teljesítménye</td>\n",
        "</tr>\n",
        "<tr>\n",
        "<td align=center>Precision</td>\n",
        "<td align=center>$\\displaystyle\\frac{\\textrm{TP}}{\\textrm{TP}+\\textrm{FP}}$</td>\n",
        "<td align=left>Mennyire pontosak a pozitív előrejelzések</td>\n",
        "</tr>\n",
        "<tr>\n",
        "<td align=center>Recall<br>Sensitivity</td>\n",
        "<td align=center>$\\displaystyle\\frac{\\textrm{TP}}{\\textrm{TP}+\\textrm{FN}}$</td>\n",
        "<td align=left>A tényleges pozitív minta lefedettsége</td>\n",
        "</tr>\n",
        "<tr>\n",
        "<td align=center>Specificity</td>\n",
        "<td align=center>$\\displaystyle\\frac{\\textrm{TN}}{\\textrm{TN}+\\textrm{FP}}$</td>\n",
        "<td align=left>A tényleges negatív minta lefedettsége</td>\n",
        "</tr>\n",
        "<tr>\n",
        "<td align=center>F1 score</td>\n",
        "<td align=center>$\\displaystyle\\frac{2\\textrm{TP}}{2\\textrm{TP}+\\textrm{FP}+\\textrm{FN}}$</td>\n",
        "<td align=left>Hibrid metrika hasznos a kiegyensúlyozatlan osztályok esetében</td>\n",
        "</tr>\n",
        "</tbody>\n",
        "</table>\n",
        "</center>\n",
        "</div>"
      ],
      "metadata": {
        "id": "cpDx38Gf4_yJ"
      }
    },
    {
      "cell_type": "markdown",
      "source": [
        "#Accuracy\n",
        "Az Accuracy a helyes találatok arányát mutatja az összes objektumhoz viszonyítva, míg az\n",
        "Error rate a helytelen találatok arányát az összes objektumhoz képest.\n",
        "Az Accuracy és az Error rate nagyon általános mutatók, az alkalmazási terület sajátosságaira vonatkozóan nem mindig kellően informatívak. Nem használható e két kritérium akkor sem, ha a célosztály mérete kicsi a\n",
        "teljes halmazhoz képest. Például egy ritka betegség esetén, ha 100 ezerből 10 személy\n",
        "tartozik a becsült osztályba, akkor is 99.99%-os Accuracyt kapunk, ha egyszer sem találjuk\n",
        "el a célosztályt, hiszen nagyon sok TN van!\n",
        "#Sensitivity\n",
        "A Sensitivityt valódi pozitív rátának is nevezik, mert a célosztályba helyesen besorolt objektumok arányát fejezi a ki az összes, valóban a célosztályba tartozó objektumhoz képest.\n",
        "#Specifity\n",
        "A Specificity pedig a valódi negatív ráta, mert a nem célosztályba helyesen besorolt objektumok arányát fejezi ki az összes valóban nem a célosztályba tartozó objektumhoz képest.\n",
        "# A mutatók tágabb értelmezése\n",
        "A Sensitivity a besorolás „agresszivitását” fejezi ki. Egy klasszifikáció „agresszív”, ha\n",
        "minden, kicsit is „gyanús” megfigyelést a célosztályba sorol (pl. egy e-mail-folyam spam/nem\n",
        "spam osztályozása, ahol minden, kicsit is spamgyanús levelet a modell a spam kategóriába\n",
        "sorol), vagy nagyon konzervatív, amikor túl sok objektum (spam) átmegy a szűrőn.\n",
        "A Precision a modell predikciós értéke, azt mutatja, hogy a modell mennyire korrektül\n",
        "sorol be egy pozitív megfigyelést a pozitív célosztályba. Ha ez az érték alacsony, akkor túl\n",
        "sok a tévedés, pl. egy keresőmotor esetén.\n",
        "A Recall azt mutatja, hogy az eredmény mennyire teljes. Értéke ugyanaz, mint a\n",
        "sensitivity értéke, csak más az értelmezése. Ha magas az értéke, akkor sok pozitív megfigyelés kap korrekt besorolást.\n",
        "\n",
        "![](https://upload.wikimedia.org/wikipedia/commons/thumb/5/5a/Sensitivity_and_specificity_1.01.svg/341px-Sensitivity_and_specificity_1.01.svg.png)"
      ],
      "metadata": {
        "id": "DJdA2ckbWlBm"
      }
    },
    {
      "cell_type": "markdown",
      "source": [
        "# Milyen metrikákkal lehet mérni a modell teljesítményét\n",
        "https://stanford.edu/~shervine/teaching/cs-229/cheatsheet-machine-learning-tips-and-tricks"
      ],
      "metadata": {
        "id": "WtJ-CgeBBTQv"
      }
    },
    {
      "cell_type": "markdown",
      "source": [
        "Képzeld el, hogy egy orvosi diagnosztikai tesztet vizsgálunk, amelynek célja a rák kimutatása. A teszt két eredményt adhat: pozitív (rák) vagy negatív (nem rák).\n",
        "\n",
        "A valódi pozitív ráta (TPR) az a valószínűség, hogy a teszt helyesen azonosítja a rákos betegeket (azaz pozitív eredményt ad).\n",
        "A hamis pozitív ráta (FPR) az a valószínűség, hogy a teszt tévesen azonosítja az egészséges embereket rákos betegként (azaz pozitív eredményt ad)."
      ],
      "metadata": {
        "id": "ONVWwoNQEpOd"
      }
    },
    {
      "cell_type": "code",
      "source": [
        "import matplotlib.pyplot as plt\n",
        "\n",
        "y_pred_proba = model.predict_proba(X_test)[::,1]\n",
        "fpr, tpr, _ = metrics.roc_curve(y_test,  y_pred_proba)\n",
        "auc = metrics.roc_auc_score(y_test, y_pred_proba)\n",
        "plt.plot(fpr,tpr,label=\"data 1, auc=\"+str(auc))\n",
        "plt.xlabel('TPR')\n",
        "plt.ylabel('FPR')\n",
        "plt.legend(loc=4)\n",
        "plt.show()\n"
      ],
      "metadata": {
        "id": "nG114ssQwwzx"
      },
      "execution_count": null,
      "outputs": []
    },
    {
      "cell_type": "markdown",
      "source": [
        "#A ROC-görbe\n",
        "A ROC (Receiver Operating Characteristic) a valódi pozitívak aránya és a fals pozitívak\n",
        "aránya közötti kapcsolatot jellemzi. Az elnevezést a radartechnológiában vezették be, a\n",
        "valódi szignálok és a fals riasztások megkülönböztetésére szolgál.\n",
        "Minthogy a tengelyeken használt mértékek ekvivalensek a Sensitivityvel és az\n",
        "(1-Specificity)-vel, sensitivity/specificity diagramnak is nevezik.\n",
        "Minél távolabb van a ROC-görbe a 45o-os egyenestől a felső háromszögben, annál hatékonyabbnak tartjuk a modellt.\n",
        "A modell megfelelőségére jellemző az AUC (area under the curve) is, azaz a ROCgörbe alatti terület. Ha az AUC értéke 0.6, vagy kisebb, a modell gyakorlatilag nem ad jobb\n",
        "eredményt, mint a random osztályozás. Úgy tekintjük, hogy a modell jól használható, ha az\n",
        "AUC-érték 0.9–1 között van."
      ],
      "metadata": {
        "id": "BB-DxHbZaTl-"
      }
    },
    {
      "cell_type": "markdown",
      "source": [
        "#Feladat\n",
        "Készítsen logisztikus regresszort  egy osztályozási feladatra!\n",
        "Az X, y adatok adottak az alábbiak szerint"
      ],
      "metadata": {
        "id": "wqjP3DDutxwf"
      }
    },
    {
      "cell_type": "code",
      "source": [
        "from sklearn import datasets\n",
        "import numpy as np\n",
        "\n",
        "iris = datasets.load_iris() #iris dataset betöltése\n",
        "X = iris.data[:, [2, 3]]\n",
        "y = iris.target\n"
      ],
      "metadata": {
        "id": "ADcCk618tx_U"
      },
      "execution_count": null,
      "outputs": []
    },
    {
      "cell_type": "markdown",
      "source": [
        "#Ossza fel az adatokat 60-40% ban"
      ],
      "metadata": {
        "id": "yEa7mNq5vsil"
      }
    },
    {
      "cell_type": "code",
      "source": [
        "from sklearn.model_selection import train_test_split\n",
        "X_train,X_test,y_train,y_test=train_test_split(...)"
      ],
      "metadata": {
        "id": "jqAo3lMWuXEf"
      },
      "execution_count": null,
      "outputs": []
    },
    {
      "cell_type": "markdown",
      "source": [
        "#Hozzon létre egy modellt\n",
        "LogisticRegression, solver='lbfgs', max_iter=100 paraméterekkel\n",
        "A teszt adatok alapján számolja kia modell az előrejelzéseket"
      ],
      "metadata": {
        "id": "miZRWbSuvvQs"
      }
    },
    {
      "cell_type": "code",
      "source": [
        "from sklearn.linear_model import LogisticRegression\n",
        "\n",
        "model = LogisticRegression(solver='lbfgs', max_iter=100)\n",
        "model.fit)\n",
        "y_pred=model.predict()\n",
        "y_pred"
      ],
      "metadata": {
        "id": "vUGO8fMBud7V"
      },
      "execution_count": null,
      "outputs": []
    },
    {
      "cell_type": "markdown",
      "source": [
        "#Rajzolja ki a zavartsági mátrixot"
      ],
      "metadata": {
        "id": "DjBWApdkwTuw"
      }
    },
    {
      "cell_type": "code",
      "source": [
        "from sklearn import metrics\n",
        "cnf_matrix = metrics.confusion_matrix()\n",
        "\n",
        "pd.DataFrame()"
      ],
      "metadata": {
        "id": "_yatD6WPuiWF"
      },
      "execution_count": null,
      "outputs": []
    },
    {
      "cell_type": "code",
      "source": [
        "import seaborn as sns # zavartsági mátrix grafikon rajzolása\n",
        "\n",
        "ax = sns.heatmap(cnf_matrix, annot=True, cmap='Blues')\n",
        "ax.set_title('Seaborn tévesztési mátrix címkékkel\\n\\n');\n",
        "ax.set_xlabel('\\nElőre jelzett értékek')\n",
        "ax.set_ylabel('Tényleges értékek ');"
      ],
      "metadata": {
        "id": "rRG2dWpxYtD5"
      },
      "execution_count": null,
      "outputs": []
    },
    {
      "cell_type": "markdown",
      "source": [
        "#Számolja ki a modell pontosságát"
      ],
      "metadata": {
        "id": "55-yp4Z2weDd"
      }
    },
    {
      "cell_type": "code",
      "source": [
        "print(\"Accuracy:\",metrics.accuracy_score(...))\n"
      ],
      "metadata": {
        "id": "0aI-eVpFuvAm"
      },
      "execution_count": null,
      "outputs": []
    },
    {
      "cell_type": "code",
      "source": [
        "#több osztály esetén\n",
        "from sklearn import metrics\n",
        "print(metrics.classification_report(...))"
      ],
      "metadata": {
        "id": "g7G7hCg6aEU8"
      },
      "execution_count": null,
      "outputs": []
    },
    {
      "cell_type": "markdown",
      "metadata": {
        "papermill": {
          "duration": 0.003208,
          "end_time": "2021-06-04T13:14:06.169324",
          "exception": false,
          "start_time": "2021-06-04T13:14:06.166116",
          "status": "completed"
        },
        "tags": [],
        "id": "weighted-spray"
      },
      "source": [
        "# Döntési fák\n",
        "Az unokatestvéred dollármilliókat keresett ingatlanspekulációval. Felajánlotta, hogy az adattudományok iránti érdeklődésed miatt üzleti partnered lesz. Ő adja a pénzt, te pedig olyan modelleket, amelyek megjósolják, mennyit érnek a különböző házak.\n",
        "\n",
        "Megkérdezed az unokatestvéredet, hogyan jósolta meg az ingatlanok értékét a múltban. mire ő azt mondja, hogy ez csak megérzés. De további kérdezősködéssel kiderül, hogy a múltban látott házakból ármintákat azonosított, és ezeket a mintákat használja arra, hogy előrejelzéseket készítsen az új házakra, amelyeket fontolóra vesz.\n",
        "\n",
        "A gépi tanulás ugyanígy működik.  A döntési fának nevezett modellel kezdjük. Vannak bonyolultabb modellek, amelyek pontosabb előrejelzéseket adnak. De a döntési fák könnyen érthetőek, és az adattudomány legjobb modelljeinek néhány alapépítőelemét képezik.\n",
        "\n",
        "Az egyszerűség kedvéért a lehető legegyszerűbb döntési fával kezdünk.\n",
        "\n",
        "![First Decision Trees](http://i.imgur.com/7tsb5b1.png)\n",
        "\n",
        "A házakat csak két kategóriába sorolja. A vizsgált házak előre jelzett ára az ugyanabba a kategóriába tartozó házak történelmi átlagára.\n",
        "\n",
        "Az adatok alapján döntjük el, hogy a házakat két csoportra bontjuk, majd ismét az egyes csoportok előre jelzett árát határozzuk meg.  Az adatokból történő mintázatok megragadásának ezt a lépését **illesztésnek** vagy **modellképzésnek** nevezzük. A modell **illesztéséhez** használt adatokat **tréningadatoknak** nevezzük.  \n",
        "\n",
        "A modell illesztésének részletei (pl. az adatok felosztásának módja) elég bonyolultak ahhoz, hogy ezt későbbre tartogassuk. A modell illesztése után a modellt új adatokra alkalmazhatja, hogy **megjósolja** további lakások árait.\n",
        "\n",
        "---\n",
        "# A döntési fa javítása\n",
        "Az alábbi két döntési fa közül melyik az, amelyik nagyobb valószínűséggel adódik az ingatlanok képzési adatainak illesztéséből?\n",
        "\n",
        "![First Decision Trees](http://i.imgur.com/prAjgku.png)\n",
        "\n",
        "\n",
        "A bal oldali döntési fának (1. döntési fa) valószínűleg több értelme van, mert azt a valóságot tükrözi, hogy a több hálószobás házak általában magasabb áron kelnek el, mint a kevesebb hálószobásak.  Ennek a modellnek a legnagyobb hiányossága, hogy nem ragadja meg a legtöbb, a ház árát befolyásoló tényezőt, például a fürdőszobák számát, a telekméretet, a helyszínt stb.\n",
        "\n",
        "Több tényezőt lehet megragadni egy olyan fával, amely több \"elágazással\" rendelkezik. Ezeket a fákat \"mélyebb\" fáknak nevezik. Egy olyan döntési fa, amely az egyes házak telkének teljes méretét is figyelembe veszi, így nézhet ki:\n",
        "![Depth 2 Tree](http://i.imgur.com/R3ywQsR.png)\n",
        "\n",
        "Bármely ház árát megjósolhatja a döntési fa végigkövetésével, mindig az adott ház jellemzőinek megfelelő utat választva. A ház megjósolt ára a fa alján található.  Az alján lévő pontot, ahol az előrejelzést készítjük, **levélnek** nevezzük.   \n",
        "\n",
        "A leveleknél lévő osztásokat és értékeket az adatok fogják meghatározni, ezért itt az ideje, hogy megnézze az adatokat, amelyekkel dolgozni fog.\n",
        "\n"
      ]
    },
    {
      "cell_type": "markdown",
      "source": [
        "#Egy másik példa a hirdetésekkel kapcsolatos átkattintásokról\n",
        "Az alábbi ábrán látható leegyszerűsített forgatókönyvben, ahol egy önvezető autóhirdetésre kattintást vagy nem kattintást szeretnénk megjósolni, manuálisan készíthetünk egy döntési fa osztályozót, amely egy rendelkezésre álló adathalmazra működik. Ha például egy felhasználó érdeklődik a technológia iránt, és van autója, akkor hajlamos lesz rákattintani a hirdetésre; egy ezen az alhalmazon kívüli személy, például egy magas jövedelmű nő, nem valószínű, hogy rákattint a hirdetésre. Ezután a betanított fát arra használjuk, hogy két új bemenetet jósoljunk, amelyek eredménye a Kattintás és a Nem kattintás:\n",
        "\n",
        "![image.png](data:image/png;base64,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)"
      ],
      "metadata": {
        "id": "b1TxFqz30e_s"
      }
    },
    {
      "cell_type": "markdown",
      "source": [
        "#Döntési fa algoritmusok\n",
        "A döntési fának három alapvető összetevője van: a belső csomópont, az ág és a levélcsomópontok. Itt minden egyes végcsomópont egy jellemzőt, az ág a döntési szabályt vagy a felosztási szabályt, a levél pedig az előrejelzés eredményét adja. A fa első kezdő- vagy főcsomópontja a gyökércsomópont. Ez osztja fel az adatokat a jellemzők vagy attribútumértékek alapján. Itt az adatokat felosztjuk, és a fennmaradó adatokat ismét rekurzívan felosztjuk, amíg az összes elem ugyanarra az osztályra nem utal, vagy nem marad több oszlop. A döntési fák mindkét típusú problémában alkalmazhatók: osztályozásban és regresszióban. Rengeteg döntési fa algoritmus áll rendelkezésre, például a CART, az ID3, a C4.5 és a CHAID. Itt azonban elsősorban a CART-ra és az ID3-ra koncentrálunk, mert a scikit-learnben ez a kettő áll rendelkezésre. Lássuk a döntési fa osztályozó generálásának folyamatát a következő ábrán:\n",
        "![image.png](data:image/png;base64,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)"
      ],
      "metadata": {
        "id": "rz0Cl_Br22p3"
      }
    },
    {
      "cell_type": "markdown",
      "source": [
        "# Nézzünk egy egyszerű példát!"
      ],
      "metadata": {
        "id": "RznWfL9ecZww"
      }
    },
    {
      "cell_type": "code",
      "source": [
        "import numpy as np\n",
        "import pandas as pd\n",
        "# hozzunk létre egy dataframet amely 3 oszlopot tartalmaz x1, x2, y\n",
        "df_tree = pd.DataFrame(\n",
        "    {\n",
        "        'x1': [6,4,6,10,5,8,3],\n",
        "        'x2': [8,11,12,9,7,9,11],\n",
        "        'y': [1,0,0,1,0,1,0],\n",
        "    }\n",
        ")\n",
        "df_tree\n"
      ],
      "metadata": {
        "id": "ySIgsq03DvZW"
      },
      "execution_count": null,
      "outputs": []
    },
    {
      "cell_type": "code",
      "source": [
        "X = df_tree[['x1','x2']] # X, és y beállítása\n",
        "y = df_tree['y']\n",
        "#X.to_numpy()"
      ],
      "metadata": {
        "id": "a3IIxPTmFcb0"
      },
      "execution_count": null,
      "outputs": []
    },
    {
      "cell_type": "code",
      "source": [
        "import matplotlib.pyplot as plt\n",
        "from sklearn.tree import DecisionTreeClassifier\n",
        "from mlxtend.plotting import plot_decision_regions\n",
        "\n",
        "model = DecisionTreeClassifier(max_depth = 3, random_state=0) # hozzunk létre egy döntési fa modellt\n",
        "\n",
        "#próbáljuk ki hogy változik a döntés a fa mélységének növelésével\n",
        "\n",
        "#tree = DecisionTreeClassifier(criterion='entropy', max_depth=3,  random_state=1)\n",
        "model.fit(X, y) # a döntési fák nem érzékenyek az adatok nagyságára itt nem kell normalizálni, standardizálni az adatokat\n"
      ],
      "metadata": {
        "id": "1guJLEQhFZOH"
      },
      "execution_count": null,
      "outputs": []
    },
    {
      "cell_type": "code",
      "source": [
        "n_classes = 2\n",
        "plot_colors = \"br\"\n",
        "plot_step = 0.02\n",
        "\n",
        "x_min, x_max = X.values[:, 0].min() - 1, X.values[:, 0].max() + 1\n",
        "y_min, y_max = X.values[:, 1].min() - 1, X.values[:, 1].max() + 1\n",
        "xx, yy = np.meshgrid(np.arange(x_min, x_max, plot_step),\n",
        "                         np.arange(y_min, y_max, plot_step))\n",
        "\n",
        "Z = model.predict(np.c_[xx.ravel(), yy.ravel()])\n",
        "Z = Z.reshape(xx.shape)\n",
        "cs = plt.contourf(xx, yy, Z, cmap=plt.cm.Paired)\n",
        "plt.axis(\"tight\")\n",
        "for i, color in zip(range(n_classes), plot_colors):\n",
        "        idx = np.where(y == i)\n",
        "        plt.scatter(X.values[idx, 0], X.values[idx, 1], c=color, label=y[i],\n",
        "                    cmap=plt.cm.Paired)\n",
        "plt.xlabel('X1')\n",
        "plt.ylabel('X2')\n",
        "plt.legend(loc='upper left')\n",
        "plt.legend()\n",
        "plt.show()"
      ],
      "metadata": {
        "id": "dL129iaSguQo"
      },
      "execution_count": null,
      "outputs": []
    },
    {
      "cell_type": "code",
      "source": [
        "xx"
      ],
      "metadata": {
        "id": "5TYM3XX1xgqy"
      },
      "execution_count": null,
      "outputs": []
    },
    {
      "cell_type": "code",
      "source": [
        "from sklearn import tree\n",
        "from IPython.display import Image\n",
        "import pydotplus\n",
        "\n",
        "dot_data = tree.export_graphviz(model, out_file=None,feature_names= X.columns, filled = True)\n",
        "graph = pydotplus.graph_from_dot_data(dot_data)\n",
        "Image(graph.create_png())"
      ],
      "metadata": {
        "id": "OaoSgRw7Oi93"
      },
      "execution_count": null,
      "outputs": []
    },
    {
      "cell_type": "code",
      "source": [
        "from sklearn.tree import plot_tree\n",
        "plt.figure()\n",
        "plot_tree(model, filled=True)\n",
        "plt.title(\"Döntési fa\")\n",
        "plt.show()"
      ],
      "metadata": {
        "id": "aVyESjEaTEhn"
      },
      "execution_count": null,
      "outputs": []
    },
    {
      "cell_type": "markdown",
      "source": [
        "#Döntési fa felosztási algoritmus\n",
        "Tegyük fel, hogy 20 diák adatai vannak, akik közül 10-en kriketteznek, 10-en pedig nem.  Tehát itt a piros plusz jel azt a diákot jelöli, aki krikettezik, a zöld negatív pedig azt, aki nem krikettezik.\n",
        "![](https://cdn.analyticsvidhya.com/wp-content/uploads/2021/02/Screenshot-from-2021-02-22-18-29-50-768x266.png)\n",
        "\n",
        "Most már a következő jellemzői vannak a diákoknak\n",
        "\n",
        "##Döntési fa felosztás - A diákok magassága alapján\n",
        "Teljesítmény- Az osztályban nyújtott teljesítményükből megtudhatjuk, hogyan teljesítettek a diákok az osztályban végzett teszteken.\n",
        "Osztály- Végül az osztályuk, amely alapvetően a diák jelenlegi osztályát határozza meg.\n",
        "Ezeknek a jellemzőknek a segítségével szeretnénk egy modellt képezni, és megjósolni, hogy krikettezni fognak-e vagy sem. Ha most megnézzük a rendelkezésünkre álló adatokat, összesen 20 diákunk van, akik közül 10 krikettezik, és így a krikettező diákok aránya 50%.  A diákokra vonatkozóan olyan jellemzőkkel rendelkezünk, mint a magasság, az osztályban nyújtott teljesítmény és az, hogy melyik osztályba tartoznak.\n",
        "\n",
        "A tanár most az alcsoportokat akarja azonosítani. Ezek az alcsoportok a megadott jellemzők alapján nagyon hasonlóak abban a tekintetben, hogy kriketteznek-e vagy sem.\n",
        "\n",
        "![](https://cdn.analyticsvidhya.com/wp-content/uploads/2021/02/Screenshot-from-2021-02-22-18-36-15.png)\n",
        "\n",
        "##Döntési fa felosztás - Teljesítmény alapján\n",
        "Próbáljuk ki először egy másik változóval. Osszuk fel a populációt a teljesítmény alapján. Itt a teljesítményt átlagon felüli vagy átlag alatti teljesítményként határozzuk meg. Ismét felosztjuk a populációt ezen kategóriák alapján, és mondjuk, hogy egy ilyen eloszlást kapunk.\n",
        "\n",
        "![](https://cdn.analyticsvidhya.com/wp-content/uploads/2021/02/Screenshot-from-2021-02-22-18-39-06.png)\n",
        "\n",
        "##Döntési fa osztás - osztály alapján\n",
        "Végül, van még egy változó, az osztály, és így a teljes adatot az osztályra is feloszthatjuk. Tegyük fel, hogy az adatokban szereplő diákok a 9. vagy a 10. osztályba tartoznak, és így ezeket használhatjuk kategóriaként az adatok felosztásához. A felosztás után ezt az eloszlást kapjuk.\n",
        "\n",
        "![](https://cdn.analyticsvidhya.com/wp-content/uploads/2021/02/Screenshot-from-2021-02-22-18-41-05.png)\n",
        "\n",
        "A 9. osztályban sok diák krikettezik, míg a 10. osztályban már kevesebben. Lehet, hogy a 10. osztályos tanulók a vizsgáikkal vannak elfoglalva, de ennek számos oka lehet. Nézzük a számokat és a százalékos arányokat, adatainkban 10 diák van a 9. osztályból és 10 a 10. osztályból. A 9. osztályban a 10-ből 8 tanuló krikettezik, ami pontosan 80%, míg a 10. osztályban csak 2 tanuló krikettezik, ami 20%.\n",
        "\n",
        "Így oszthatjuk fel az adatokat a rendelkezésünkre álló jellemzők alapján. Ha észrevetted volna, eddig három különböző döntési fát hoztunk létre.  Minden alkalommal a teljes adatot két részhalmazra osztottuk bizonyos feltételek vagy döntések alapján, és így kaptunk egy döntési fát.\n",
        "\n",
        "Amint látta, eddig három döntési fánk van, e három döntési fa közül Ön szerint melyik a jobb? vagy mondhatjuk, hogy melyik ad nagyobb bizalmat a tanárnak, miközben megjósolja a diákok viselkedését, hogy kriketteznek-e vagy sem. A döntési fáknál azt szeretnénk, hogy olyan döntésünk legyen, amely képes elkülöníteni az osztályokat, ami a mi esetünkben az- hogy a diák krikettezik-e vagy sem. Tehát azt akarjuk, hogy az összes pozitívum az egyik oldalon vagy az egyik csomóponton legyen, az összes negatívum pedig a másik csomóponton.\n",
        "\n",
        "Ön szerint e három forgatókönyv közül melyik a legjobb felosztás, gondolkodjon el rajta egy pillanatra, mielőtt továbblépnénk. Oké, ha megnézzük a harmadik döntési fán az osztály szerinti felosztást, akkor a krikettjátékos diákok 80%-át különítette el, ami több, mint a másik két felosztás bármelyikében. Tehát azt mondhatjuk, hogy az osztály szerinti felosztás jobb a többi felosztásnál, mivel szinte tiszta csomópontokat eredményezett.\n",
        "\n"
      ],
      "metadata": {
        "id": "KomZ3S85zH_3"
      }
    },
    {
      "cell_type": "markdown",
      "source": [
        "#Gini szennyeződés:\n",
        "Döntési fa algoritmus a legjobb felosztás kiválasztására\n",
        "Több algoritmus létezik, amelyeket a döntési fa használ a probléma legjobb felosztásának eldöntésére. Nézzük először a legelterjedtebbet és legnépszerűbbet mind közül, ami a Gini Impurity. Ez a csomópontok szennyeződését méri, és a következőképpen számítjuk ki:\n",
        "\n",
        "#Döntési fa legjobb felosztás - gini impurity\n",
        "\n",
        "Először is értsük meg, hogy mi az a Gini, majd megnézzük hogyan lehet kiszámítani a Gini impurityt a felosztáshoz, és eldönteni a megfelelő felosztást. Tegyük fel, hogy van egy csomópontunk, mint ez:\n",
        "\n",
        "![](https://cdn.analyticsvidhya.com/wp-content/uploads/2021/03/Screenshot-from-2021-03-22-15-34-52-300x179.png)\n",
        "\n",
        "\n",
        "Tehát a Gini azt mondja, hogy ha véletlenszerűen kiválasztunk két pontot a populációból, az itt rózsaszínnel kiemelteket, akkor azoknak ugyanabból az osztályból kell származniuk. Tegyük fel, hogy van egy teljesen tiszta csomópontunk -\n",
        "\n",
        "![](https://cdn.analyticsvidhya.com/wp-content/uploads/2021/03/Screenshot-from-2021-03-22-15-34-59-300x191.png)\n",
        "\n",
        "Ki tudod találni, hogy mi lenne a valószínűsége annak, hogy egy véletlenszerűen kiválasztott pont ugyanabba az osztályba tartozik? Nos, nyilvánvalóan 1 lesz, hiszen itt minden pont ugyanabba az osztályba tartozik. Tehát mindegy, hogy melyik két pontot választottuk ki, azok mindig ahhoz az egy osztályhoz fognak tartozni, és így a valószínűség mindig 1 lesz, ha a csomópont tiszta. És ez az, amit a Gini segítségével el akarunk érni.\n",
        "\n",
        "A Gini értéke nullától egyig terjed, mivel ez egy valószínűség, és minél magasabb ez az érték, annál tisztábbak a csomópontok. És természetesen a kisebb érték kevesebb tiszta csomópontot jelent.\n",
        "\n",
        "#A Gini szennyeződés tulajdonságai\n",
        "Nézzük meg a tulajdonságait, mielőtt ténylegesen kiszámítjuk a Gini impurityt, hogy eldöntsük a legjobb felosztást.\n",
        "\n",
        "A legjobb felosztást a Gini impurity alapján döntjük el, és ahogyan azt korábban már megbeszéltük, a Gini impurity a következő:\n",
        "\n",
        "![](https://cdn.analyticsvidhya.com/wp-content/uploads/2021/03/Screenshot-from-2021-03-22-15-34-04-300x66.png)\n",
        "\n",
        "\n",
        "Itt a Gini a tisztaságot jelöli, és így a Gini impurity a csomópontok szennyezettségéről árulkodik. Ha a Gini impurity alacsonyabb, akkor biztonsággal következtethetünk arra, hogy a tisztaság nagyobb lesz, és így nagyobb az esélye a csomópontok homogenitásának.\n",
        "\n",
        "A Gini csak azokban a forgatókönyvekben működik, ahol kategorikus adatokkal rendelkezünk. Folytonos adatok esetén nem működik.\n",
        "\n",
        "Nagyon fontos megjegyezni, tartsuk szem előtt. Ha például a ház árát vagy a bérelt kerékpárok számát szeretnénk megjósolni, a Gini nem a megfelelő algoritmus. Csak bináris felosztásokat végez vagy igen vagy nem, siker vagy kudarc, és így tovább. Tehát egy csomópontot csak két alcsomópontra fogja felosztani.\n",
        "\n",
        "A Gini impurity kiszámításának lépései egy osztás esetében\n",
        "Nézzük most a Gini-felosztás kiszámításának lépéseit. Először is kiszámítjuk a Gini impurityt az alcsomópontok számára, mivel a Gini impurityt már megnéztük, és biztos vagyok benne, hogy ezt mostanra már tudja:\n",
        "\n",
        "#Gini impurity = 1 - Gini\n",
        "\n",
        "Itt az egyes osztályok valószínűségeinek négyzetösszege, és a következőképpen adódik:\n",
        "\n",
        "![](https://cdn.analyticsvidhya.com/wp-content/uploads/2021/03/Screenshot-from-2021-03-22-15-38-59-300x53.png)\n",
        "\n",
        "A Gini valószínűségek négyzetösszege, amennyiben n osztály van.\n",
        "\n",
        "Miután kiszámítottuk az alcsomópontok Gini impurityjét, kiszámítjuk a felosztás Gini impurityjét az adott felosztás mindkét alcsomópontjának súlyozott impurityje segítségével. Itt a súlyt a minták megfigyeléseinek száma határozza meg mindkét csomópontban. Nézzük meg ezeket a számításokat egy példán keresztül, amely segít még jobban megérteni a dolgot.\n",
        "\n",
        "A példaadatok:\n",
        "Height- A diákok magassága\n",
        "Performance-  Az osztályban nyújtott teljesítményük elárulja, hogyan teljesítettek a diákok az osztályban végzett teszteken\n",
        "Class- Végül az osztályuk, amely alapvetően meghatározza a diák jelenlegi osztályát\n",
        "\n",
        "Az osztályteljesítményen belüli felosztásnál emlékszik, hogy így történt a felosztás?\n",
        "\n",
        "![](https://cdn.analyticsvidhya.com/wp-content/uploads/2021/03/Screenshot-from-2021-03-22-15-39-47.png)\n",
        "\n",
        "Osztályon belüli teljesítmény megosztva\n",
        "\n",
        "Két kategóriánk van, az egyik az \"átlagon felüli\", a másik az \"átlag alatti\". Ha az átlagon felüliekre koncentrálunk, akkor 14 diákunk van, akik közül 8-an kriketteznek, 6-an pedig nem. A krikettezés valószínűsége 8 osztva 14-gyel, ami körülbelül 0,57, és hasonlóképpen, a nem krikettezés valószínűsége 6 osztva 14-gyel, ami körülbelül 0,43 lesz. Itt az egyszerűség kedvéért a pontos szám helyett felfelé kerekítettem a számításokat.\n",
        "\n",
        "![](https://cdn.analyticsvidhya.com/wp-content/uploads/2021/03/Screenshot-from-2021-03-22-15-41-13-e1616407977480.png)\n",
        "\n",
        "Hasonlóképpen, ha az átlag alatti értéket nézzük, kiszámítottuk az összes számot, és itt vannak - a játék valószínűsége 0,33, a nem játéké pedig 0,67 -.\n",
        "\n",
        "![](https://cdn.analyticsvidhya.com/wp-content/uploads/2021/03/Screenshot-from-2021-03-22-15-41-25-e1616408089843.png)\n",
        "\n",
        "Most számoljuk ki az alcsomópontok Gini-tisztaságát az átlag feletti értékre, és itt van a számítás:\n",
        "\n",
        "![](https://cdn.analyticsvidhya.com/wp-content/uploads/2021/03/Screenshot-from-2021-03-22-15-45-19.png))\n",
        "\n",
        "Ez lesz, egy mínusz a siker valószínűségének négyzete az egyes kategóriák esetében, ami 0,57 a krikettjátékosok esetében és 0,43 a nem krikettjátékosok esetében. A Gini tehát e számítás után 0,49 körüli értéket kap. Az átlag alatti csomópont ugyanazt a számítást végzi, mint a Gini. Az átlag alattiak esetében:\n",
        "\n",
        "![](https://cdn.analyticsvidhya.com/wp-content/uploads/2021/03/Screenshot-from-2021-03-22-15-45-28.png)\n",
        "\n",
        "Ez körülbelül 0,44. Tartsunk egy kis szünetet, és elemezzük ezeket a számokat.\n",
        "\n",
        "Most, hogy kiszámítsuk a felosztás Gini-szennyezettségét, mindkét csomópont súlyozott Gini-szennyezettségét vesszük, az átlag feletti és az átlag alatti értéket. Ebben az esetben egy csomópont súlya az adott csomópontban lévő minták száma osztva a szülő csomópontban lévő minták teljes számával. Tehát itt az átlag feletti csomópont esetében a súly 14/20 lesz, mivel az összes 20 diák közül 14 diákunk átlagon felül teljesített.\n",
        "\n",
        "Az átlag alatti csomópont súlya pedig 6/20. Tehát a súlyozott Gini-szennyezettség az adott csomópont súlyának és a csomópont Gini-szennyezettségének a szorzata lesz. A súlyozott Gini-tisztátalanság az osztálymegosztásban nyújtott teljesítményre a következő:\n",
        "\n",
        "![](https://cdn.analyticsvidhya.com/wp-content/uploads/2021/03/Screenshot-from-2021-03-22-15-49-28.png)\n",
        "\n",
        "Hasonlóképpen, itt is megragadtuk a Gini tisztázatlanságot az osztály szerinti felosztáshoz, ami körülbelül 0,32-nek felel meg.\n",
        "\n",
        "![](https://cdn.analyticsvidhya.com/wp-content/uploads/2021/03/Screenshot-from-2021-03-22-15-50-25-300x247.png)\n",
        "\n",
        "Most, ha összehasonlítjuk a két Gini-szennyeződést az egyes felosztásoknál-\n",
        "\n",
        "![](https://cdn.analyticsvidhya.com/wp-content/uploads/2021/03/Screenshot-from-2021-03-22-15-45-46.png)\n",
        "\n",
        "Láthatjuk, hogy a Gini-tisztaság az Osztályra vonatkozó megosztás esetében kisebb. Ezért az osztály lesz az első osztás ezen a döntési fán.\n",
        "\n",
        "![](https://cdn.analyticsvidhya.com/wp-content/uploads/2021/03/Screenshot-from-2021-03-22-15-54-22-768x543.png)\n",
        "\n",
        "Osztályonként megosztva\n",
        "\n",
        "Hasonlóképpen, minden egyes osztás esetében kiszámítjuk a Gini szennyeződéseket, és a legkisebb Gini szennyeződést eredményező osztást választjuk ki osztásként. És tudod, hogy a Gini impurity minimális értéke azt jelenti, hogy a csomópont tisztább és homogénebb lesz.\n",
        "\n"
      ],
      "metadata": {
        "id": "UrMnRLZJFqMd"
      }
    },
    {
      "cell_type": "markdown",
      "source": [
        "#Feladat\n",
        "A diabetes adatkészletet felhasználva döntési fával készítsen modellt"
      ],
      "metadata": {
        "id": "_rxygAkww133"
      }
    },
    {
      "cell_type": "code",
      "source": [
        "import pandas as pd\n",
        "\n",
        "# Load data using read_csv()\n",
        "df = pd.read_csv(\"https://raw.githubusercontent.com/karsarobert/Machine_Learning_2024/main/diabetes.csv\")\n",
        "\n",
        "y =\n",
        "X=\n",
        "df.head()"
      ],
      "metadata": {
        "id": "wYeiZAQlw_ll"
      },
      "execution_count": null,
      "outputs": []
    },
    {
      "cell_type": "code",
      "source": [],
      "metadata": {
        "id": "38N6XPqyaAYX"
      },
      "execution_count": null,
      "outputs": []
    },
    {
      "cell_type": "markdown",
      "source": [
        "#Adatok felosztása 80-20%"
      ],
      "metadata": {
        "id": "lOyMLgjhxw2X"
      }
    },
    {
      "cell_type": "code",
      "source": [
        "from sklearn.model_selection import train_test_split\n",
        "X_train, X_test, y_train, y_test = train_test_split(...)\n",
        "X_train.head()"
      ],
      "metadata": {
        "id": "fRkhQgRnxxAV"
      },
      "execution_count": null,
      "outputs": []
    },
    {
      "cell_type": "markdown",
      "source": [
        "#DecisionTreeClassifier modell létrehozása, illeztése\n",
        "max_depth paraméter kezdetben legyen 3"
      ],
      "metadata": {
        "id": "M2ZgqJM1xJgN"
      }
    },
    {
      "cell_type": "code",
      "source": [
        "import matplotlib.pyplot as plt\n",
        "from sklearn.tree import DecisionTreeClassifier\n",
        "\n",
        "model = DecisionTreeClassifier(max_depth = 20, random_state=1)\n",
        "model.fit(...)\n"
      ],
      "metadata": {
        "id": "jKtjZhIJxIb9"
      },
      "execution_count": null,
      "outputs": []
    },
    {
      "cell_type": "markdown",
      "source": [
        "#Számítsa ki a modell segítségével a teszt adatokhoz tartozó előrejelzéseket"
      ],
      "metadata": {
        "id": "sswXOUC30LV4"
      }
    },
    {
      "cell_type": "code",
      "source": [
        "y_test_pred = model.predict(...)\n"
      ],
      "metadata": {
        "id": "-CxuSeTIxZ6N"
      },
      "execution_count": null,
      "outputs": []
    },
    {
      "cell_type": "markdown",
      "source": [
        "#Számítsa ki a tévesztési (zavartsági) mátrixot"
      ],
      "metadata": {
        "id": "uQ4X3AObx1ul"
      }
    },
    {
      "cell_type": "code",
      "source": [
        "from sklearn.metrics import accuracy_score, confusion_matrix\n",
        "cnf_matrix = confusion_matrix(...)"
      ],
      "metadata": {
        "id": "QdXw22Aux15S"
      },
      "execution_count": null,
      "outputs": []
    },
    {
      "cell_type": "code",
      "source": [
        "import seaborn as sns\n",
        "\n",
        "ax = sns.heatmap(cnf_matrix, annot=True, cmap='Blues')\n",
        "ax.set_title('Zavartsági mátrix\\n\\n');\n",
        "ax.set_xlabel('\\nElőre jelzett értékek')\n",
        "ax.set_ylabel('Tényleges értékek ');\n"
      ],
      "metadata": {
        "id": "aV98OsWRO3me"
      },
      "execution_count": null,
      "outputs": []
    },
    {
      "cell_type": "markdown",
      "source": [
        "#Számítsa ki a modell pontosságát\n",
        "a logisztikus regresszióval ez 82 % volt"
      ],
      "metadata": {
        "id": "HFPM--6Fx9NN"
      }
    },
    {
      "cell_type": "code",
      "source": [
        "accuracy_score(...)"
      ],
      "metadata": {
        "id": "OISDsJcmx9Yu"
      },
      "execution_count": null,
      "outputs": []
    },
    {
      "cell_type": "code",
      "source": [
        "from sklearn.tree import plot_tree\n",
        "plt.figure()\n",
        "plot_tree(model, filled=True)\n",
        "plt.title(\"Döntési fa\")\n",
        "plt.show()"
      ],
      "metadata": {
        "id": "0r4FY-p95MCc"
      },
      "execution_count": null,
      "outputs": []
    },
    {
      "cell_type": "markdown",
      "source": [
        "# Összetettebb feladat megoldása döntési fával"
      ],
      "metadata": {
        "id": "1DrzgM9Tr2vB"
      }
    },
    {
      "cell_type": "code",
      "source": [
        "import numpy as np\n",
        "import pandas as pd\n",
        "import matplotlib.pyplot as plt\n",
        "df = pd.read_csv(\"https://raw.githubusercontent.com/karsarobert/Machine_Learning_2024/main/Movie_classification.csv\", header=0)\n",
        "df.head()\n"
      ],
      "metadata": {
        "id": "p8iGCaESQyrW"
      },
      "execution_count": null,
      "outputs": []
    },
    {
      "cell_type": "code",
      "source": [
        "df.info() # vannak hiányzó adatok!"
      ],
      "metadata": {
        "id": "kIcvJnliocZu"
      },
      "execution_count": null,
      "outputs": []
    },
    {
      "cell_type": "code",
      "source": [
        "df['Time_taken'].mean()"
      ],
      "metadata": {
        "id": "AE05ew-3og9i"
      },
      "execution_count": null,
      "outputs": []
    },
    {
      "cell_type": "code",
      "source": [
        "\n",
        "df['Time_taken'].fillna(value = df['Time_taken'].mean(), inplace = True) # hiányzó adatok pótlása egy másik módszerrel\n",
        "df.info()"
      ],
      "metadata": {
        "id": "C2mUucMAohc7"
      },
      "execution_count": null,
      "outputs": []
    },
    {
      "cell_type": "code",
      "source": [
        "df.head() # keressünk kategórikus oszlopokat"
      ],
      "metadata": {
        "id": "i_euJB8_onuC"
      },
      "execution_count": null,
      "outputs": []
    },
    {
      "cell_type": "code",
      "source": [
        "df = pd.get_dummies(df,columns = [\"3D_available\",\"Genre\"],drop_first = True) # pd dummies segítségével hasonló a one-hot encoding hoz\n",
        "df.head()"
      ],
      "metadata": {
        "id": "schacI2kouO6"
      },
      "execution_count": null,
      "outputs": []
    },
    {
      "cell_type": "code",
      "source": [
        "X = df.drop(['Start_Tech_Oscar'], axis = 1) # X,y beállítása\n",
        "y = df[\"Start_Tech_Oscar\"]"
      ],
      "metadata": {
        "id": "ps5QGcLGo2Zr"
      },
      "execution_count": null,
      "outputs": []
    },
    {
      "cell_type": "code",
      "source": [
        "from sklearn.model_selection import train_test_split\n",
        "X_train, X_test, y_train, y_test = train_test_split(X, y,test_size=0.2,random_state=0) # adatok felosztása 80-20 %\n",
        "X_train.head()"
      ],
      "metadata": {
        "id": "5WF9hBFcpM1k"
      },
      "execution_count": null,
      "outputs": []
    },
    {
      "cell_type": "code",
      "source": [
        "from sklearn import tree\n",
        "clftree = tree.DecisionTreeClassifier(max_depth = 20)\n",
        "clftree.fit(X_train, y_train)"
      ],
      "metadata": {
        "id": "nszXgWWXpUUb"
      },
      "execution_count": null,
      "outputs": []
    },
    {
      "cell_type": "code",
      "source": [
        "y_train_pred = clftree.predict(X_train)\n",
        "y_test_pred = clftree.predict(X_test)\n",
        "y_test_pred"
      ],
      "metadata": {
        "id": "8Vqfb3M6pV78"
      },
      "execution_count": null,
      "outputs": []
    },
    {
      "cell_type": "code",
      "source": [
        "from sklearn.metrics import accuracy_score, confusion_matrix\n",
        "confusion_matrix(y_train, y_train_pred) # a tréning adatok zavartsági mátrixa ezt csak a túlillesztés miatt számoljuk ki!"
      ],
      "metadata": {
        "id": "Bg33gZKJpb6M"
      },
      "execution_count": null,
      "outputs": []
    },
    {
      "cell_type": "code",
      "source": [
        "confusion_matrix(y_test, y_test_pred) # a teszt adatok zavartsági mátrixa EZ A LÉNYEGES ismeretlen adatokon így teljesít a modell!\n"
      ],
      "metadata": {
        "id": "Ei5LKGLPpkyD"
      },
      "execution_count": null,
      "outputs": []
    },
    {
      "cell_type": "code",
      "source": [
        "accuracy_score(y_test, y_test_pred) # modell pontossága"
      ],
      "metadata": {
        "id": "dhGVyEfdpn9U"
      },
      "execution_count": null,
      "outputs": []
    },
    {
      "cell_type": "code",
      "source": [
        "dot_data = tree.export_graphviz(clftree, out_file=None,feature_names= X_train.columns, filled = True)\n",
        "from IPython.display import Image\n",
        "import pydotplus\n",
        "graph = pydotplus.graph_from_dot_data(dot_data)\n",
        "Image(graph.create_png())"
      ],
      "metadata": {
        "id": "7SIShD5Kpt1N"
      },
      "execution_count": null,
      "outputs": []
    },
    {
      "cell_type": "code",
      "source": [
        "clftree2 = tree.DecisionTreeClassifier(min_samples_leaf = 20, max_depth=4)\n",
        "clftree2.fit(X_train, y_train)\n",
        "dot_data = tree.export_graphviz(clftree2, out_file=None,feature_names= X_train.columns, filled = True)\n",
        "graph2 = pydotplus.graph_from_dot_data(dot_data)\n",
        "Image(graph2.create_png())"
      ],
      "metadata": {
        "id": "FX4aDL0Rp6bL"
      },
      "execution_count": null,
      "outputs": []
    },
    {
      "cell_type": "markdown",
      "source": [
        "# Hiperparaméterek hangolása gridsearch segítségével"
      ],
      "metadata": {
        "id": "VSULQyzjxXhA"
      }
    },
    {
      "cell_type": "code",
      "source": [
        "from sklearn.model_selection import GridSearchCV # paraméterek hangolása\n",
        "rf_clf = tree.DecisionTreeClassifier()\n",
        "params_grid = {\"max_depth\" : [3,4,5,6,7,8,9,10],\n",
        "              \"min_samples_split\": [2, 3, 10, 20],\n",
        "              }\n",
        "grid_search = GridSearchCV(rf_clf, params_grid,\n",
        "                           n_jobs=-1, cv=5, scoring='accuracy')\n",
        "grid_search.fit(X, y)"
      ],
      "metadata": {
        "id": "rUab6fEKqId-"
      },
      "execution_count": null,
      "outputs": []
    },
    {
      "cell_type": "markdown",
      "source": [
        "![](https://stanford.edu/~shervine/teaching/cs-229/illustrations/cross-validation-en.png?0f7ada4dc141d0af6b12bb21cc431471)"
      ],
      "metadata": {
        "id": "hD-fvoMo77cO"
      }
    },
    {
      "cell_type": "markdown",
      "source": [
        "##Hiperparaméterek\n",
        "criterion : {\"gini\", \"entropia\", \"log_loss\"}, default=\"gini\"\n",
        "    A felosztás minőségének mérésére szolgáló függvény. A támogatott kritériumok a következők\n",
        "\"gini\" a Gini-tisztasághoz, valamint a \"log_loss\" és az \"entropia\" a Gini-tisztasághoz.\n",
        "Shannon információnyereség, lásd tree_matematical_formulation.\n",
        "\n",
        "splitter : {\"best\", \"random\"}, alapértelmezett=\"best\"\n",
        "    Az egyes csomópontoknál a felosztás kiválasztására használt stratégia. Támogatott\n",
        "stratégiák: \"best\" a legjobb felosztás kiválasztásához és \"random\" a legjobb felosztás kiválasztásához.\n",
        "a legjobb véletlenszerű felosztás kiválasztásához.\n",
        "\n",
        "max_depth : int, alapértelmezett=None\n",
        "    A fa maximális mélysége. Ha nincs, akkor a csomópontok addig bővülnek, amíg\n",
        "amíg minden levél tiszta, vagy amíg minden levél kevesebbet nem tartalmaz, mint\n",
        "min_samples_split minták.\n",
        "\n",
        "min_samples_split : int vagy float, alapértelmezett=2\n",
        "    Egy belső csomópont felosztásához szükséges minták minimális száma:\n",
        "\n",
        "\n",
        "Ha int, akkor a min_samples_split értéket tekintsük minimális számnak.\n",
        "\n",
        "Ha float, akkor a min_samples_split egy tört és\n",
        "ceil(min_samples_split * n_samples) a minimális érték.\n",
        "minták száma minden egyes felosztásnál.\n",
        "\n",
        "\n",
        "min_samples_leaf : int vagy float, alapértelmezett=1\n",
        "    A minták minimális száma, amely szükséges ahhoz, hogy egy levélcsomópontban legyen.\n",
        "Egy bármilyen mélységű osztási pont csak akkor lesz figyelembe véve, ha a következő ponton lép ki\n",
        "legalább min_samples_leaf képzési mintákat hagy mind a bal, mind a bal oldali és a bal oldali\n",
        "jobb ágon.  Ennek hatására a modell kisimulhat,\n",
        "különösen regresszió esetén."
      ],
      "metadata": {
        "id": "Q6jY134_8kmF"
      }
    },
    {
      "cell_type": "code",
      "source": [
        "grid_search.best_params_"
      ],
      "metadata": {
        "id": "fHSsYzrMqZh3"
      },
      "execution_count": null,
      "outputs": []
    },
    {
      "cell_type": "code",
      "source": [
        "cvrf_clf = grid_search.best_estimator_\n",
        "accuracy_score(y_test, cvrf_clf.predict(X_test))"
      ],
      "metadata": {
        "id": "tDvsG5Riq6XE"
      },
      "execution_count": null,
      "outputs": []
    },
    {
      "cell_type": "code",
      "source": [
        "cvrf_clf.fit(X_train, y_train)\n",
        "dot_data = tree.export_graphviz(cvrf_clf, out_file=None,feature_names= X_train.columns, filled = True)\n",
        "graph2 = pydotplus.graph_from_dot_data(dot_data)\n",
        "Image(graph2.create_png())"
      ],
      "metadata": {
        "id": "rwpRWl4CrD3i"
      },
      "execution_count": null,
      "outputs": []
    },
    {
      "cell_type": "markdown",
      "source": [
        "#Forrás\n",
        "https://www.analyticsvidhya.com/blog/2021/02/how-to-split-decision-tree-the-pursuit-to-achieve-purity/"
      ],
      "metadata": {
        "id": "SZF-ZhJM83Yh"
      }
    }
  ]
}