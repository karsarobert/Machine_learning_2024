{
  "nbformat": 4,
  "nbformat_minor": 5,
  "metadata": {
    "kernelspec": {
      "display_name": "Python 3",
      "language": "python",
      "name": "python3"
    },
    "language_info": {
      "codemirror_mode": {
        "name": "ipython",
        "version": 3
      },
      "file_extension": ".py",
      "mimetype": "text/x-python",
      "name": "python",
      "nbconvert_exporter": "python",
      "pygments_lexer": "ipython3",
      "version": "3.7.9"
    },
    "papermill": {
      "default_parameters": {},
      "duration": 6.500948,
      "end_time": "2021-06-04T13:14:06.786108",
      "environment_variables": {},
      "exception": null,
      "input_path": "__notebook__.ipynb",
      "output_path": "__notebook__.ipynb",
      "parameters": {},
      "start_time": "2021-06-04T13:14:00.285160",
      "version": "2.3.2"
    },
    "colab": {
      "provenance": [],
      "include_colab_link": true
    }
  },
  "cells": [
    {
      "cell_type": "markdown",
      "metadata": {
        "id": "view-in-github",
        "colab_type": "text"
      },
      "source": [
        "<a href=\"https://colab.research.google.com/github/karsarobert/Machine_learning_2024/blob/main/03/PTE_ML3_Feladatokkal.ipynb\" target=\"_parent\"><img src=\"https://colab.research.google.com/assets/colab-badge.svg\" alt=\"Open In Colab\"/></a>"
      ]
    },
    {
      "cell_type": "markdown",
      "source": [
        "# A mesterséges intelligencia matematikai alapjai gyakorlat\n",
        "# PTE Gépi tanulás\n",
        "\n",
        "## 3. Gyakorlat: Scikit learn, lineáris regresszió\n",
        "### 2024. február 20."
      ],
      "metadata": {
        "id": "H6O22kCk_0b3"
      },
      "id": "H6O22kCk_0b3"
    },
    {
      "cell_type": "markdown",
      "source": [
        "#Gépi tanulás definíció:\n",
        "Ha adott egy konkrét **T feladat** és **M teljesítménymetrika**,\n",
        " akkor **gépi tanulás**ról beszélünk, ha a rendszer egyre több\n",
        "**E tapasztalat/megfigyelés** begyűjtése esetén egyre jobban tudja megoldani a **T\n",
        " feladatot a M-ben mérve.**"
      ],
      "metadata": {
        "id": "zg_QpJiRPqn5"
      },
      "id": "zg_QpJiRPqn5"
    },
    {
      "cell_type": "markdown",
      "source": [
        "#Lineáris regresszió\n",
        "\n",
        "$y = \\beta_0 x + b+ ϵ    $\n",
        "\n",
        "Egyenes egyenlete:\n",
        "\n",
        "Egy változó esetén:\n",
        "\n",
        "$y = \\beta_0 x + b    $\n",
        "\n",
        "Általánosabb alak:\n",
        "\n",
        "$y = \\beta_0 x_0 + \\beta_1 x_1+ \\beta_2 x_2 + ... + b    $\n",
        "\n",
        "ahol x-ek a magyarázó változók, y a célváltozó béták pedig az együtthatók, amiket meg kell keresni."
      ],
      "metadata": {
        "id": "anRBscb-E50w"
      },
      "id": "anRBscb-E50w"
    },
    {
      "cell_type": "markdown",
      "source": [
        "![](http://rasbt.github.io/mlxtend/user_guide/regressor/LinearRegression_files/simple_regression.png)"
      ],
      "metadata": {
        "id": "1tlgM6da5agN"
      },
      "id": "1tlgM6da5agN"
    },
    {
      "cell_type": "markdown",
      "source": [
        "##Paraméterek meghatározása legkisebb négyzetek módszerével\n",
        "\n",
        "  **Normál egyenletek**\n",
        "\n",
        "  **QR-bontási módszer**\n",
        "\n",
        "  **SVD (Singular Value Decomposition) módszer**\n",
        "\n",
        "  **Gradiens süllyedés**\n",
        "\n",
        "  **Sztochasztikus gradiens süllyedés**\n"
      ],
      "metadata": {
        "id": "2GKCP23KMGxg"
      },
      "id": "2GKCP23KMGxg"
    },
    {
      "cell_type": "markdown",
      "source": [
        "#Első gépi tanulási feladat\n",
        "\n",
        "\n",
        "1.   T feladat a lakásárak előrejelzése\n",
        "2.   E tapasztalat a meglévő adatok az alábbi dataframe-ben\n",
        "3.   M metrika az abszolút hiba\n",
        "\n"
      ],
      "metadata": {
        "id": "6_L23hc13FMd"
      },
      "id": "6_L23hc13FMd"
    },
    {
      "cell_type": "code",
      "source": [
        "import warnings\n",
        "warnings.filterwarnings('ignore')\n",
        "warnings.simplefilter('ignore')"
      ],
      "metadata": {
        "id": "nslWhoJg1H41"
      },
      "id": "nslWhoJg1H41",
      "execution_count": null,
      "outputs": []
    },
    {
      "cell_type": "code",
      "source": [
        "import pandas as pd\n",
        "\n",
        "df_sim = pd.DataFrame(\n",
        "    {\n",
        "        'Alapterület': [10, 20, 33, 42, 55],\n",
        "        'Lakás ára': [800, 3000, 14000, 30000, 50000],\n",
        "    }\n",
        ")"
      ],
      "metadata": {
        "id": "Z5KjQhqIFHLQ"
      },
      "id": "Z5KjQhqIFHLQ",
      "execution_count": null,
      "outputs": []
    },
    {
      "cell_type": "code",
      "source": [
        "df_sim.set_index('Alapterület')[['Lakás ára']]"
      ],
      "metadata": {
        "id": "tCC5M02wFcJx"
      },
      "id": "tCC5M02wFcJx",
      "execution_count": null,
      "outputs": []
    },
    {
      "cell_type": "code",
      "source": [
        "import matplotlib.pyplot as plt\n",
        "\n",
        "plt.figure()\n",
        "df_sim.set_index('Alapterület').plot(title='Lakásárak', kind='line', marker='o', grid=True, )\n",
        "plt.ylabel('Ár')\n",
        "plt.show()\n",
        "\n"
      ],
      "metadata": {
        "id": "3-hTdScdFvSv"
      },
      "id": "3-hTdScdFvSv",
      "execution_count": null,
      "outputs": []
    },
    {
      "cell_type": "code",
      "source": [
        "from sklearn.linear_model import LinearRegression\n",
        "\n",
        "reg = LinearRegression()\n",
        "\n",
        "X = df_sim[['Alapterület']] #magyarázó változó\n",
        "y = df_sim['Lakás ára'] #eredmény változó\n",
        "\n",
        "reg.fit(X, y)\n",
        "\n",
        "df_sim['Prediktált lakásár'] = reg.predict(df_sim[['Alapterület']]) #becslés készítése a regressziós egyenes felhasználásával\n",
        "# az adatkeretbe felveszünk egy új oszlopot és megadjuk a hozzá tartozó értékeket"
      ],
      "metadata": {
        "id": "D7sI8JKoIVaR"
      },
      "id": "D7sI8JKoIVaR",
      "execution_count": null,
      "outputs": []
    },
    {
      "cell_type": "code",
      "source": [
        "print(\n",
        "    'Előre jelzett lakásár = {:.1f} + {:.1f} * Alapterület'.format(\n",
        "        reg.intercept_, reg.coef_[0],\n",
        "    )\n",
        ") #együtthatók kiiratása"
      ],
      "metadata": {
        "id": "QrCZwejJI_PZ"
      },
      "id": "QrCZwejJI_PZ",
      "execution_count": null,
      "outputs": []
    },
    {
      "cell_type": "code",
      "source": [
        "df_sim.set_index('Alapterület').plot(title='Lakásárak', kind='line', marker='o', grid=True, )\n",
        "plt.ylabel('Ár')\n",
        "plt.show()\n"
      ],
      "metadata": {
        "id": "2hwa-gJBJPIJ"
      },
      "id": "2hwa-gJBJPIJ",
      "execution_count": null,
      "outputs": []
    },
    {
      "cell_type": "markdown",
      "source": [
        "#Modellünk pontosságának értékelése\n",
        "A regresszióhoz négy általánosan használt mérőszám létezik: **R2 , MAE , MSE és RMSE** . Először írjuk meg a kódot, amely kiszámítja ezeket a mérőszámokat, és kinyomtatja az eredményeket:"
      ],
      "metadata": {
        "id": "7SymQbizerWO"
      },
      "id": "7SymQbizerWO"
    },
    {
      "cell_type": "markdown",
      "metadata": {
        "id": "2tfzF4LKIQij"
      },
      "source": [
        " regressziós problémák három gyakori értékelési metrika:\n",
        "\n",
        "> - **Az abszolút hiba átlaga** (MAE) a hibák abszolút értékének átlaga:\n",
        "$$\\frac 1n\\sum_{i=1}^n|y_i-\\hat{y}_i|$$\n",
        "\n",
        "> - **Négyzetes hiba átlaga** (MSE) a négyzetes hibák átlaga:\n",
        "$$\\frac 1n\\sum_{i=1}^n(y_i-\\hat{y}_i)^2$$\n",
        "\n",
        "> - **Négyzetes hiba gyökének átlaga** (RMSE) a négyzetes hibák középértékének négyzetgyöke:\n",
        "$$\\sqrt{\\frac 1n\\sum_{i=1}^n(y_i-\\hat{y}_i)^2}$$\n",
        "\n",
        "> 📌 Összehasonlítva ezeket a mérőszámokat:\n",
        "- A **MAE** a legkönnyebben érthető, mert ez az átlagos hiba.\n",
        "- A **MSE** népszerűbb, mint a MAE, mert az MSE \"megbünteti\" a nagyobb hibákat, ami a való világban általában hasznos.\n",
        "- Az **RMSE** még népszerűbb, mint az MSE, mert az RMSE \"y\" egységekben értelmezhető.\n",
        "\n",
        "> Ezek mind **költségfüggvények**, minimalizálni akarjuk őket.\n"
      ],
      "id": "2tfzF4LKIQij"
    },
    {
      "cell_type": "markdown",
      "source": [
        "Mostanra már tudnia kell, hogyan történik a MAE és az MSE kiszámítása. Ne feledje, hogy az MSE érzékenyebb a kiugró értékekre, mint a MAE . Ez az oka annak, hogy az alapvonalra vonatkozó átlagos becslések ott rosszul szerepeltek.\n",
        "\n",
        "**Ami az R2 - t illeti , nézzük meg a képletét:**\n",
        "\n",
        "$$R^2= 1-\\frac{\\sum_{}(y_i-\\hat{y}_i)^2}{\\sum_{}(y_i-{y}_m)^2}   $$\n",
        "\n",
        "A számláló valószínűleg az MSE -re emlékeztet . Alapvetően az összes előrejelzett érték és a hozzájuk tartozó tényleges értékek közötti különbségek négyzetét számítjuk ki.\n",
        "Ami a nevezőt illeti, a tényleges értékek átlagát használjuk pszeudobecslésként.\n",
        "Alapvetően ez a mérőszám azt mutatja meg, hogy mennyivel jobbak az előrejelzéseink ahhoz képest, hogy a cél átlagát használjuk becslésként.\n",
        "Az R 2 pontszám 1a legjobb, amit kaphatunk, és egy olyan érték, 0 amely azt jelenti, hogy nem kínáltunk többletértéket egy torzított modell használatához képest, amely csak az átlagra támaszkodik becslésként.\n",
        "A negatív pontszám azt jelenti, hogy a modellünket ki kell dobnunk a szemétbe, és helyette a célérték átlagát kell használni.\n",
        "Nyilvánvalóan az alapmodellben már a cél átlagát használtuk előrejelzésként. Ezért az R 2 pontszáma 0."
      ],
      "metadata": {
        "id": "NohKuBcdxG0e"
      },
      "id": "NohKuBcdxG0e"
    },
    {
      "cell_type": "code",
      "source": [
        "from sklearn.metrics import r2_score\n",
        "from sklearn.metrics import mean_absolute_error\n",
        "from sklearn.metrics import mean_squared_error\n",
        "\n",
        "y_pred= df_sim['Prediktált lakásár']\n",
        "\n",
        "print(\n",
        "    'R2 Regressor = {:.2f}'.format(\n",
        "        r2_score(y, y_pred)\n",
        "\n",
        "     )\n",
        ")\n",
        "print(\n",
        "    'MAE Regressor = {:.2f}'.format(\n",
        "        mean_absolute_error(y, y_pred)\n",
        "\n",
        "    )\n",
        ")\n",
        "print(\n",
        "    'MSE Regressor = {:.2f}'.format(\n",
        "        mean_squared_error(y, y_pred)\n",
        "\n",
        "    )\n",
        ")"
      ],
      "metadata": {
        "id": "Ym46cuASzmyK"
      },
      "execution_count": null,
      "outputs": [],
      "id": "Ym46cuASzmyK"
    },
    {
      "cell_type": "markdown",
      "source": [
        "#Q-Q plot\n",
        "\n",
        "A statisztikában a Q–Q plot ( kvantilis-kvantilis diagram ) egy valószínűségi diagram, egy grafikus módszer két valószínűségi eloszlás összehasonlítására úgy, hogy egymáshoz viszonyítva ábrázolják a kvantisokat. Ha az eloszlások lineárisan összefüggenek, akkor a Q–Q diagram pontjai hozzávetőlegesen egy egyenesen fekszenek. A Q–Q diagram az eloszlások alakjának összehasonlítására szolgál, grafikus képet adva arról, hogy az olyan tulajdonságok, mint a hely , a lépték és a ferdeség mennyire hasonlóak vagy különböznek a két eloszlásban."
      ],
      "metadata": {
        "id": "vpKl_3uH5gW3"
      },
      "id": "vpKl_3uH5gW3"
    },
    {
      "cell_type": "code",
      "source": [
        "from scipy.stats import probplot\n",
        "f = plt.figure(figsize=(7, 5))\n",
        "ax = f.add_subplot(111)\n",
        "tuple_out = probplot(y - y_pred , plot=ax)"
      ],
      "metadata": {
        "id": "lP-50iOBlr8R"
      },
      "id": "lP-50iOBlr8R",
      "execution_count": null,
      "outputs": []
    },
    {
      "cell_type": "code",
      "source": [
        "tuple_out[1] # (meredekség, metszéspont, r) a meredekség és a metszéspont a legkisebb négyzetek illesztéséből származik, az r pedig a determinációs együttható négyzetgyöke."
      ],
      "metadata": {
        "id": "qdhVhmAsnY5o"
      },
      "id": "qdhVhmAsnY5o",
      "execution_count": null,
      "outputs": []
    },
    {
      "cell_type": "markdown",
      "source": [
        "#Feladat\n",
        "Készítsünk egy adatkészletet, ahol X értékek 1 és 20 közötti egész számok! np.arange()\n",
        "Készítsünk hozzá célváltozót y ami megegyezik x-el és tartalmaz véletlenszerű zajt! np.random.uniform(tól, ig, mintaszám) segítségével\n",
        "Majd készítsünk hozzá egy regressziós modellt!\n",
        "Az eredményeket ábrázoljuk!\n",
        "\n",
        "\n",
        "\n",
        "\n",
        "\n",
        "\n"
      ],
      "metadata": {
        "id": "lSmuiGQGzOSS"
      },
      "id": "lSmuiGQGzOSS"
    },
    {
      "cell_type": "markdown",
      "source": [
        "#csomagok importálása dataframe létrehozása"
      ],
      "metadata": {
        "id": "G_UcptCooyDA"
      },
      "id": "G_UcptCooyDA"
    },
    {
      "cell_type": "code",
      "source": [
        "import pandas as pd\n",
        "import numpy as np\n",
        "\n",
        "df_feladat = pd.DataFrame(\n",
        "    {\n",
        "        'X': np.arange(... ,...),\n",
        "        'y': np.arange(...,... ) + np.random.uniform(..., ..., ...)*, # uniform distribution egyenletes eloszlás\n",
        "    }\n",
        ")\n",
        "df_feladat"
      ],
      "metadata": {
        "id": "Ocnj5vJLzfaa"
      },
      "id": "Ocnj5vJLzfaa",
      "execution_count": null,
      "outputs": []
    },
    {
      "cell_type": "markdown",
      "source": [
        "#dataframe index beállítása és y kirajzolása"
      ],
      "metadata": {
        "id": "8GlRcu7Oo1Y3"
      },
      "id": "8GlRcu7Oo1Y3"
    },
    {
      "cell_type": "code",
      "source": [
        "df_feladat...."
      ],
      "metadata": {
        "id": "9tzxh6QZ1e9A"
      },
      "id": "9tzxh6QZ1e9A",
      "execution_count": null,
      "outputs": []
    },
    {
      "cell_type": "markdown",
      "source": [
        "# lineáris regresszor betöltése, illesztése, prediktálás a df-be egy új oszoppba"
      ],
      "metadata": {
        "id": "UJDM7f9Uo8w3"
      },
      "id": "UJDM7f9Uo8w3"
    },
    {
      "cell_type": "code",
      "source": [
        "from sklearn.linear_model import LinearRegression\n",
        "\n",
        "reg = LinearRegression()\n",
        "\n",
        "X=...\n",
        "y=...\n",
        "\n",
        "reg.fit(..., ...)\n",
        "\n",
        "df_feladat['y_pred'] = ...\n",
        "\n",
        "y_pred=..."
      ],
      "metadata": {
        "id": "v8gjHNs52iui"
      },
      "id": "v8gjHNs52iui",
      "execution_count": null,
      "outputs": []
    },
    {
      "cell_type": "markdown",
      "source": [
        "# együtthatók kiírása"
      ],
      "metadata": {
        "id": "6ul2WUafo9X1"
      },
      "id": "6ul2WUafo9X1"
    },
    {
      "cell_type": "code",
      "source": [
        "print(\n",
        "    'y = {:.1f} + {:.1f} * x'.format(\n",
        "        reg.intercept_, reg.coef_[0],\n",
        "    )\n",
        ")"
      ],
      "metadata": {
        "id": "D3-M4XnJ29Eq"
      },
      "id": "D3-M4XnJ29Eq",
      "execution_count": null,
      "outputs": []
    },
    {
      "cell_type": "markdown",
      "source": [
        "# y adatpontok és az előrejelzés kirajzolása (a dataframe kirajzolása index beállítása)"
      ],
      "metadata": {
        "id": "tPTojb0xo-TH"
      },
      "id": "tPTojb0xo-TH"
    },
    {
      "cell_type": "code",
      "source": [
        "df_feladat.set_index(...).plot( )\n",
        "plt.ylabel(...)\n",
        "plt.show()"
      ],
      "metadata": {
        "id": "H_UAs9eQ3Nly"
      },
      "id": "H_UAs9eQ3Nly",
      "execution_count": null,
      "outputs": []
    },
    {
      "cell_type": "code",
      "source": [
        "print('MAE Regressor = {:.2f}'.format(mean_absolute_error(...  , ...)))"
      ],
      "metadata": {
        "id": "J1WXHrgI8FHW"
      },
      "id": "J1WXHrgI8FHW",
      "execution_count": null,
      "outputs": []
    },
    {
      "cell_type": "code",
      "source": [
        "from scipy.stats import probplot\n",
        "f = plt.figure(figsize=(7, 5))\n",
        "ax = f.add_subplot(111)\n",
        "tuple_out = probplot(y - y_pred , plot=ax)"
      ],
      "metadata": {
        "id": "lDjXXcAk9dSP"
      },
      "id": "lDjXXcAk9dSP",
      "execution_count": null,
      "outputs": []
    },
    {
      "cell_type": "markdown",
      "source": [
        "#Lineáris regreszió kétváltozós eset"
      ],
      "metadata": {
        "id": "6kp4qsDiCNt8"
      },
      "id": "6kp4qsDiCNt8"
    },
    {
      "cell_type": "code",
      "source": [
        "import pandas as pd\n",
        "\n",
        "# Load data using read_csv()\n",
        "df_adv = pd.read_csv(\"https://raw.githubusercontent.com/karsarobert/Machine_Learning_2024/main/Advertising.csv\")"
      ],
      "metadata": {
        "id": "rU2yGHeMCVb7"
      },
      "execution_count": null,
      "outputs": [],
      "id": "rU2yGHeMCVb7"
    },
    {
      "cell_type": "code",
      "source": [
        "df_adv.head()"
      ],
      "metadata": {
        "id": "b-nCMU19Ccdy"
      },
      "execution_count": null,
      "outputs": [],
      "id": "b-nCMU19Ccdy"
    },
    {
      "cell_type": "code",
      "source": [
        "df_adv = df_adv.drop('Radio',1) # A Radio oszlopot eldobjuk a dataframe-ből\n",
        "df_adv # két független változónk (x1, x2) maradt a TV és a Newspaper"
      ],
      "metadata": {
        "id": "FFIXStq_ChnT"
      },
      "execution_count": null,
      "outputs": [],
      "id": "FFIXStq_ChnT"
    },
    {
      "cell_type": "markdown",
      "source": [
        "#Feladat készítsük el a korrellációs mátrixot és értelmezzük azt!\n",
        "df.corr() segítségével"
      ],
      "metadata": {
        "id": "qp0zluEsiXO9"
      },
      "id": "qp0zluEsiXO9"
    },
    {
      "cell_type": "code",
      "source": [
        " corr = df_adv.corr() #.style.background_gradient(cmap='coolwarm').set_precision(2)\n",
        "\n",
        " corr.style.background_gradient(cmap='coolwarm').set_precision(2)"
      ],
      "metadata": {
        "id": "rW4gkibhidew"
      },
      "execution_count": null,
      "outputs": [],
      "id": "rW4gkibhidew"
    },
    {
      "cell_type": "code",
      "source": [
        "import seaborn as sns\n",
        "\n",
        "sns.set(style=\"ticks\", color_codes=True)\n",
        "sns.pairplot(df_adv,vars = [ 'TV','Newspaper'], hue=\"Sales\")\n",
        "plt.show()"
      ],
      "metadata": {
        "id": "1gxbo4Khaz1B"
      },
      "id": "1gxbo4Khaz1B",
      "execution_count": null,
      "outputs": []
    },
    {
      "cell_type": "code",
      "source": [
        "from sklearn.linear_model import LinearRegression\n",
        "\n",
        "Adv_reg = LinearRegression()\n",
        "X_adv = df_adv[['TV','Newspaper']] #magyarázó változók bemeneti adatok\n",
        "y_adv = df_adv['Sales'] # célváltozó kimeneti adat\n",
        "Adv_reg.fit(X_adv.values, y_adv.values)\n",
        "df_adv['Prediktált eladások'] = Adv_reg.predict(X_adv) #predikció kiszámítása"
      ],
      "metadata": {
        "id": "PtclMO7mFJZ3"
      },
      "execution_count": null,
      "outputs": [],
      "id": "PtclMO7mFJZ3"
    },
    {
      "cell_type": "code",
      "source": [
        "#!pip3 install ipympl # 3D-s ábrázoláshoz szükséges"
      ],
      "metadata": {
        "id": "1CfFPNkOZD8y"
      },
      "execution_count": null,
      "outputs": [],
      "id": "1CfFPNkOZD8y"
    },
    {
      "cell_type": "code",
      "source": [
        "from google.colab import output\n",
        "output.enable_custom_widget_manager()"
      ],
      "metadata": {
        "id": "CBA_EES0ZOx4"
      },
      "execution_count": null,
      "outputs": [],
      "id": "CBA_EES0ZOx4"
    },
    {
      "cell_type": "code",
      "source": [
        "import matplotlib.pyplot as plt\n",
        "import numpy as np\n",
        "\n",
        "#%matplotlib widget\n",
        "\n",
        "fig = plt.figure(figsize=(12, 9))\n",
        "ax = fig.add_subplot(projection='3d')\n",
        "\n",
        "x=X_adv['TV']\n",
        "y=X_adv['Newspaper']\n",
        "\n",
        "ax.scatter3D(x,y,y_adv, 'gray')\n",
        "\n",
        "x_range = np.arange(X_adv['Newspaper'].min(), X_adv['Newspaper'].max())\n",
        "y_range = np.arange(X_adv['TV'].min(), X_adv['TV'].max())\n",
        "X, Y = np.meshgrid(x_range, y_range)\n",
        "df = pd.DataFrame(\n",
        "    {\n",
        "        'x': X.ravel(),\n",
        "        'y': Y.ravel(),\n",
        "    }\n",
        ")\n",
        "Z = Adv_reg.predict(df).reshape(X.shape)\n",
        "\n",
        "ax.plot_surface(X, Y, Z , alpha=0.2)\n",
        "\n",
        "plt.show()"
      ],
      "metadata": {
        "id": "-MlcfM0wHVxr"
      },
      "id": "-MlcfM0wHVxr",
      "execution_count": null,
      "outputs": []
    },
    {
      "cell_type": "code",
      "source": [
        "from sklearn.metrics import mean_absolute_error\n",
        "\n",
        "mean_absolute_error(y_adv,df_adv['Prediktált eladások'])"
      ],
      "metadata": {
        "id": "nXOce86ociTL"
      },
      "execution_count": null,
      "outputs": [],
      "id": "nXOce86ociTL"
    },
    {
      "cell_type": "markdown",
      "source": [
        "#Feladat számítsuk ki az R2 és MSE hibákat!\n",
        "értelmezzük az eredményeket!\n"
      ],
      "metadata": {
        "id": "kCeG1SAfiBp8"
      },
      "id": "kCeG1SAfiBp8"
    },
    {
      "cell_type": "code",
      "source": [
        "from sklearn.metrics import r2_score\n",
        "from sklearn.metrics import mean_squared_error\n",
        "\n",
        "print(r2_score( ..., ...))\n",
        "print(mean_squared_error(..., ...))\n",
        "\n"
      ],
      "metadata": {
        "id": "ntqueqK7iLke"
      },
      "execution_count": null,
      "outputs": [],
      "id": "ntqueqK7iLke"
    },
    {
      "cell_type": "markdown",
      "metadata": {
        "papermill": {
          "duration": 0.005665,
          "end_time": "2021-06-04T13:12:49.538115",
          "exception": false,
          "start_time": "2021-06-04T13:12:49.532450",
          "status": "completed"
        },
        "tags": [],
        "id": "focused-flour"
      },
      "source": [
        "# Pandas használata az adatok megismeréséhez\n",
        "\n",
        "Minden gépi tanulási projekt első lépése az adatok megismerése.  Ehhez a Pandas könyvtárat fogod használni.  A Pandas az adattudósok elsődleges eszköze az adatok feltárására és manipulálására.  A legtöbb ember a kódjában a pandas-t `pd`-ként rövidíti.  Ezt a parancs segítségével tesszük meg"
      ],
      "id": "focused-flour"
    },
    {
      "cell_type": "code",
      "metadata": {
        "collapsed": true,
        "execution": {
          "iopub.execute_input": "2021-06-04T13:12:49.554657Z",
          "iopub.status.busy": "2021-06-04T13:12:49.553764Z",
          "iopub.status.idle": "2021-06-04T13:12:49.557160Z",
          "shell.execute_reply": "2021-06-04T13:12:49.556569Z"
        },
        "papermill": {
          "duration": 0.014261,
          "end_time": "2021-06-04T13:12:49.557323",
          "exception": false,
          "start_time": "2021-06-04T13:12:49.543062",
          "status": "completed"
        },
        "tags": [],
        "id": "major-friendly"
      },
      "source": [
        "import pandas as pd"
      ],
      "id": "major-friendly",
      "execution_count": null,
      "outputs": []
    },
    {
      "cell_type": "markdown",
      "metadata": {
        "papermill": {
          "duration": 0.004569,
          "end_time": "2021-06-04T13:12:49.567093",
          "exception": false,
          "start_time": "2021-06-04T13:12:49.562524",
          "status": "completed"
        },
        "tags": [],
        "id": "speaking-journalism"
      },
      "source": [
        "A Pandas könyvtár legfontosabb része a DataFrame (adatkeret).  A DataFrame olyan típusú adatokat tárol, amelyeket táblázatnak gondolhatunk. Ez hasonló az Excelben egy laphoz, vagy egy SQL-adatbázisban egy táblához.\n",
        "\n",
        "A Pandas hatékony módszerekkel rendelkezik a legtöbb olyan dologhoz, amit ilyen típusú adatokkal akarsz csinálni.  \n",
        "\n",
        "Példaként a Bostoni [lakásárakra vonatkozó adatokat] fogjuk megvizsgálni. A gyakorlati feladatokban ugyanazokat a folyamatokat fogja alkalmazni egy új adathalmazra, amely az iowai lakásárakat tartalmazza.\n",
        "\n",
        "Az adatokat a következő parancsokkal töltjük be és vizsgáljuk meg:\n"
      ],
      "id": "speaking-journalism"
    },
    {
      "cell_type": "code",
      "source": [
        "import pandas as pd\n",
        "\n",
        "# Load data using read_csv()\n",
        "Boston_dataset = pd.read_csv(\"https://raw.githubusercontent.com/karsarobert/Machine_Learning_2024/main/Boston.csv\")\n"
      ],
      "metadata": {
        "id": "kERtBX9LZcNj"
      },
      "id": "kERtBX9LZcNj",
      "execution_count": null,
      "outputs": []
    },
    {
      "cell_type": "markdown",
      "source": [
        "Ez az adatkészlet az Egyesült Államok Népszámlálási Szolgálata által gyűjtött információkat tartalmaz a Boston területén lévő lakhatási adatokról."
      ],
      "metadata": {
        "id": "GBMwG1G2ZwBI"
      },
      "id": "GBMwG1G2ZwBI"
    },
    {
      "cell_type": "code",
      "source": [
        "Boston_dataset.info() #506 db adat áll rendelkezésre"
      ],
      "metadata": {
        "id": "8VxtABCxUrLw"
      },
      "id": "8VxtABCxUrLw",
      "execution_count": null,
      "outputs": []
    },
    {
      "cell_type": "markdown",
      "metadata": {
        "id": "O_k_NJ_iVkkp"
      },
      "source": [
        "CRIM - az egy főre jutó bűnözési ráta városonként\n",
        "\n",
        "ZN - a 25 000 négyzetméternél nagyobb telkek számára kijelölt lakóterületek aránya.\n",
        "\n",
        "INDUS - a nem kiskereskedelmi célú üzleti területek aránya városonként.\n",
        "\n",
        "CHAS - Charles River dummy változó (1, ha a traktus a folyót határolja; 0 egyébként).\n",
        "\n",
        "NOX - nitrogén-oxidok koncentrációja (10 millió részecske per 10 millió).\n",
        "\n",
        "RM - az egy lakásra jutó szobák átlagos száma.\n",
        "\n",
        "AGE - az 1940 előtt épült, saját tulajdonú lakások aránya.\n",
        "\n",
        "DIS - súlyozott távolságok öt bostoni foglalkoztatási központhoz.\n",
        "\n",
        "RAD - a sugárirányú autópályák elérhetőségének indexe\n",
        "\n",
        "TAX - teljes értékű ingatlanadó mértéke 10 000 dollárra vetítve\n",
        "\n",
        "PTRATIO - tanuló-tanár arány városonként\n",
        "\n",
        "B - 1000(Bk - 0,63)^2 ahol Bk a feketék aránya városonként.\n",
        "\n",
        "LSTAT - a népesség alacsonyabb státuszú %-ának aránya\n",
        "\n",
        "MEDV - a saját tulajdonú lakások átlagos értéke 1000 dollárban kifejezve."
      ],
      "id": "O_k_NJ_iVkkp"
    },
    {
      "cell_type": "code",
      "metadata": {
        "id": "vHfsoZr7HwgA"
      },
      "source": [
        "Boston_dataset.head()"
      ],
      "id": "vHfsoZr7HwgA",
      "execution_count": null,
      "outputs": []
    },
    {
      "cell_type": "markdown",
      "metadata": {
        "papermill": {
          "duration": 0.00519,
          "end_time": "2021-06-04T13:12:49.767034",
          "exception": false,
          "start_time": "2021-06-04T13:12:49.761844",
          "status": "completed"
        },
        "tags": [],
        "id": "potential-ordinary"
      },
      "source": [
        "# Az adatok értelmezése, Exploratory Data Analysis EDA Feltáró adatelemzés\n",
        "\n",
        "\n",
        "\n",
        "Az eredmények az eredeti adatkészlet minden oszlopához 8 számot mutatnak. Az első szám, a **szám** azt mutatja, hogy hány sorban vannak nem hiányzó értékek.  \n",
        "\n",
        "Hiányzó értékek számos okból keletkeznek. Például a 2. hálószoba mérete nem kerülne összegyűjtésre egy 1 hálószobás ház felmérésekor. A hiányzó adatok témájára még visszatérünk.\n",
        "\n",
        "A második érték a **átlag**, amely az átlagot jelenti.  Ez alatt a **std** a szórás, amely azt méri, hogy az értékek számszerűen mennyire szóródnak.\n",
        "\n",
        "A **min**, **25%**, **50%**, **75%** és **max** értékek értelmezéséhez képzelje el, hogy az egyes oszlopokat a legalacsonyabb értéktől a legmagasabb értékig rendezi.  Az első (legkisebb) érték a min.(ha nincsenek kiugró értékek)  Ha a lista negyedéig haladunk, találunk egy olyan számot, amely nagyobb az értékek 25%-ánál és kisebb az értékek 75%-ánál.  Ez a **25%** érték (ejtsd: \"25. percentilis\").  Az 50. és 75. percentilisek meghatározása analóg módon történik, a **max** pedig a \"legnagyobb\" szám.\n",
        "\n"
      ],
      "id": "potential-ordinary"
    },
    {
      "cell_type": "code",
      "metadata": {
        "id": "if_qHQUcsqRk"
      },
      "source": [
        "Boston_dataset.describe()"
      ],
      "id": "if_qHQUcsqRk",
      "execution_count": null,
      "outputs": []
    },
    {
      "cell_type": "code",
      "metadata": {
        "id": "QPo8SfSEyXWj"
      },
      "source": [
        "Boston_dataset.isna()"
      ],
      "id": "QPo8SfSEyXWj",
      "execution_count": null,
      "outputs": []
    },
    {
      "cell_type": "code",
      "metadata": {
        "id": "vkUht4YzymOk"
      },
      "source": [
        "Boston_dataset.isna().sum()"
      ],
      "id": "vkUht4YzymOk",
      "execution_count": null,
      "outputs": []
    },
    {
      "cell_type": "code",
      "metadata": {
        "id": "Ro61Pw3qy5sX"
      },
      "source": [
        "import matplotlib.pyplot as plt\n",
        "\n",
        "plt.hist(Boston_dataset.rm, bins=10) #RM - az egy lakásra jutó szobák átlagos száma.\n",
        "plt.show()"
      ],
      "id": "Ro61Pw3qy5sX",
      "execution_count": null,
      "outputs": []
    },
    {
      "cell_type": "code",
      "source": [
        "plt.hist(Boston_dataset['rm'], bins=10)\n",
        "plt.show()"
      ],
      "metadata": {
        "id": "pjC0QCeB7_wJ"
      },
      "id": "pjC0QCeB7_wJ",
      "execution_count": null,
      "outputs": []
    },
    {
      "cell_type": "markdown",
      "source": [
        "#Feladat\n",
        "Készítsen pontdiagramot (plt.scatter(x,y)) a szobaszámok és az ár megoszlásáról!"
      ],
      "metadata": {
        "id": "k8tUS9aG8WzV"
      },
      "id": "k8tUS9aG8WzV"
    },
    {
      "cell_type": "code",
      "metadata": {
        "id": "vl_tqwXvzaEm"
      },
      "source": [
        "plt.figure(figsize=(6, 6))\n",
        "plt.scatter(Boston_dataset.  ,   Boston_dataset.    )\n",
        "plt.xlabel('átlagos szobaszám', fontsize=10)\n",
        "plt.ylabel('ár', fontsize=10)\n",
        "plt.title('Átlagos szobaszám adatok megoszlása az ár szerint', fontsize=12)\n"
      ],
      "id": "vl_tqwXvzaEm",
      "execution_count": null,
      "outputs": []
    },
    {
      "cell_type": "code",
      "metadata": {
        "id": "C_i6d7U-FkD4"
      },
      "source": [
        "from pandas.plotting import scatter_matrix\n",
        "\n",
        "scatter_matrix(Boston_dataset, figsize=(20, 20));\n"
      ],
      "id": "C_i6d7U-FkD4",
      "execution_count": null,
      "outputs": []
    },
    {
      "cell_type": "markdown",
      "source": [
        "CRIM - az egy főre jutó bűnözési ráta városonként\n",
        "\n",
        "ZN - a 25 000 négyzetméternél nagyobb telkek számára kijelölt lakóterületek aránya.\n",
        "\n",
        "INDUS - a nem kiskereskedelmi célú üzleti területek aránya városonként.\n",
        "\n",
        "CHAS - Charles River dummy változó (1, ha a traktus a folyót határolja; 0 egyébként).\n",
        "\n",
        "NOX - nitrogén-oxidok koncentrációja (10 millió részecske per 10 millió).\n",
        "\n",
        "RM - az egy lakásra jutó szobák átlagos száma.\n",
        "\n",
        "AGE - az 1940 előtt épült, saját tulajdonú lakások aránya.\n",
        "\n",
        "DIS - súlyozott távolságok öt bostoni foglalkoztatási központhoz.\n",
        "\n",
        "RAD - a sugárirányú autópályák elérhetőségének indexe\n",
        "\n",
        "TAX - teljes értékű ingatlanadó mértéke 10 000 dollárra vetítve\n",
        "\n",
        "PTRATIO - tanuló-tanár arány városonként\n",
        "\n",
        "B - 1000(Bk - 0,63)^2 ahol Bk a feketék aránya városonként.\n",
        "\n",
        "LSTAT - a népesség alacsonyabb státuszú %-ának aránya\n",
        "\n",
        "MEDV - a saját tulajdonú lakások átlagos értéke 1000 dollárban kifejezve."
      ],
      "metadata": {
        "id": "gfHajx31HOm-"
      },
      "id": "gfHajx31HOm-"
    },
    {
      "cell_type": "code",
      "source": [
        "import seaborn as sns\n",
        "\n",
        "sns.set(style=\"ticks\", color_codes=True)\n",
        "sns.pairplot(Boston_dataset,vars = [ 'rm','crim','age'], hue=\"medv\") #szobaszám, bűnözés, kor\n",
        "plt.show()"
      ],
      "metadata": {
        "id": "_l8Bp4c-bu8n"
      },
      "id": "_l8Bp4c-bu8n",
      "execution_count": null,
      "outputs": []
    },
    {
      "cell_type": "markdown",
      "source": [
        "#A multikollinearitás megértése\n",
        "A multikollinearitás a független (vagy előrejelző) változók közötti nagyon magas interkorrelációt vagy interasszociációt jelenti.\n",
        "\n",
        "A multikollinearitás akkor következik be, amikor a többszörös regressziós elemzés független változói erősen kapcsolódnak egymáshoz. Ezt az összefüggést a független változók közötti magas korreláció okozza. Ez a magas korreláció problémát okoz a lineáris regressziós modell előrejelzési eredményeiben."
      ],
      "metadata": {
        "id": "Ts9KG6NTIVLX"
      },
      "id": "Ts9KG6NTIVLX"
    },
    {
      "cell_type": "code",
      "source": [
        "corr = Boston_dataset.iloc[:,1:].corr()\n",
        "corr.style.background_gradient(cmap='coolwarm').set_precision(2)"
      ],
      "metadata": {
        "id": "Y4Yl8V0FE5iz"
      },
      "id": "Y4Yl8V0FE5iz",
      "execution_count": null,
      "outputs": []
    },
    {
      "cell_type": "markdown",
      "source": [
        "RAD - a sugárirányú autópályák elérhetőségének indexe\n",
        "\n",
        "TAX - teljes értékű ingatlanadó mértéke 10 000 dollárra vetítve"
      ],
      "metadata": {
        "id": "8qgGj39HXGGE"
      },
      "id": "8qgGj39HXGGE"
    },
    {
      "cell_type": "markdown",
      "metadata": {
        "papermill": {
          "duration": 0.010575,
          "end_time": "2021-06-04T13:12:41.014011",
          "exception": false,
          "start_time": "2021-06-04T13:12:41.003436",
          "status": "completed"
        },
        "tags": [],
        "id": "ig95g-KZmTKP"
      },
      "source": [
        "# Adatok kiválasztása a modellezéshez\n",
        "Az adatkészletedben túl sok változó volt ahhoz, hogy a fejedbe tudd venni, vagy akár szépen ki tudd nyomtatni.  Hogyan lehet ezt a túláradó adatmennyiséget olyanná szűkíteni, amit meg tud érteni?\n",
        "\n",
        "Kezdjük azzal, hogy kiválasztunk néhány változót az intuíciónk segítségével. A későbbi gyakorlatokon statisztikai technikákat mutatunk be a változók automatikus rangsorolásához.\n",
        "\n",
        "A változók/oszlopok kiválasztásához látnunk kell az adatállomány összes oszlopának listáját. Ezt a DataFrame **columns** tulajdonságával tehetjük meg (az alábbi kód alsó sora).\n",
        "\n"
      ],
      "id": "ig95g-KZmTKP"
    },
    {
      "cell_type": "code",
      "metadata": {
        "execution": {
          "iopub.execute_input": "2021-06-04T13:12:41.039336Z",
          "iopub.status.busy": "2021-06-04T13:12:41.038639Z",
          "iopub.status.idle": "2021-06-04T13:12:41.142449Z",
          "shell.execute_reply": "2021-06-04T13:12:41.141851Z"
        },
        "papermill": {
          "duration": 0.11779,
          "end_time": "2021-06-04T13:12:41.142597",
          "exception": false,
          "start_time": "2021-06-04T13:12:41.024807",
          "status": "completed"
        },
        "tags": [],
        "id": "educated-detail"
      },
      "source": [
        "import pandas as pd\n",
        "\n",
        "# Load data using read_csv()\n",
        "Boston_dataset = pd.read_csv(\"https://raw.githubusercontent.com/karsarobert/Machine_Learning_2024/main/Boston.csv\")\n",
        "Boston_dataset.columns"
      ],
      "id": "educated-detail",
      "execution_count": null,
      "outputs": []
    },
    {
      "cell_type": "code",
      "source": [
        "fig, ax = plt.subplots(1, 2, figsize=(16, 8))\n",
        "\n",
        "Boston_dataset['medv'].plot(\n",
        "    title='Lakás árak eloszlása', kind='hist', ax=ax[0]\n",
        ")\n",
        "Boston_dataset[['crim', 'zn', 'indus', 'chas', 'nox', 'rm', 'age', 'dis','rad', 'tax', 'ptratio', 'black', 'lstat']].mean().plot(\n",
        "    title='Egyes jellemzők átlagai', kind='bar', ax=ax[1]\n",
        ")\n",
        "\n",
        "fig.show()"
      ],
      "metadata": {
        "id": "KMKtoAKybrWv"
      },
      "id": "KMKtoAKybrWv",
      "execution_count": null,
      "outputs": []
    },
    {
      "cell_type": "markdown",
      "metadata": {
        "papermill": {
          "duration": 0.01124,
          "end_time": "2021-06-04T13:12:41.549877",
          "exception": false,
          "start_time": "2021-06-04T13:12:41.538637",
          "status": "completed"
        },
        "tags": [],
        "id": "numeric-sound"
      },
      "source": [
        "---\n",
        "# A modell felépítése\n",
        "\n",
        "A modellek létrehozásához az **scikit-learn** könyvtárat fogod használni.  Kódoláskor ezt a könyvtárat **sklearn** néven írjuk, ahogy a mintakódban is látni fogod. A Scikit-learn könnyen a legnépszerűbb könyvtár a DataFrame-ekben jellemzően tárolt adattípusok modellezésére.\n",
        "\n",
        "A modell építésének és használatának lépései a következők:\n",
        "* **Meghatározás:** Milyen típusú modell lesz?  Egy döntési fa?  Valamilyen más típusú modell? A modelltípus néhány egyéb paraméterét is meg kell határozni.\n",
        "* **Fit:** Minták rögzítése a megadott adatokból. Ez a modellezés lényege.\n",
        "* **Predict:** Pontosan az, aminek hangzik.\n",
        "* **Evaluate**: Annak meghatározása, hogy a modell előrejelzései mennyire pontosak.\n",
        "\n"
      ],
      "id": "numeric-sound"
    },
    {
      "cell_type": "markdown",
      "source": [
        "#Baseline\n",
        "A cél megoszlása ​​képet adott arról, hogy milyen hibaszintet tudunk elviselni. Ennek ellenére mindig hasznos összehasonlítani a végső modellünket valamivel. Ha az ingatlanszakmában lennénk, és emberi ügynököket használnának a lakásárak becslésére, akkor nagy valószínűséggel egy olyan modellt kellene felépíteniünk, amely jobban teljesít, mint az emberi ügynökök. Mindazonáltal, mivel nem ismerünk valós becsléseket, amelyekkel összehasonlíthatnánk a modellünket, helyette kitalálhatjuk a saját alapvonalunkat. Az átlagos lakásár 22.5. Ha olyan álmodellt építünk, amely a megadott adatoktól függetlenül az átlagárat adja vissza, akkor az ésszerű kiindulási érték lenne.\n",
        "\n"
      ],
      "metadata": {
        "id": "7sYHm_Eic9Fc"
      },
      "id": "7sYHm_Eic9Fc"
    },
    {
      "cell_type": "markdown",
      "metadata": {
        "papermill": {
          "duration": 0.00976,
          "end_time": "2021-06-04T13:12:41.240344",
          "exception": false,
          "start_time": "2021-06-04T13:12:41.230584",
          "status": "completed"
        },
        "tags": [],
        "id": "impressive-contest"
      },
      "source": [
        "Az adatok egy részhalmazának kiválasztására számos lehetőség van. Mi most két megközelítésre koncentrálunk.\n",
        "\n",
        "1. Pontjelölés, amelyet a \"predikciós célpont\" kiválasztására használunk.\n",
        "2. Kiválasztás oszloplistával, amelyet a \"jellemzők\" kiválasztására használunk.\n",
        "\n",
        "## A predikciós célpont kiválasztása\n",
        "Egy változót **pontjelöléssel** húzhatunk ki.  Ezt az egyetlen oszlopot egy **Series**-ben tároljuk, amely nagyjából olyan, mint egy DataFrame, csak egyetlen oszlopnyi adattal.  \n",
        "\n",
        "A pontjelölést arra fogjuk használni, hogy kiválasszuk a megjósolni kívánt oszlopot, amelyet **megjósolási célpontnak** nevezünk. A konvenció szerint az előrejelzési célt **y**-nak nevezzük. Tehát a Melbourne-i adatokban szereplő lakásárak elmentéséhez a következő kódra van szükségünk"
      ],
      "id": "impressive-contest"
    },
    {
      "cell_type": "code",
      "source": [
        "X = Boston_dataset[['crim', 'zn', 'indus', 'chas', 'nox', 'rm', 'age', 'dis','rad', 'tax', 'ptratio', 'black', 'lstat']]\n",
        "y = Boston_dataset.medv\n",
        "\n"
      ],
      "metadata": {
        "id": "u65Ut5_Gdnox"
      },
      "id": "u65Ut5_Gdnox",
      "execution_count": null,
      "outputs": []
    },
    {
      "cell_type": "markdown",
      "metadata": {
        "papermill": {
          "duration": 0.010437,
          "end_time": "2021-06-04T13:12:41.340727",
          "exception": false,
          "start_time": "2021-06-04T13:12:41.330290",
          "status": "completed"
        },
        "tags": [],
        "id": "prescribed-concentration"
      },
      "source": [
        "A független változókat **X**-nek nevezzük."
      ],
      "id": "prescribed-concentration"
    },
    {
      "cell_type": "markdown",
      "metadata": {
        "papermill": {
          "duration": 0.015006,
          "end_time": "2021-06-04T13:12:41.401671",
          "exception": false,
          "start_time": "2021-06-04T13:12:41.386665",
          "status": "completed"
        },
        "tags": [],
        "id": "treated-shame"
      },
      "source": [
        "Tekintsük át gyorsan az adatokat, amelyeket a lakásárak előrejelzésére fogunk használni a `describe` módszerrel és a `head` módszerrel, amely a felső néhány sort mutatja."
      ],
      "id": "treated-shame"
    },
    {
      "cell_type": "code",
      "metadata": {
        "execution": {
          "iopub.execute_input": "2021-06-04T13:12:41.437065Z",
          "iopub.status.busy": "2021-06-04T13:12:41.436428Z",
          "iopub.status.idle": "2021-06-04T13:12:41.465885Z",
          "shell.execute_reply": "2021-06-04T13:12:41.465471Z"
        },
        "papermill": {
          "duration": 0.047677,
          "end_time": "2021-06-04T13:12:41.465992",
          "exception": false,
          "start_time": "2021-06-04T13:12:41.418315",
          "status": "completed"
        },
        "tags": [],
        "id": "beginning-employment"
      },
      "source": [
        "X.describe()"
      ],
      "id": "beginning-employment",
      "execution_count": null,
      "outputs": []
    },
    {
      "cell_type": "markdown",
      "source": [
        "#Az adatok felosztása\n",
        "Ha kis adatkészletekről van szó, tanácsos elegendő adatot elkülöníteni a teszteléshez. Tehát adataink 60%-át képzésre és 40%-ra tesztelésre használjuk. train_test_splitfunkció használatával:"
      ],
      "metadata": {
        "id": "iqI-MXPBj2Ud"
      },
      "id": "iqI-MXPBj2Ud"
    },
    {
      "cell_type": "markdown",
      "metadata": {
        "papermill": {
          "duration": 0.007,
          "end_time": "2021-07-22T14:35:42.894764",
          "exception": false,
          "start_time": "2021-07-22T14:35:42.887764",
          "status": "completed"
        },
        "tags": [],
        "id": "42c85896"
      },
      "source": [
        "# Miért probléma ha nem osztom fel az adatokat\n",
        "\n",
        "A modell felépítéséhez és kiértékeléséhez is azonos \"mintát\" használtunk a házakból. Ez miért rossz.\n",
        "\n",
        "Képzeljük el, hogy a nagy ingatlanpiacon az ajtó színe nincs kapcsolatban a ház árával.\n",
        "\n",
        "A modell felépítéséhez használt adatmintában azonban a zöld ajtókkal rendelkező összes ház nagyon drága volt. A modell feladata az, hogy olyan mintákat találjon, amelyek előre jelzik a lakásárakat, így ezt a mintát látja, és mindig magas árakat fog jósolni a zöld ajtós lakásoknak.\n",
        "\n",
        "Mivel ez a minta a képzési adatokból származik, a modell pontosnak fog tűnni a képzési adatokban.\n",
        "\n",
        "De ha ez a minta nem áll fenn, amikor a modell új adatokat lát, akkor a modell a gyakorlatban nagyon pontatlan lesz.\n",
        "\n",
        "Mivel a modellek gyakorlati értéke abból származik, hogy új adatokon készítenek előrejelzéseket, a teljesítményt olyan adatokon mérjük, amelyeket nem használtunk a modell felépítéséhez. Ennek legegyszerűbb módja az, hogy kizárunk néhány adatot a modellépítés folyamatából, majd ezeket felhasználva teszteljük a modell pontosságát olyan adatokon, amelyeket korábban nem látott. Ezeket az adatokat **validálási adatoknak** nevezzük.\n",
        "\n",
        "\n",
        "\n",
        "# Adatok felosztása\n",
        "\n",
        "\n",
        "A scikit-learn könyvtár rendelkezik egy `train_test_split` függvénnyel, amely az adatokat két részre bontja. Az adatok egy részét képzési adatként használjuk a modell illesztéséhez, a többi adatot pedig validálási adatként használjuk a `mean_absolute_error` kiszámításához.\n",
        "\n",
        "Íme a kód:"
      ],
      "id": "42c85896"
    },
    {
      "cell_type": "markdown",
      "source": [
        "![](https://cdn.shortpixel.ai/spai/q_lossy+w_730+to_webp+ret_img/https://algotrading101.com/learn/wp-content/uploads/2020/06/training-validation-test-data-set.png)"
      ],
      "metadata": {
        "id": "Hk916Hhjwg32"
      },
      "id": "Hk916Hhjwg32"
    },
    {
      "cell_type": "code",
      "source": [
        "from sklearn.model_selection import train_test_split\n",
        "X_train, X_test, y_train, y_test = train_test_split(X, y, train_size=0.6)"
      ],
      "metadata": {
        "id": "b4radwB7jW-m"
      },
      "id": "b4radwB7jW-m",
      "execution_count": null,
      "outputs": []
    },
    {
      "cell_type": "markdown",
      "source": [
        "#Baseline modell megalkotása"
      ],
      "metadata": {
        "id": "ZF58M3wRLDoV"
      },
      "id": "ZF58M3wRLDoV"
    },
    {
      "cell_type": "code",
      "source": [
        "from sklearn.dummy import DummyRegressor\n",
        "\n",
        "baselin = DummyRegressor(strategy='mean')\n",
        "baselin.fit(X_train, y_train)\n",
        "\n",
        "y_baselin = baselin.predict(X_test)\n",
        "#y_baselin"
      ],
      "metadata": {
        "id": "MOTWz2kfc9X8"
      },
      "id": "MOTWz2kfc9X8",
      "execution_count": null,
      "outputs": []
    },
    {
      "cell_type": "markdown",
      "source": [
        "#A lineáris regresszor betanítása\n",
        "Az alapmodell kódja nem majdnem azonos a tényleges modellek kódjával? Ez a scikit-learn API szépsége. Ez azt jelenti, hogy amikor úgy döntünk, hogy megpróbálunk egy másik algoritmust – mondjuk az előző fejezet döntési fa algoritmusát –, akkor csak néhány kódsort kell módosítanunk. Egyébként itt van a lineáris regresszor kódja:"
      ],
      "metadata": {
        "id": "zqH6yglseH90"
      },
      "id": "zqH6yglseH90"
    },
    {
      "cell_type": "code",
      "source": [
        "from sklearn.linear_model import LinearRegression\n",
        "\n",
        "Boston_regressor = LinearRegression()\n",
        "Boston_regressor.fit(X_train, y_train)\n",
        "\n",
        "y_prediction = Boston_regressor.predict(X_test)"
      ],
      "metadata": {
        "id": "3WRgdGQMeHMV"
      },
      "id": "3WRgdGQMeHMV",
      "execution_count": null,
      "outputs": []
    },
    {
      "cell_type": "markdown",
      "metadata": {
        "papermill": {
          "duration": 0.00736,
          "end_time": "2021-07-22T14:35:41.504119",
          "exception": false,
          "start_time": "2021-07-22T14:35:41.496759",
          "status": "completed"
        },
        "tags": [],
        "id": "19157d65"
      },
      "source": [
        "Megépítettél egy modellt. De mennyire jó?\n",
        "\n",
        "Ebben a gyakorlatban megtanulja, hogyan használhatja a modell validálását a modell minőségének mérésére. A modell minőségének mérése a modell iteratív javításának kulcsa.\n",
        "\n",
        "# Mi a modell validálás\n",
        "\n",
        "Majdnem minden modellt, amelyet valaha is megalkotott, értékelni kell. A legtöbb (bár nem minden) alkalmazásban a modell minőségének releváns mérőszáma az előrejelzési pontosság. Más szóval, a modell előrejelzései közel állnak-e ahhoz, ami ténylegesen megtörténik.\n",
        "\n",
        "Sokan hatalmas hibát követnek el az előrejelzési pontosság mérésekor. Előrejelzéseket készítenek a *tréningadatokkal*, és ezeket az előrejelzéseket összehasonlítják a *tréningadatokban* szereplő célértékekkel. Egy pillanat múlva látni fogja, mi a probléma ezzel a megközelítéssel, és hogyan oldjuk meg, de előbb gondoljuk végig, hogyan csinálnánk ezt.\n",
        "\n",
        "Először is a modell minőségét kellene érthető módon összefoglalni. Ha összehasonlítjuk 10 000 ház előre jelzett és tényleges lakásárát, akkor valószínűleg jó és rossz előrejelzések keverékét találjuk. A 10 000 előre jelzett és tényleges értékek listájának átnézése értelmetlen lenne. Ezt egyetlen mérőszámban kell összefoglalnunk.\n",
        "\n",
        "A modellminőség összegzésére számos mérőszám létezik, de mi a **Mean Absolute Error** (más néven **MAE**) nevűvel kezdjük. Bontsuk le ezt a metrikát az utolsó szóval, a hibával kezdve.\n",
        "\n",
        "Az egyes házak előrejelzési hibája: <br>\n",
        "\n",
        "#error=actual-predicted\n",
        "\n",
        "\n",
        "Tehát, ha egy ház \\$150,000-ba kerül, és Ön azt jósolta, hogy \\$100,000-ba fog kerülni, a hiba \\$50,000.\n",
        "\n",
        "A MAE metrikával az egyes hibák abszolút értékét vesszük. Ez minden hibát pozitív számmá alakít. Ezután az abszolút hibák átlagát vesszük. Ez a modell minőségének mérőszáma. Egyszerűbben fogalmazva a következőképpen fejezhető ki\n",
        "\n",
        "> Az előrejelzéseink átlagosan körülbelül X-szel tévednek.\n",
        "\n",
        "A MAE kiszámításához először is szükségünk van egy modellre. Ezt egy rejtett cellában építjük fel, amelyet a `kód` gombra kattintva tekinthet meg."
      ],
      "id": "19157d65"
    },
    {
      "cell_type": "code",
      "source": [
        "from sklearn.metrics import r2_score\n",
        "from sklearn.metrics import mean_absolute_error\n",
        "from sklearn.metrics import mean_squared_error\n",
        "\n",
        "print(\n",
        "    'R2 Regressor = {:.2f} vs Baseline = {:.2f}'.format(\n",
        "        r2_score(y_test, y_prediction),\n",
        "        r2_score(y_test, y_baselin)\n",
        "     )\n",
        ")\n",
        "print(\n",
        "    'MAE Regressor = {:.2f} vs Baseline = {:.2f}'.format(\n",
        "        mean_absolute_error(y_test, y_prediction),\n",
        "        mean_absolute_error(y_test, y_baselin)\n",
        "    )\n",
        ")\n",
        "print(\n",
        "    'MSE Regressor = {:.2f} vs Baseline = {:.2f}'.format(\n",
        "        mean_squared_error(y_test, y_prediction),\n",
        "        mean_squared_error(y_test, y_baselin)\n",
        "    )\n",
        ")"
      ],
      "metadata": {
        "id": "i8mJEcSyevMv"
      },
      "id": "i8mJEcSyevMv",
      "execution_count": null,
      "outputs": []
    },
    {
      "cell_type": "markdown",
      "source": [
        "#A modell együtthatói\n",
        "azok jelentése"
      ],
      "metadata": {
        "id": "_gZj-PoENW_j"
      },
      "id": "_gZj-PoENW_j"
    },
    {
      "cell_type": "code",
      "source": [
        "Boston_dataset_feature_importance = pd.DataFrame(\n",
        "    {\n",
        "        'Features': X_train.columns,\n",
        "        'Coeff': Boston_regressor.coef_,\n",
        "        'ABS(Coeff)': abs(Boston_regressor.coef_),\n",
        "    }\n",
        ").set_index('Features').sort_values('Coeff', ascending=False)\n",
        "Boston_dataset_feature_importance"
      ],
      "metadata": {
        "id": "nByyMzrUlXzN"
      },
      "id": "nByyMzrUlXzN",
      "execution_count": null,
      "outputs": []
    },
    {
      "cell_type": "code",
      "source": [
        "\n",
        "Boston_dataset[['crim', 'zn', 'indus', 'chas', 'nox', 'rm', 'age', 'dis','rad', 'tax', 'ptratio', 'black', 'lstat']].mean().plot.bar()"
      ],
      "metadata": {
        "id": "4jrHpDNcim8q"
      },
      "id": "4jrHpDNcim8q",
      "execution_count": null,
      "outputs": []
    },
    {
      "cell_type": "code",
      "source": [
        "Boston_dataset.describe()"
      ],
      "metadata": {
        "id": "iPBAktGAmmJG"
      },
      "id": "iPBAktGAmmJG",
      "execution_count": null,
      "outputs": []
    },
    {
      "cell_type": "markdown",
      "source": [
        "Ideális esetben az egyes együtthatók értékének meg kell mondania, mennyire fontosak az egyes jellemzők. A magasabb abszolút érték, előjelétől függetlenül, nagyobb fontosságot tükröz.\n",
        "\n",
        "Ha ellenőrzi az adatokat, észre fogja venni, hogy a NOX maximális értéke , 0.87 míg TAX felmegy 711-ig. Ez azt jelenti, hogy ha NOX csak marginális jelentőségű, akkor együtthatója továbbra is magas lesz, hogy kiegyenlítse a kis értékét, míg a TAX esetén az együtthatója mindig kicsi magának a tulajdonságnak a magas értékéhez képest.\n",
        "Tehát a funkciókat úgy szeretnénk méretezni, hogy mindegyik hasonló tartományban maradjon. A következő részben látni fogjuk, hogyan méretezhetjük funkcióinkat."
      ],
      "metadata": {
        "id": "fxOxHm7RmACv"
      },
      "id": "fxOxHm7RmACv"
    },
    {
      "cell_type": "markdown",
      "source": [
        "#Méretezés értelmesebb együtthatókért\n",
        "A scikit-learnnek számos skálázója van. Mi most a MinMaxScalert fogjuk használni. Ha az alapértelmezett konfigurációval használja, akkor az összes értéket 0 és 1 között skálázza. A skálázót először fel kell szerelni a funkciók tartományának megismeréséhez. Az illesztést csak a X_train készleten szabad elvégezni . Ezután a skálázó transformfunkcióját használjuk mind a képzési, mind a teszt x halmaz skálázásához:"
      ],
      "metadata": {
        "id": "b4Yb5UY0nYXm"
      },
      "id": "b4Yb5UY0nYXm"
    },
    {
      "cell_type": "code",
      "source": [
        "from sklearn.linear_model import LinearRegression\n",
        "from sklearn.preprocessing import MinMaxScaler\n",
        "\n",
        "scaler = MinMaxScaler()\n",
        "Boston_regressor = LinearRegression()\n",
        "\n",
        "scaler.fit(X_train) # skálázó beállítása a képzési adatokon egyébként adatszivárgás!!!\n",
        "X_train_scaled = scaler.transform(X_train) # adatok átalakítása\n",
        "X_test_scaled = scaler.transform(X_test)\n",
        "\n",
        "Boston_regressor.fit(X_train_scaled, y_train) # modell illesztése\n",
        "y_test_pred = Boston_regressor.predict(X_test_scaled) # a modell a teszt értékek alapján kiszámolja a kimenetet"
      ],
      "metadata": {
        "id": "CIMY_m68oFHj"
      },
      "id": "CIMY_m68oFHj",
      "execution_count": null,
      "outputs": []
    },
    {
      "cell_type": "code",
      "source": [
        "X_train_scaled.describe()"
      ],
      "metadata": {
        "id": "s0GT3RAcyMRW"
      },
      "id": "s0GT3RAcyMRW",
      "execution_count": null,
      "outputs": []
    },
    {
      "cell_type": "markdown",
      "source": [
        "Ennek a kódnak van egy rövidített változata egy adatkészlet illesztésére, majd átalakítására. Más szóval, a következő, megjegyzés nélküli sor veszi át a két kommentált sor helyét:"
      ],
      "metadata": {
        "id": "KgDtVhLNoxEs"
      },
      "id": "KgDtVhLNoxEs"
    },
    {
      "cell_type": "code",
      "source": [
        "# scaler.fit(X_train)\n",
        "# X_train_scaled = scaler.transform(X_train)\n",
        "X_train_scaled = scaler.fit_transform(X_train)"
      ],
      "metadata": {
        "id": "-fT_-EPYozFE"
      },
      "id": "-fT_-EPYozFE",
      "execution_count": null,
      "outputs": []
    },
    {
      "cell_type": "code",
      "source": [
        "Boston_dataset_feature_importance = pd.DataFrame(\n",
        "    {\n",
        "        'Features': X_train.columns,\n",
        "        'Coeff': Boston_regressor.coef_,\n",
        "        'ABS(Coeff)': abs(Boston_regressor.coef_),\n",
        "    }\n",
        ").set_index('Features').sort_values('Coeff', ascending=False)\n",
        "Boston_dataset_feature_importance"
      ],
      "metadata": {
        "id": "YxLp7AARpIju"
      },
      "id": "YxLp7AARpIju",
      "execution_count": null,
      "outputs": []
    },
    {
      "cell_type": "markdown",
      "metadata": {
        "papermill": {
          "duration": 0.009966,
          "end_time": "2021-06-04T13:12:41.291058",
          "exception": false,
          "start_time": "2021-06-04T13:12:41.281092",
          "status": "completed"
        },
        "tags": [],
        "id": "awful-candidate"
      },
      "source": [
        "# A \"Jellemzők\" kiválasztása\n",
        "A modellünkbe bevitt (és később előrejelzések készítéséhez használt) oszlopokat \"jellemzőknek\" nevezzük. A mi esetünkben ezek lennének azok az oszlopok, amelyeket a lakásár meghatározásához használunk. Néha a célérték kivételével az összes oszlopot feature-ként használja. Máskor jobban járunk kevesebb jellemzővel.\n",
        "\n",
        "Egyelőre csak néhány jellemzőt tartalmazó modellt építünk. Később látni fogja, hogyan lehet iterálni és összehasonlítani a különböző jellemzőkkel épített modelleket.\n",
        "\n",
        "Több jellemzőt úgy választunk ki, hogy megadjuk az oszlopnevek listáját zárójelben. A lista minden egyes elemének egy karakterláncnak kell lennie (idézőjelekkel).\n",
        "\n"
      ],
      "id": "awful-candidate"
    },
    {
      "cell_type": "markdown",
      "source": [
        "#Nézzük meg a 6 legfontosabb oszlopot (jellemzőt)!"
      ],
      "metadata": {
        "id": "iRd1AmWMQXMM"
      },
      "id": "iRd1AmWMQXMM"
    },
    {
      "cell_type": "code",
      "source": [
        "important_featurs = Boston_dataset_feature_importance.sort_values('ABS(Coeff)', ascending=False).index.tolist()[:6]\n",
        "\n",
        "fig, axs = plt.subplots(1, len(important_featurs), figsize=(16, 5))\n",
        "\n",
        "fig.suptitle(\"Jellemzők vs Ár\", fontsize=14)\n",
        "\n",
        "for i, feature in enumerate(important_featurs):\n",
        "\n",
        "    Boston_dataset.plot(\n",
        "        kind='scatter',\n",
        "        x=feature,\n",
        "        y='medv',\n",
        "        ax=axs[i]\n",
        "    )\n",
        "\n",
        "fig.show()"
      ],
      "metadata": {
        "id": "zs7O_5Xiqoh5"
      },
      "id": "zs7O_5Xiqoh5",
      "execution_count": null,
      "outputs": []
    },
    {
      "cell_type": "markdown",
      "source": [
        "Ezek a képek nem tűnnek túl lineárisnak, és egy lineáris modell nem fogja tudni megragadni ezt a nemlinearitást.\n",
        "Bár a lineáris modellt nem alakíthatjuk át nemlineárissá, az adatokat mégis átalakíthatjuk helyette.\n",
        "Képzeld el a következőképpen: ha y x2 függvénye , akkor vagy nemlineáris modellt használhatunk – olyat, amely képes rögzíteni az x és y közötti másodfokú összefüggést – vagy egyszerűen kiszámíthatjuk x2 -t és megadhatjuk egy lineáris modellnek."
      ],
      "metadata": {
        "id": "Th3zydUcrQ6l"
      },
      "id": "Th3zydUcrQ6l"
    },
    {
      "cell_type": "code",
      "source": [],
      "metadata": {
        "id": "9qxOF4GKzjkl"
      },
      "id": "9qxOF4GKzjkl",
      "execution_count": null,
      "outputs": []
    }
  ]
}