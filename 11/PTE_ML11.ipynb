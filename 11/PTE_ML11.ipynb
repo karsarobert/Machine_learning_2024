{
  "nbformat": 4,
  "nbformat_minor": 0,
  "metadata": {
    "colab": {
      "provenance": [],
      "authorship_tag": "ABX9TyPyNsnIruC9h/yDLfnSNhKp",
      "include_colab_link": true
    },
    "kernelspec": {
      "name": "python3",
      "display_name": "Python 3"
    },
    "language_info": {
      "name": "python"
    }
  },
  "cells": [
    {
      "cell_type": "markdown",
      "metadata": {
        "id": "view-in-github",
        "colab_type": "text"
      },
      "source": [
        "<a href=\"https://colab.research.google.com/github/karsarobert/Machine_learning_2024/blob/main/11/PTE_ML11.ipynb\" target=\"_parent\"><img src=\"https://colab.research.google.com/assets/colab-badge.svg\" alt=\"Open In Colab\"/></a>"
      ]
    },
    {
      "cell_type": "markdown",
      "source": [
        "# A mesterséges intelligencia matematikai alapjai gyakorlat\n",
        "# PTE Gépi tanulás\n",
        "\n",
        "## 11. Gyakorlat: Nem felügyelt tanítási módszerek\n",
        "### 2024. május 07."
      ],
      "metadata": {
        "id": "xyyM5JTGzZJN"
      }
    },
    {
      "cell_type": "markdown",
      "source": [
        "![image.png](data:image/png;base64,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)"
      ],
      "metadata": {
        "id": "LzQWcQBLyyeb"
      }
    },
    {
      "cell_type": "markdown",
      "source": [
        "#Főkomponens-elemzés\n",
        "Eddig a felügyelt tanulási eszközöket vizsgáltuk meg alaposan: azokat a becslőket, amelyek címkézett képzési adatok alapján jelzik előre a címkéket. Most azonban olyan felügyelet nélküli becslőket fogunk vizsgálni, amelyek ismert címkékre való hivatkozás nélkül képesek kiemelni az adatok érdekes aspektusait.\n",
        "\n",
        "Az egyik legszélesebb körben használt algoritmust, a főkomponens-elemzést (PCA) vizsgáljuk meg. A PCA alapvetően egy dimenziócsökkentő algoritmus, de hasznos lehet a vizualizáció, a zajszűrés, a jellemzőkivonás és a mérnöki munka eszközeként is, és még sok minden másra."
      ],
      "metadata": {
        "id": "AKSR5HLvfrw3"
      }
    },
    {
      "cell_type": "markdown",
      "source": [
        "#Az adatok dimenziószámának csökkentése\n",
        "A dimenzionalitás vagy a dimenziócsökkentés nagyszámú attribútum vagy oszlop (jellemző) kisebb számú attribútumra való kicsinyítését jelenti. Ennek a technikának az a fő célja, hogy a lehető legjobb számú jellemzőt szerezze be az osztályozáshoz, a regresszióhoz és más, nem felügyelt megközelítésekhez. A gépi tanulás során a dimenzionalitás átkának nevezett problémával kell szembenéznünk. Ez az a hely, ahol nagyszámú attribútum vagy tulajdonság található. Ez több adatot jelent, összetett modelleket és túlillesztési problémákat okozva.\n",
        "\n",
        "A dimenziócsökkentés segít megbirkózni a dimenzionalitás átkával. Adatokat képes lineárisan és nemlineárisan átalakítani. A lineáris transzformációk technikái közé tartozik a PCA, a lineáris diszkriminanciaanalízis és a faktoranalízis. A nemlineáris transzformációk közé tartoznak az olyan technikák, mint a t-SNE, a Hess-féle sajáttérképek, a spektrális beágyazás és az izometrikus jellemzőleképezés. A dimenziócsökkentés a következő előnyökkel jár:\n",
        "\n",
        "- Kiszűri a redundáns és kevésbé fontos tulajdonságokat.\n",
        "- Csökkenti a modell bonyolultságát kevesebb dimenziós adattal.\n",
        "- Csökkenti a memória- és számítási költségeket a modellgeneráláshoz.\n",
        "- Nagy dimenziós adatokat jelenít meg."
      ],
      "metadata": {
        "id": "TUmJAr9Cy9NI"
      }
    },
    {
      "cell_type": "markdown",
      "source": [
        "# Főkomponens elemzés\n",
        "A PCA az adatokat komponensek sorozatára bontja, ahol minden komponens egy-egy információforrást képvisel az adatokon belül. Ahogy a neve is mutatja, a PCA-ban előállított első komponens, a főkomponens tartalmazza az adatokon belüli információ vagy variancia többségét. A főkomponens gyakran úgy tekinthető, hogy az átlag mellett a legtöbb érdekes információval járul hozzá. Minden további komponenssel kevesebb információ, de több finomság kerül a tömörített adatokba. Ha az összes komponenst együttesen vesszük figyelembe, akkor a PCA használatának nem lesz semmi haszna, mivel az eredeti adatkészletet kapjuk vissza. Először át kell tekintenünk néhány alapvető statisztikai fogalmat, amelyek a PCA-számítások elvégzéséhez szükségesek.\n",
        "\n",
        "##Átlag\n",
        "Az átlag vagy átlagérték egyszerűen az összes érték összeadása osztva a halmazban lévő értékek számával.\n",
        "\n",
        "##Szórás\n",
        "A varianciához kapcsolódik, a szórás annak mérőszáma, hogy az adatok mekkora része fekszik az átlaghoz közel. Egy normális eloszlású adathalmazban az adathalmaz körülbelül 68%-a az átlagtól számított egy szóráson belül van, (vagyis az (átlag - 1*std) és (átlag + 1*std) között az adatok 68%-a található, ha az adatok normális eloszlásúak).\n",
        "\n",
        "![](https://wikimedia.org/api/rest_v1/media/math/render/svg/2d72b47d032547f4563d74886c791a13a9e3946f)\n",
        "\n",
        "A variancia és a szórás közötti kapcsolat meglehetősen egyszerű - a variancia a szórás négyzete.\n",
        "\n",
        "##Kovariancia\n",
        "Míg a szórás vagy variancia az adatok egyetlen dimenzióra számított szórása, addig a kovariancia az egyik dimenzió (vagy jellemző) varianciája egy másikhoz képest. Ha egy dimenzió kovarianciáját önmagához viszonyítva számítjuk ki, az eredmény ugyanaz, mintha egyszerűen kiszámítanánk a dimenzió varianciáját.\n",
        "\n",
        "![](https://wikimedia.org/api/rest_v1/media/math/render/svg/3339dba1f3415b03f6309cefb634a2f56d7af378)\n",
        "\n",
        "##Kovariancia mátrix\n",
        "A kovariancia-mátrix egy mátrix, amely egy adathalmazra kiszámítható lehetséges kovarianciaértékeket reprezentál. A kovarianciamátrixok azon túl, hogy különösen hasznosak az adatok feltárása során, az adathalmaz PCA-jának végrehajtásához is szükségesek. Az egyik jellemző varianciájának egy másikhoz viszonyított meghatározásához egyszerűen megkeressük a megfelelő értéket a kovarianciamátrixban. Az alábbi ábrán látható, hogy az 1. oszlop 2. sorában az érték az Y jellemző vagy adatkészlet X-hez viszonyított varianciája (cov(Y, X)). Azt is láthatjuk, hogy van egy átlós oszlop, amely az azonos jellemző vagy adatkészlet tekintetében számított kovarianciaértékeket tartalmazza;\n",
        "például cov(X, X). Ebben a helyzetben az érték egyszerűen az X varianciája:\n",
        "\n",
        "![](https://wikimedia.org/api/rest_v1/media/math/render/svg/95e481dd6cc34bd3b21e0d9088d5cd97a7ebac14)\n",
        "\n",
        "Jellemzően az egyes kovarianciák pontos értékei nem annyira érdekesek, mint a mátrixon belüli egyes kovarianciák nagyságának és relatív méretének vizsgálata. Az egyik jellemzőnek a másikhoz viszonyított kovarianciájának nagy értéke arra utal, hogy az egyik jellemző jelentősen változik a másikhoz képest, míg a nullához közeli érték nagyon kis változást jelentene. A kovariancia másik érdekes aspektusa, amelyre figyelni kell, a kovarianciához kapcsolódó előjel; a pozitív érték azt jelzi, hogy ahogy az egyik jellemző nő vagy csökken, úgy nő vagy csökken a másik is, míg a negatív kovariancia azt jelzi, hogy a két jellemző eltér egymástól, az egyik nő, miközben a másik csökken, vagy fordítva.\n",
        "\n",
        "Szerencsére a numpy és a scipy függvények hatékonyan elvégzik ezeket a számításokat. A következő gyakorlatban Pythonban fogjuk kiszámítani ezeket az értékeket.\n",
        "\n",
        "##Gyakorlat: Az átlag, a szórás és a variancia kiszámítása a pandas könyvtár segítségével\n",
        "Ebben a gyakorlatban röviden áttekintjük, hogyan számolhatunk ki néhány alapvető statisztikai fogalmat a numpy és a pandas Python csomagok segítségével. Ebben a gyakorlatban egy olyan adathalmazt fogunk használni, amely különböző búzafajták magjainak méréseit tartalmazza, és amelyet röntgensugaras képalkotás segítségével hoztunk létre. Az adatkészlet három különböző búzafajta hét egyedi mérését tartalmazza (A terület, P kerület, C tömörség, LK maghossz, WK magszélesség, A_Coef aszimmetria együttható és LKG magbarázda hossza): Kama, Rosa és Canadian.\n"
      ],
      "metadata": {
        "id": "6_DmL96kgvbo"
      }
    },
    {
      "cell_type": "code",
      "source": [
        "import pandas as pd\n",
        "import numpy as np\n",
        "import matplotlib.pyplot as plt\n",
        "\n",
        "df = pd.read_csv('https://raw.githubusercontent.com/prasertcbs/basic-dataset/master/Seed_Data.csv')\n",
        "df.head()"
      ],
      "metadata": {
        "id": "JZmcnlqoDApE",
        "colab": {
          "base_uri": "https://localhost:8080/",
          "height": 206
        },
        "outputId": "cb78d507-67b9-49a9-f1ba-e8948c97d55d"
      },
      "execution_count": null,
      "outputs": [
        {
          "output_type": "execute_result",
          "data": {
            "text/plain": [
              "       A      P       C     LK     WK  A_Coef    LKG  target\n",
              "0  15.26  14.84  0.8710  5.763  3.312   2.221  5.220       0\n",
              "1  14.88  14.57  0.8811  5.554  3.333   1.018  4.956       0\n",
              "2  14.29  14.09  0.9050  5.291  3.337   2.699  4.825       0\n",
              "3  13.84  13.94  0.8955  5.324  3.379   2.259  4.805       0\n",
              "4  16.14  14.99  0.9034  5.658  3.562   1.355  5.175       0"
            ],
            "text/html": [
              "\n",
              "  <div id=\"df-06a0981b-5fc2-4fe8-a1a9-f00ba1b60d2a\">\n",
              "    <div class=\"colab-df-container\">\n",
              "      <div>\n",
              "<style scoped>\n",
              "    .dataframe tbody tr th:only-of-type {\n",
              "        vertical-align: middle;\n",
              "    }\n",
              "\n",
              "    .dataframe tbody tr th {\n",
              "        vertical-align: top;\n",
              "    }\n",
              "\n",
              "    .dataframe thead th {\n",
              "        text-align: right;\n",
              "    }\n",
              "</style>\n",
              "<table border=\"1\" class=\"dataframe\">\n",
              "  <thead>\n",
              "    <tr style=\"text-align: right;\">\n",
              "      <th></th>\n",
              "      <th>A</th>\n",
              "      <th>P</th>\n",
              "      <th>C</th>\n",
              "      <th>LK</th>\n",
              "      <th>WK</th>\n",
              "      <th>A_Coef</th>\n",
              "      <th>LKG</th>\n",
              "      <th>target</th>\n",
              "    </tr>\n",
              "  </thead>\n",
              "  <tbody>\n",
              "    <tr>\n",
              "      <th>0</th>\n",
              "      <td>15.26</td>\n",
              "      <td>14.84</td>\n",
              "      <td>0.8710</td>\n",
              "      <td>5.763</td>\n",
              "      <td>3.312</td>\n",
              "      <td>2.221</td>\n",
              "      <td>5.220</td>\n",
              "      <td>0</td>\n",
              "    </tr>\n",
              "    <tr>\n",
              "      <th>1</th>\n",
              "      <td>14.88</td>\n",
              "      <td>14.57</td>\n",
              "      <td>0.8811</td>\n",
              "      <td>5.554</td>\n",
              "      <td>3.333</td>\n",
              "      <td>1.018</td>\n",
              "      <td>4.956</td>\n",
              "      <td>0</td>\n",
              "    </tr>\n",
              "    <tr>\n",
              "      <th>2</th>\n",
              "      <td>14.29</td>\n",
              "      <td>14.09</td>\n",
              "      <td>0.9050</td>\n",
              "      <td>5.291</td>\n",
              "      <td>3.337</td>\n",
              "      <td>2.699</td>\n",
              "      <td>4.825</td>\n",
              "      <td>0</td>\n",
              "    </tr>\n",
              "    <tr>\n",
              "      <th>3</th>\n",
              "      <td>13.84</td>\n",
              "      <td>13.94</td>\n",
              "      <td>0.8955</td>\n",
              "      <td>5.324</td>\n",
              "      <td>3.379</td>\n",
              "      <td>2.259</td>\n",
              "      <td>4.805</td>\n",
              "      <td>0</td>\n",
              "    </tr>\n",
              "    <tr>\n",
              "      <th>4</th>\n",
              "      <td>16.14</td>\n",
              "      <td>14.99</td>\n",
              "      <td>0.9034</td>\n",
              "      <td>5.658</td>\n",
              "      <td>3.562</td>\n",
              "      <td>1.355</td>\n",
              "      <td>5.175</td>\n",
              "      <td>0</td>\n",
              "    </tr>\n",
              "  </tbody>\n",
              "</table>\n",
              "</div>\n",
              "      <button class=\"colab-df-convert\" onclick=\"convertToInteractive('df-06a0981b-5fc2-4fe8-a1a9-f00ba1b60d2a')\"\n",
              "              title=\"Convert this dataframe to an interactive table.\"\n",
              "              style=\"display:none;\">\n",
              "        \n",
              "  <svg xmlns=\"http://www.w3.org/2000/svg\" height=\"24px\"viewBox=\"0 0 24 24\"\n",
              "       width=\"24px\">\n",
              "    <path d=\"M0 0h24v24H0V0z\" fill=\"none\"/>\n",
              "    <path d=\"M18.56 5.44l.94 2.06.94-2.06 2.06-.94-2.06-.94-.94-2.06-.94 2.06-2.06.94zm-11 1L8.5 8.5l.94-2.06 2.06-.94-2.06-.94L8.5 2.5l-.94 2.06-2.06.94zm10 10l.94 2.06.94-2.06 2.06-.94-2.06-.94-.94-2.06-.94 2.06-2.06.94z\"/><path d=\"M17.41 7.96l-1.37-1.37c-.4-.4-.92-.59-1.43-.59-.52 0-1.04.2-1.43.59L10.3 9.45l-7.72 7.72c-.78.78-.78 2.05 0 2.83L4 21.41c.39.39.9.59 1.41.59.51 0 1.02-.2 1.41-.59l7.78-7.78 2.81-2.81c.8-.78.8-2.07 0-2.86zM5.41 20L4 18.59l7.72-7.72 1.47 1.35L5.41 20z\"/>\n",
              "  </svg>\n",
              "      </button>\n",
              "      \n",
              "  <style>\n",
              "    .colab-df-container {\n",
              "      display:flex;\n",
              "      flex-wrap:wrap;\n",
              "      gap: 12px;\n",
              "    }\n",
              "\n",
              "    .colab-df-convert {\n",
              "      background-color: #E8F0FE;\n",
              "      border: none;\n",
              "      border-radius: 50%;\n",
              "      cursor: pointer;\n",
              "      display: none;\n",
              "      fill: #1967D2;\n",
              "      height: 32px;\n",
              "      padding: 0 0 0 0;\n",
              "      width: 32px;\n",
              "    }\n",
              "\n",
              "    .colab-df-convert:hover {\n",
              "      background-color: #E2EBFA;\n",
              "      box-shadow: 0px 1px 2px rgba(60, 64, 67, 0.3), 0px 1px 3px 1px rgba(60, 64, 67, 0.15);\n",
              "      fill: #174EA6;\n",
              "    }\n",
              "\n",
              "    [theme=dark] .colab-df-convert {\n",
              "      background-color: #3B4455;\n",
              "      fill: #D2E3FC;\n",
              "    }\n",
              "\n",
              "    [theme=dark] .colab-df-convert:hover {\n",
              "      background-color: #434B5C;\n",
              "      box-shadow: 0px 1px 3px 1px rgba(0, 0, 0, 0.15);\n",
              "      filter: drop-shadow(0px 1px 2px rgba(0, 0, 0, 0.3));\n",
              "      fill: #FFFFFF;\n",
              "    }\n",
              "  </style>\n",
              "\n",
              "      <script>\n",
              "        const buttonEl =\n",
              "          document.querySelector('#df-06a0981b-5fc2-4fe8-a1a9-f00ba1b60d2a button.colab-df-convert');\n",
              "        buttonEl.style.display =\n",
              "          google.colab.kernel.accessAllowed ? 'block' : 'none';\n",
              "\n",
              "        async function convertToInteractive(key) {\n",
              "          const element = document.querySelector('#df-06a0981b-5fc2-4fe8-a1a9-f00ba1b60d2a');\n",
              "          const dataTable =\n",
              "            await google.colab.kernel.invokeFunction('convertToInteractive',\n",
              "                                                     [key], {});\n",
              "          if (!dataTable) return;\n",
              "\n",
              "          const docLinkHtml = 'Like what you see? Visit the ' +\n",
              "            '<a target=\"_blank\" href=https://colab.research.google.com/notebooks/data_table.ipynb>data table notebook</a>'\n",
              "            + ' to learn more about interactive tables.';\n",
              "          element.innerHTML = '';\n",
              "          dataTable['output_type'] = 'display_data';\n",
              "          await google.colab.output.renderOutput(dataTable, element);\n",
              "          const docLink = document.createElement('div');\n",
              "          docLink.innerHTML = docLinkHtml;\n",
              "          element.appendChild(docLink);\n",
              "        }\n",
              "      </script>\n",
              "    </div>\n",
              "  </div>\n",
              "  "
            ]
          },
          "metadata": {},
          "execution_count": 49
        }
      ]
    },
    {
      "cell_type": "code",
      "source": [
        "df.describe()"
      ],
      "metadata": {
        "colab": {
          "base_uri": "https://localhost:8080/",
          "height": 300
        },
        "id": "pAFW8pB_o5TT",
        "outputId": "1143fd6b-93b3-463f-de36-0ebbd21a619c"
      },
      "execution_count": null,
      "outputs": [
        {
          "output_type": "execute_result",
          "data": {
            "text/plain": [
              "                A           P           C          LK          WK      A_Coef  \\\n",
              "count  210.000000  210.000000  210.000000  210.000000  210.000000  210.000000   \n",
              "mean    14.847524   14.559286    0.870999    5.628533    3.258605    3.700201   \n",
              "std      2.909699    1.305959    0.023629    0.443063    0.377714    1.503557   \n",
              "min     10.590000   12.410000    0.808100    4.899000    2.630000    0.765100   \n",
              "25%     12.270000   13.450000    0.856900    5.262250    2.944000    2.561500   \n",
              "50%     14.355000   14.320000    0.873450    5.523500    3.237000    3.599000   \n",
              "75%     17.305000   15.715000    0.887775    5.979750    3.561750    4.768750   \n",
              "max     21.180000   17.250000    0.918300    6.675000    4.033000    8.456000   \n",
              "\n",
              "              LKG      target  \n",
              "count  210.000000  210.000000  \n",
              "mean     5.408071    1.000000  \n",
              "std      0.491480    0.818448  \n",
              "min      4.519000    0.000000  \n",
              "25%      5.045000    0.000000  \n",
              "50%      5.223000    1.000000  \n",
              "75%      5.877000    2.000000  \n",
              "max      6.550000    2.000000  "
            ],
            "text/html": [
              "\n",
              "  <div id=\"df-73c0124f-84e4-4b41-8d39-c21538299233\">\n",
              "    <div class=\"colab-df-container\">\n",
              "      <div>\n",
              "<style scoped>\n",
              "    .dataframe tbody tr th:only-of-type {\n",
              "        vertical-align: middle;\n",
              "    }\n",
              "\n",
              "    .dataframe tbody tr th {\n",
              "        vertical-align: top;\n",
              "    }\n",
              "\n",
              "    .dataframe thead th {\n",
              "        text-align: right;\n",
              "    }\n",
              "</style>\n",
              "<table border=\"1\" class=\"dataframe\">\n",
              "  <thead>\n",
              "    <tr style=\"text-align: right;\">\n",
              "      <th></th>\n",
              "      <th>A</th>\n",
              "      <th>P</th>\n",
              "      <th>C</th>\n",
              "      <th>LK</th>\n",
              "      <th>WK</th>\n",
              "      <th>A_Coef</th>\n",
              "      <th>LKG</th>\n",
              "      <th>target</th>\n",
              "    </tr>\n",
              "  </thead>\n",
              "  <tbody>\n",
              "    <tr>\n",
              "      <th>count</th>\n",
              "      <td>210.000000</td>\n",
              "      <td>210.000000</td>\n",
              "      <td>210.000000</td>\n",
              "      <td>210.000000</td>\n",
              "      <td>210.000000</td>\n",
              "      <td>210.000000</td>\n",
              "      <td>210.000000</td>\n",
              "      <td>210.000000</td>\n",
              "    </tr>\n",
              "    <tr>\n",
              "      <th>mean</th>\n",
              "      <td>14.847524</td>\n",
              "      <td>14.559286</td>\n",
              "      <td>0.870999</td>\n",
              "      <td>5.628533</td>\n",
              "      <td>3.258605</td>\n",
              "      <td>3.700201</td>\n",
              "      <td>5.408071</td>\n",
              "      <td>1.000000</td>\n",
              "    </tr>\n",
              "    <tr>\n",
              "      <th>std</th>\n",
              "      <td>2.909699</td>\n",
              "      <td>1.305959</td>\n",
              "      <td>0.023629</td>\n",
              "      <td>0.443063</td>\n",
              "      <td>0.377714</td>\n",
              "      <td>1.503557</td>\n",
              "      <td>0.491480</td>\n",
              "      <td>0.818448</td>\n",
              "    </tr>\n",
              "    <tr>\n",
              "      <th>min</th>\n",
              "      <td>10.590000</td>\n",
              "      <td>12.410000</td>\n",
              "      <td>0.808100</td>\n",
              "      <td>4.899000</td>\n",
              "      <td>2.630000</td>\n",
              "      <td>0.765100</td>\n",
              "      <td>4.519000</td>\n",
              "      <td>0.000000</td>\n",
              "    </tr>\n",
              "    <tr>\n",
              "      <th>25%</th>\n",
              "      <td>12.270000</td>\n",
              "      <td>13.450000</td>\n",
              "      <td>0.856900</td>\n",
              "      <td>5.262250</td>\n",
              "      <td>2.944000</td>\n",
              "      <td>2.561500</td>\n",
              "      <td>5.045000</td>\n",
              "      <td>0.000000</td>\n",
              "    </tr>\n",
              "    <tr>\n",
              "      <th>50%</th>\n",
              "      <td>14.355000</td>\n",
              "      <td>14.320000</td>\n",
              "      <td>0.873450</td>\n",
              "      <td>5.523500</td>\n",
              "      <td>3.237000</td>\n",
              "      <td>3.599000</td>\n",
              "      <td>5.223000</td>\n",
              "      <td>1.000000</td>\n",
              "    </tr>\n",
              "    <tr>\n",
              "      <th>75%</th>\n",
              "      <td>17.305000</td>\n",
              "      <td>15.715000</td>\n",
              "      <td>0.887775</td>\n",
              "      <td>5.979750</td>\n",
              "      <td>3.561750</td>\n",
              "      <td>4.768750</td>\n",
              "      <td>5.877000</td>\n",
              "      <td>2.000000</td>\n",
              "    </tr>\n",
              "    <tr>\n",
              "      <th>max</th>\n",
              "      <td>21.180000</td>\n",
              "      <td>17.250000</td>\n",
              "      <td>0.918300</td>\n",
              "      <td>6.675000</td>\n",
              "      <td>4.033000</td>\n",
              "      <td>8.456000</td>\n",
              "      <td>6.550000</td>\n",
              "      <td>2.000000</td>\n",
              "    </tr>\n",
              "  </tbody>\n",
              "</table>\n",
              "</div>\n",
              "      <button class=\"colab-df-convert\" onclick=\"convertToInteractive('df-73c0124f-84e4-4b41-8d39-c21538299233')\"\n",
              "              title=\"Convert this dataframe to an interactive table.\"\n",
              "              style=\"display:none;\">\n",
              "        \n",
              "  <svg xmlns=\"http://www.w3.org/2000/svg\" height=\"24px\"viewBox=\"0 0 24 24\"\n",
              "       width=\"24px\">\n",
              "    <path d=\"M0 0h24v24H0V0z\" fill=\"none\"/>\n",
              "    <path d=\"M18.56 5.44l.94 2.06.94-2.06 2.06-.94-2.06-.94-.94-2.06-.94 2.06-2.06.94zm-11 1L8.5 8.5l.94-2.06 2.06-.94-2.06-.94L8.5 2.5l-.94 2.06-2.06.94zm10 10l.94 2.06.94-2.06 2.06-.94-2.06-.94-.94-2.06-.94 2.06-2.06.94z\"/><path d=\"M17.41 7.96l-1.37-1.37c-.4-.4-.92-.59-1.43-.59-.52 0-1.04.2-1.43.59L10.3 9.45l-7.72 7.72c-.78.78-.78 2.05 0 2.83L4 21.41c.39.39.9.59 1.41.59.51 0 1.02-.2 1.41-.59l7.78-7.78 2.81-2.81c.8-.78.8-2.07 0-2.86zM5.41 20L4 18.59l7.72-7.72 1.47 1.35L5.41 20z\"/>\n",
              "  </svg>\n",
              "      </button>\n",
              "      \n",
              "  <style>\n",
              "    .colab-df-container {\n",
              "      display:flex;\n",
              "      flex-wrap:wrap;\n",
              "      gap: 12px;\n",
              "    }\n",
              "\n",
              "    .colab-df-convert {\n",
              "      background-color: #E8F0FE;\n",
              "      border: none;\n",
              "      border-radius: 50%;\n",
              "      cursor: pointer;\n",
              "      display: none;\n",
              "      fill: #1967D2;\n",
              "      height: 32px;\n",
              "      padding: 0 0 0 0;\n",
              "      width: 32px;\n",
              "    }\n",
              "\n",
              "    .colab-df-convert:hover {\n",
              "      background-color: #E2EBFA;\n",
              "      box-shadow: 0px 1px 2px rgba(60, 64, 67, 0.3), 0px 1px 3px 1px rgba(60, 64, 67, 0.15);\n",
              "      fill: #174EA6;\n",
              "    }\n",
              "\n",
              "    [theme=dark] .colab-df-convert {\n",
              "      background-color: #3B4455;\n",
              "      fill: #D2E3FC;\n",
              "    }\n",
              "\n",
              "    [theme=dark] .colab-df-convert:hover {\n",
              "      background-color: #434B5C;\n",
              "      box-shadow: 0px 1px 3px 1px rgba(0, 0, 0, 0.15);\n",
              "      filter: drop-shadow(0px 1px 2px rgba(0, 0, 0, 0.3));\n",
              "      fill: #FFFFFF;\n",
              "    }\n",
              "  </style>\n",
              "\n",
              "      <script>\n",
              "        const buttonEl =\n",
              "          document.querySelector('#df-73c0124f-84e4-4b41-8d39-c21538299233 button.colab-df-convert');\n",
              "        buttonEl.style.display =\n",
              "          google.colab.kernel.accessAllowed ? 'block' : 'none';\n",
              "\n",
              "        async function convertToInteractive(key) {\n",
              "          const element = document.querySelector('#df-73c0124f-84e4-4b41-8d39-c21538299233');\n",
              "          const dataTable =\n",
              "            await google.colab.kernel.invokeFunction('convertToInteractive',\n",
              "                                                     [key], {});\n",
              "          if (!dataTable) return;\n",
              "\n",
              "          const docLinkHtml = 'Like what you see? Visit the ' +\n",
              "            '<a target=\"_blank\" href=https://colab.research.google.com/notebooks/data_table.ipynb>data table notebook</a>'\n",
              "            + ' to learn more about interactive tables.';\n",
              "          element.innerHTML = '';\n",
              "          dataTable['output_type'] = 'display_data';\n",
              "          await google.colab.output.renderOutput(dataTable, element);\n",
              "          const docLink = document.createElement('div');\n",
              "          docLink.innerHTML = docLinkHtml;\n",
              "          element.appendChild(docLink);\n",
              "        }\n",
              "      </script>\n",
              "    </div>\n",
              "  </div>\n",
              "  "
            ]
          },
          "metadata": {},
          "execution_count": 2
        }
      ]
    },
    {
      "cell_type": "markdown",
      "source": [
        "Nekünk csak a területre, A-ra és a maghosszra LK van szükségünk, ezért a többi oszlopot távolítsuk el."
      ],
      "metadata": {
        "id": "eNKMj_GwgXuL"
      }
    },
    {
      "cell_type": "code",
      "source": [
        "df = df[['A', 'LK']]\n",
        "df.head()"
      ],
      "metadata": {
        "colab": {
          "base_uri": "https://localhost:8080/",
          "height": 206
        },
        "id": "43KmOaH8kWhh",
        "outputId": "a8cc2af9-9e0b-4f54-d913-0dec8f485589"
      },
      "execution_count": null,
      "outputs": [
        {
          "output_type": "execute_result",
          "data": {
            "text/plain": [
              "       A     LK\n",
              "0  15.26  5.763\n",
              "1  14.88  5.554\n",
              "2  14.29  5.291\n",
              "3  13.84  5.324\n",
              "4  16.14  5.658"
            ],
            "text/html": [
              "\n",
              "  <div id=\"df-84ae3339-a141-4e73-8f9d-11d30f1ff911\">\n",
              "    <div class=\"colab-df-container\">\n",
              "      <div>\n",
              "<style scoped>\n",
              "    .dataframe tbody tr th:only-of-type {\n",
              "        vertical-align: middle;\n",
              "    }\n",
              "\n",
              "    .dataframe tbody tr th {\n",
              "        vertical-align: top;\n",
              "    }\n",
              "\n",
              "    .dataframe thead th {\n",
              "        text-align: right;\n",
              "    }\n",
              "</style>\n",
              "<table border=\"1\" class=\"dataframe\">\n",
              "  <thead>\n",
              "    <tr style=\"text-align: right;\">\n",
              "      <th></th>\n",
              "      <th>A</th>\n",
              "      <th>LK</th>\n",
              "    </tr>\n",
              "  </thead>\n",
              "  <tbody>\n",
              "    <tr>\n",
              "      <th>0</th>\n",
              "      <td>15.26</td>\n",
              "      <td>5.763</td>\n",
              "    </tr>\n",
              "    <tr>\n",
              "      <th>1</th>\n",
              "      <td>14.88</td>\n",
              "      <td>5.554</td>\n",
              "    </tr>\n",
              "    <tr>\n",
              "      <th>2</th>\n",
              "      <td>14.29</td>\n",
              "      <td>5.291</td>\n",
              "    </tr>\n",
              "    <tr>\n",
              "      <th>3</th>\n",
              "      <td>13.84</td>\n",
              "      <td>5.324</td>\n",
              "    </tr>\n",
              "    <tr>\n",
              "      <th>4</th>\n",
              "      <td>16.14</td>\n",
              "      <td>5.658</td>\n",
              "    </tr>\n",
              "  </tbody>\n",
              "</table>\n",
              "</div>\n",
              "      <button class=\"colab-df-convert\" onclick=\"convertToInteractive('df-84ae3339-a141-4e73-8f9d-11d30f1ff911')\"\n",
              "              title=\"Convert this dataframe to an interactive table.\"\n",
              "              style=\"display:none;\">\n",
              "        \n",
              "  <svg xmlns=\"http://www.w3.org/2000/svg\" height=\"24px\"viewBox=\"0 0 24 24\"\n",
              "       width=\"24px\">\n",
              "    <path d=\"M0 0h24v24H0V0z\" fill=\"none\"/>\n",
              "    <path d=\"M18.56 5.44l.94 2.06.94-2.06 2.06-.94-2.06-.94-.94-2.06-.94 2.06-2.06.94zm-11 1L8.5 8.5l.94-2.06 2.06-.94-2.06-.94L8.5 2.5l-.94 2.06-2.06.94zm10 10l.94 2.06.94-2.06 2.06-.94-2.06-.94-.94-2.06-.94 2.06-2.06.94z\"/><path d=\"M17.41 7.96l-1.37-1.37c-.4-.4-.92-.59-1.43-.59-.52 0-1.04.2-1.43.59L10.3 9.45l-7.72 7.72c-.78.78-.78 2.05 0 2.83L4 21.41c.39.39.9.59 1.41.59.51 0 1.02-.2 1.41-.59l7.78-7.78 2.81-2.81c.8-.78.8-2.07 0-2.86zM5.41 20L4 18.59l7.72-7.72 1.47 1.35L5.41 20z\"/>\n",
              "  </svg>\n",
              "      </button>\n",
              "      \n",
              "  <style>\n",
              "    .colab-df-container {\n",
              "      display:flex;\n",
              "      flex-wrap:wrap;\n",
              "      gap: 12px;\n",
              "    }\n",
              "\n",
              "    .colab-df-convert {\n",
              "      background-color: #E8F0FE;\n",
              "      border: none;\n",
              "      border-radius: 50%;\n",
              "      cursor: pointer;\n",
              "      display: none;\n",
              "      fill: #1967D2;\n",
              "      height: 32px;\n",
              "      padding: 0 0 0 0;\n",
              "      width: 32px;\n",
              "    }\n",
              "\n",
              "    .colab-df-convert:hover {\n",
              "      background-color: #E2EBFA;\n",
              "      box-shadow: 0px 1px 2px rgba(60, 64, 67, 0.3), 0px 1px 3px 1px rgba(60, 64, 67, 0.15);\n",
              "      fill: #174EA6;\n",
              "    }\n",
              "\n",
              "    [theme=dark] .colab-df-convert {\n",
              "      background-color: #3B4455;\n",
              "      fill: #D2E3FC;\n",
              "    }\n",
              "\n",
              "    [theme=dark] .colab-df-convert:hover {\n",
              "      background-color: #434B5C;\n",
              "      box-shadow: 0px 1px 3px 1px rgba(0, 0, 0, 0.15);\n",
              "      filter: drop-shadow(0px 1px 2px rgba(0, 0, 0, 0.3));\n",
              "      fill: #FFFFFF;\n",
              "    }\n",
              "  </style>\n",
              "\n",
              "      <script>\n",
              "        const buttonEl =\n",
              "          document.querySelector('#df-84ae3339-a141-4e73-8f9d-11d30f1ff911 button.colab-df-convert');\n",
              "        buttonEl.style.display =\n",
              "          google.colab.kernel.accessAllowed ? 'block' : 'none';\n",
              "\n",
              "        async function convertToInteractive(key) {\n",
              "          const element = document.querySelector('#df-84ae3339-a141-4e73-8f9d-11d30f1ff911');\n",
              "          const dataTable =\n",
              "            await google.colab.kernel.invokeFunction('convertToInteractive',\n",
              "                                                     [key], {});\n",
              "          if (!dataTable) return;\n",
              "\n",
              "          const docLinkHtml = 'Like what you see? Visit the ' +\n",
              "            '<a target=\"_blank\" href=https://colab.research.google.com/notebooks/data_table.ipynb>data table notebook</a>'\n",
              "            + ' to learn more about interactive tables.';\n",
              "          element.innerHTML = '';\n",
              "          dataTable['output_type'] = 'display_data';\n",
              "          await google.colab.output.renderOutput(dataTable, element);\n",
              "          const docLink = document.createElement('div');\n",
              "          docLink.innerHTML = docLinkHtml;\n",
              "          element.appendChild(docLink);\n",
              "        }\n",
              "      </script>\n",
              "    </div>\n",
              "  </div>\n",
              "  "
            ]
          },
          "metadata": {},
          "execution_count": 3
        }
      ]
    },
    {
      "cell_type": "code",
      "source": [
        "plt.figure(figsize=(10, 7))\n",
        "plt.scatter(df['A'], df['LK']) # a terület és maghossz ábázolása pontokkal\n",
        "plt.xlabel('Terület')\n",
        "plt.ylabel('Mag hossza')\n",
        "plt.title('Mag területe, hossza')\n",
        "plt.show()"
      ],
      "metadata": {
        "colab": {
          "base_uri": "https://localhost:8080/",
          "height": 641
        },
        "id": "q8KmP7WXkem3",
        "outputId": "77c09fc4-5fca-4259-a09b-4a5881c6d33f"
      },
      "execution_count": null,
      "outputs": [
        {
          "output_type": "display_data",
          "data": {
            "text/plain": [
              "<Figure size 1000x700 with 1 Axes>"
            ],
            "image/png": "[encoded data removed]"
          },
          "metadata": {}
        }
      ]
    },
    {
      "cell_type": "code",
      "source": [
        "df.mean() # átlag számítás"
      ],
      "metadata": {
        "colab": {
          "base_uri": "https://localhost:8080/"
        },
        "id": "Wd7GgOwxlnai",
        "outputId": "09be1e84-73f1-43fb-f6d2-24a85723c073"
      },
      "execution_count": null,
      "outputs": [
        {
          "output_type": "execute_result",
          "data": {
            "text/plain": [
              "A     14.847524\n",
              "LK     5.628533\n",
              "dtype: float64"
            ]
          },
          "metadata": {},
          "execution_count": 5
        }
      ]
    },
    {
      "cell_type": "code",
      "source": [
        "np.mean(df.values, axis=0) # átlag számítás"
      ],
      "metadata": {
        "colab": {
          "base_uri": "https://localhost:8080/"
        },
        "id": "srpT4YQploGP",
        "outputId": "505e27ff-3480-4da6-a9c8-23705d0bceb9"
      },
      "execution_count": null,
      "outputs": [
        {
          "output_type": "execute_result",
          "data": {
            "text/plain": [
              "array([14.84752381,  5.62853333])"
            ]
          },
          "metadata": {},
          "execution_count": 6
        }
      ]
    },
    {
      "cell_type": "code",
      "source": [
        "df.std() # szórás számítása"
      ],
      "metadata": {
        "colab": {
          "base_uri": "https://localhost:8080/"
        },
        "id": "MZHdfXZxlvKH",
        "outputId": "bed84913-e1aa-4fd5-90b3-7af9471dd026"
      },
      "execution_count": null,
      "outputs": [
        {
          "output_type": "execute_result",
          "data": {
            "text/plain": [
              "A     2.909699\n",
              "LK    0.443063\n",
              "dtype: float64"
            ]
          },
          "metadata": {},
          "execution_count": 7
        }
      ]
    },
    {
      "cell_type": "code",
      "source": [
        "np.std(df.values, axis=0) # szórás számítása"
      ],
      "metadata": {
        "colab": {
          "base_uri": "https://localhost:8080/"
        },
        "id": "jKzggy05l2Au",
        "outputId": "a67f331f-5764-46e0-81b3-42b70018d670"
      },
      "execution_count": null,
      "outputs": [
        {
          "output_type": "execute_result",
          "data": {
            "text/plain": [
              "array([2.90276331, 0.44200731])"
            ]
          },
          "metadata": {},
          "execution_count": 8
        }
      ]
    },
    {
      "cell_type": "code",
      "source": [
        "df.var() # variancia számítása"
      ],
      "metadata": {
        "colab": {
          "base_uri": "https://localhost:8080/"
        },
        "id": "hB0qpfvrl5Bo",
        "outputId": "a73e7129-1fa5-4c53-dbf9-bcd527f9ab52"
      },
      "execution_count": null,
      "outputs": [
        {
          "output_type": "execute_result",
          "data": {
            "text/plain": [
              "A     8.466351\n",
              "LK    0.196305\n",
              "dtype: float64"
            ]
          },
          "metadata": {},
          "execution_count": 9
        }
      ]
    },
    {
      "cell_type": "code",
      "source": [
        "np.var(df.values, axis=0) # variancia számítása"
      ],
      "metadata": {
        "colab": {
          "base_uri": "https://localhost:8080/"
        },
        "id": "xFGVHs9-l9SG",
        "outputId": "24d6ad08-f070-49d4-fba6-3c8a0236e040"
      },
      "execution_count": null,
      "outputs": [
        {
          "output_type": "execute_result",
          "data": {
            "text/plain": [
              "array([8.42603482, 0.19537046])"
            ]
          },
          "metadata": {},
          "execution_count": 10
        }
      ]
    },
    {
      "cell_type": "markdown",
      "source": [
        "Számítsuk ki a kovariancia mátrixot a pandas segítségével:\n",
        "\n",
        "---\n",
        "\n"
      ],
      "metadata": {
        "id": "H5ejci8ymHe7"
      }
    },
    {
      "cell_type": "code",
      "source": [
        "df.cov() # kovariancia mátrix"
      ],
      "metadata": {
        "colab": {
          "base_uri": "https://localhost:8080/",
          "height": 112
        },
        "id": "BqAHJXLtmMY5",
        "outputId": "f69ba108-1de0-4baf-e290-4afc2df95546"
      },
      "execution_count": null,
      "outputs": [
        {
          "output_type": "execute_result",
          "data": {
            "text/plain": [
              "           A        LK\n",
              "A   8.466351  1.224704\n",
              "LK  1.224704  0.196305"
            ],
            "text/html": [
              "\n",
              "  <div id=\"df-2e62c059-01a4-45c6-99fe-0f5919d0733e\">\n",
              "    <div class=\"colab-df-container\">\n",
              "      <div>\n",
              "<style scoped>\n",
              "    .dataframe tbody tr th:only-of-type {\n",
              "        vertical-align: middle;\n",
              "    }\n",
              "\n",
              "    .dataframe tbody tr th {\n",
              "        vertical-align: top;\n",
              "    }\n",
              "\n",
              "    .dataframe thead th {\n",
              "        text-align: right;\n",
              "    }\n",
              "</style>\n",
              "<table border=\"1\" class=\"dataframe\">\n",
              "  <thead>\n",
              "    <tr style=\"text-align: right;\">\n",
              "      <th></th>\n",
              "      <th>A</th>\n",
              "      <th>LK</th>\n",
              "    </tr>\n",
              "  </thead>\n",
              "  <tbody>\n",
              "    <tr>\n",
              "      <th>A</th>\n",
              "      <td>8.466351</td>\n",
              "      <td>1.224704</td>\n",
              "    </tr>\n",
              "    <tr>\n",
              "      <th>LK</th>\n",
              "      <td>1.224704</td>\n",
              "      <td>0.196305</td>\n",
              "    </tr>\n",
              "  </tbody>\n",
              "</table>\n",
              "</div>\n",
              "      <button class=\"colab-df-convert\" onclick=\"convertToInteractive('df-2e62c059-01a4-45c6-99fe-0f5919d0733e')\"\n",
              "              title=\"Convert this dataframe to an interactive table.\"\n",
              "              style=\"display:none;\">\n",
              "        \n",
              "  <svg xmlns=\"http://www.w3.org/2000/svg\" height=\"24px\"viewBox=\"0 0 24 24\"\n",
              "       width=\"24px\">\n",
              "    <path d=\"M0 0h24v24H0V0z\" fill=\"none\"/>\n",
              "    <path d=\"M18.56 5.44l.94 2.06.94-2.06 2.06-.94-2.06-.94-.94-2.06-.94 2.06-2.06.94zm-11 1L8.5 8.5l.94-2.06 2.06-.94-2.06-.94L8.5 2.5l-.94 2.06-2.06.94zm10 10l.94 2.06.94-2.06 2.06-.94-2.06-.94-.94-2.06-.94 2.06-2.06.94z\"/><path d=\"M17.41 7.96l-1.37-1.37c-.4-.4-.92-.59-1.43-.59-.52 0-1.04.2-1.43.59L10.3 9.45l-7.72 7.72c-.78.78-.78 2.05 0 2.83L4 21.41c.39.39.9.59 1.41.59.51 0 1.02-.2 1.41-.59l7.78-7.78 2.81-2.81c.8-.78.8-2.07 0-2.86zM5.41 20L4 18.59l7.72-7.72 1.47 1.35L5.41 20z\"/>\n",
              "  </svg>\n",
              "      </button>\n",
              "      \n",
              "  <style>\n",
              "    .colab-df-container {\n",
              "      display:flex;\n",
              "      flex-wrap:wrap;\n",
              "      gap: 12px;\n",
              "    }\n",
              "\n",
              "    .colab-df-convert {\n",
              "      background-color: #E8F0FE;\n",
              "      border: none;\n",
              "      border-radius: 50%;\n",
              "      cursor: pointer;\n",
              "      display: none;\n",
              "      fill: #1967D2;\n",
              "      height: 32px;\n",
              "      padding: 0 0 0 0;\n",
              "      width: 32px;\n",
              "    }\n",
              "\n",
              "    .colab-df-convert:hover {\n",
              "      background-color: #E2EBFA;\n",
              "      box-shadow: 0px 1px 2px rgba(60, 64, 67, 0.3), 0px 1px 3px 1px rgba(60, 64, 67, 0.15);\n",
              "      fill: #174EA6;\n",
              "    }\n",
              "\n",
              "    [theme=dark] .colab-df-convert {\n",
              "      background-color: #3B4455;\n",
              "      fill: #D2E3FC;\n",
              "    }\n",
              "\n",
              "    [theme=dark] .colab-df-convert:hover {\n",
              "      background-color: #434B5C;\n",
              "      box-shadow: 0px 1px 3px 1px rgba(0, 0, 0, 0.15);\n",
              "      filter: drop-shadow(0px 1px 2px rgba(0, 0, 0, 0.3));\n",
              "      fill: #FFFFFF;\n",
              "    }\n",
              "  </style>\n",
              "\n",
              "      <script>\n",
              "        const buttonEl =\n",
              "          document.querySelector('#df-2e62c059-01a4-45c6-99fe-0f5919d0733e button.colab-df-convert');\n",
              "        buttonEl.style.display =\n",
              "          google.colab.kernel.accessAllowed ? 'block' : 'none';\n",
              "\n",
              "        async function convertToInteractive(key) {\n",
              "          const element = document.querySelector('#df-2e62c059-01a4-45c6-99fe-0f5919d0733e');\n",
              "          const dataTable =\n",
              "            await google.colab.kernel.invokeFunction('convertToInteractive',\n",
              "                                                     [key], {});\n",
              "          if (!dataTable) return;\n",
              "\n",
              "          const docLinkHtml = 'Like what you see? Visit the ' +\n",
              "            '<a target=\"_blank\" href=https://colab.research.google.com/notebooks/data_table.ipynb>data table notebook</a>'\n",
              "            + ' to learn more about interactive tables.';\n",
              "          element.innerHTML = '';\n",
              "          dataTable['output_type'] = 'display_data';\n",
              "          await google.colab.output.renderOutput(dataTable, element);\n",
              "          const docLink = document.createElement('div');\n",
              "          docLink.innerHTML = docLinkHtml;\n",
              "          element.appendChild(docLink);\n",
              "        }\n",
              "      </script>\n",
              "    </div>\n",
              "  </div>\n",
              "  "
            ]
          },
          "metadata": {},
          "execution_count": 11
        }
      ]
    },
    {
      "cell_type": "code",
      "source": [
        "df.values.T.shape"
      ],
      "metadata": {
        "colab": {
          "base_uri": "https://localhost:8080/"
        },
        "id": "LPbQbTb6u9q9",
        "outputId": "1914b10f-f18f-4111-ec07-67cb65275d09"
      },
      "execution_count": null,
      "outputs": [
        {
          "output_type": "execute_result",
          "data": {
            "text/plain": [
              "(8, 210)"
            ]
          },
          "metadata": {},
          "execution_count": 53
        }
      ]
    },
    {
      "cell_type": "code",
      "source": [
        "np.cov(df.values.T) # kovariancia mátrix"
      ],
      "metadata": {
        "colab": {
          "base_uri": "https://localhost:8080/"
        },
        "id": "m9do7dX_mQeq",
        "outputId": "de1e36ef-e516-4432-d666-1fbe179b6b25"
      },
      "execution_count": null,
      "outputs": [
        {
          "output_type": "execute_result",
          "data": {
            "text/plain": [
              "array([[8.46635078, 1.22470367],\n",
              "       [1.22470367, 0.19630525]])"
            ]
          },
          "metadata": {},
          "execution_count": 12
        }
      ]
    },
    {
      "cell_type": "markdown",
      "source": [
        "#Sajátértékek és sajátvektorok\n",
        "A sajátértékek és sajátvektorok matematikai fogalma nagyon fontos a fizika és a mérnöki tudományok területén, és ezek képezik az adathalmaz főkomponenseinek kiszámításának utolsó lépéseit is. Bármely n x n méretű A négyzetmátrixnak van egy n x 1 alakú x vektora oly módon, hogy az kielégíti a következő összefüggést:\n",
        "![image.png](data:image/png;base64,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)"
      ],
      "metadata": {
        "id": "KWJ_wo_smkpq"
      }
    },
    {
      "cell_type": "markdown",
      "source": [
        "A sajátvektorok a mátrixok szorzásának egy speciális esete. λ szám akkor lesz az A mátrix sajátértéke, ha létezik olyan nemnulla X vektor, amelyre igaz, hogy Ax=λx. Ez az X vektor az A mátrix λ sajátértékhez tartozó sajátvektora.\n",
        "Itt lambda kifejezés egy számérték, és a sajátértéket jelöli, míg x a megfelelő sajátvektort. N az A mátrix rendjét jelöli. Az A mátrixnak pontosan n sajátértéke és sajátvektora lesz.\n",
        "\n",
        "##Kovarianciamátrix (A):\n",
        "A mátrixnak négyzetmátrixnak kell lennie, mielőtt sajátérték-dekompozíciónak vethető alá. Mivel a mi adatállományunk esetében a sorok száma nagyobb, mint az oszlopok száma (legyen az adatállomány alakja m x n, ahol m a sorok száma és n az oszlopok száma). Ezért nem tudjuk közvetlenül elvégezni a sajátérték-bontást. Egy téglalap alakú mátrix sajátérték-dekompozíciójának elvégzéséhez először négyzetmátrixszá alakítjuk azt a kovarianciamátrix kiszámításával. A kovarianciamátrix alakja n x n, azaz egy \"n\" rendű négyzetmátrix.\n",
        "\n",
        "![](https://wikimedia.org/api/rest_v1/media/math/render/svg/95e481dd6cc34bd3b21e0d9088d5cd97a7ebac14)\n",
        "\n",
        "##A sajátvektorok\n",
        "Azok a komponensek, amelyek hozzájárulnak az adathalmazhoz, ahogyan azt a főkomponensekről szóló szakasz első bekezdésében leírtak szerint sajátvektoroknak nevezik. Minden egyes sajátvektor az adathalmazon belüli változékonyság bizonyos mértékét írja le. Ezt a változékonyságot a megfelelő sajátérték jelzi. Minél nagyobb a sajátérték, annál nagyobb a hozzájárulás. Egy sajátvektor-mátrix n x n alakú.\n",
        "\n",
        "##A sajátértékek\n",
        "azok az egyedi értékek, amelyek leírják, hogy az egyes sajátvektorok mekkora mértékben járulnak hozzá az adathalmazhoz. A korábban leírtak szerint a legnagyobb hozzájárulást leíró egyetlen sajátvektort nevezzük főkomponensnek, és mint ilyen, a legnagyobb sajátértékkel fog rendelkezni. Ennek megfelelően a legkisebb sajátértékkel rendelkező sajátvektor járul hozzá a legkevesebb varianciával vagy információval az adatokhoz. A sajátértékek egy diagonális mátrixoat alkotnak, amelynek diagonális elemei sajátértékeket jelölnek."
      ],
      "metadata": {
        "id": "lvLzuwp_nRWI"
      }
    },
    {
      "cell_type": "markdown",
      "source": [
        "A numpy lineáris algebra moduljából az eig függvény segítségével számítsuk ki a sajátértékeket és a sajátvektorokat jellemző vektorokat."
      ],
      "metadata": {
        "id": "qYRgHBs_ornT"
      }
    },
    {
      "cell_type": "code",
      "source": [
        "eigenvalues, eigenvectors = np.linalg.eig(np.cov(df.T))"
      ],
      "metadata": {
        "id": "bugACxvRmUUw"
      },
      "execution_count": null,
      "outputs": []
    },
    {
      "cell_type": "markdown",
      "source": [
        "Nézzük meg a sajátértékeket; láthatjuk, hogy az első érték a legnagyobb, tehát az első sajátvektor adja a legtöbb információt."
      ],
      "metadata": {
        "id": "jRmQsqv2o7DZ"
      }
    },
    {
      "cell_type": "code",
      "source": [
        "eigenvalues #sajátértékek"
      ],
      "metadata": {
        "colab": {
          "base_uri": "https://localhost:8080/"
        },
        "id": "QmboAOWTo6V5",
        "outputId": "be7da412-75e6-45be-c6d4-00069b47d9e2"
      },
      "execution_count": null,
      "outputs": [
        {
          "output_type": "execute_result",
          "data": {
            "text/plain": [
              "array([8.64390408, 0.01875194])"
            ]
          },
          "metadata": {},
          "execution_count": 14
        }
      ]
    },
    {
      "cell_type": "markdown",
      "source": [
        "Hasznos, ha a sajátértékeket az adathalmazon belüli teljes variancia százalékában nézzük. Ehhez egy kumulatív összegfüggvényt fogunk használni:"
      ],
      "metadata": {
        "id": "4WeHDaLApFmw"
      }
    },
    {
      "cell_type": "code",
      "source": [
        "eigenvalues = np.cumsum(eigenvalues)\n",
        "eigenvalues"
      ],
      "metadata": {
        "colab": {
          "base_uri": "https://localhost:8080/"
        },
        "id": "7YPx3vwloy-h",
        "outputId": "6d0c90bd-a677-4577-bb10-d47a9cdbffeb"
      },
      "execution_count": null,
      "outputs": [
        {
          "output_type": "execute_result",
          "data": {
            "text/plain": [
              "array([8.64390408, 8.66265602])"
            ]
          },
          "metadata": {},
          "execution_count": 15
        }
      ]
    },
    {
      "cell_type": "code",
      "source": [
        "CS = np.cumsum([1,2,3,4,5]) # kumulatív összegfüggvény értelmezése\n",
        "CS"
      ],
      "metadata": {
        "colab": {
          "base_uri": "https://localhost:8080/"
        },
        "id": "o1-2ekUupx6k",
        "outputId": "38dc144b-14d6-466c-8668-4cca6048192c"
      },
      "execution_count": null,
      "outputs": [
        {
          "output_type": "execute_result",
          "data": {
            "text/plain": [
              "array([ 1,  3,  6, 10, 15])"
            ]
          },
          "metadata": {},
          "execution_count": 16
        }
      ]
    },
    {
      "cell_type": "code",
      "source": [
        "eigenvalues /= eigenvalues.max()\n",
        "eigenvalues"
      ],
      "metadata": {
        "colab": {
          "base_uri": "https://localhost:8080/"
        },
        "id": "5OprgmsCpaud",
        "outputId": "249a0134-1f65-489a-bf91-a35f66827367"
      },
      "execution_count": null,
      "outputs": [
        {
          "output_type": "execute_result",
          "data": {
            "text/plain": [
              "array([0.99783531, 1.        ])"
            ]
          },
          "metadata": {},
          "execution_count": 17
        }
      ]
    },
    {
      "cell_type": "markdown",
      "source": [
        "Az adatok 99%-át az első komponens tartalmazza, az első és második együtt a 100%!"
      ],
      "metadata": {
        "id": "xwoRgCfBrap0"
      }
    },
    {
      "cell_type": "code",
      "source": [
        "eigenvectors"
      ],
      "metadata": {
        "colab": {
          "base_uri": "https://localhost:8080/"
        },
        "id": "tfj0oaHtphYH",
        "outputId": "cd9524cd-22ba-4854-db6f-ddb506492930"
      },
      "execution_count": null,
      "outputs": [
        {
          "output_type": "execute_result",
          "data": {
            "text/plain": [
              "array([[ 0.98965371, -0.14347657],\n",
              "       [ 0.14347657,  0.98965371]])"
            ]
          },
          "metadata": {},
          "execution_count": 18
        }
      ]
    },
    {
      "cell_type": "markdown",
      "source": [
        "Minden egyes sajátvektor az adathalmazon belüli változékonyság bizonyos mértékét írja le."
      ],
      "metadata": {
        "id": "TRsbD2cfquyd"
      }
    },
    {
      "cell_type": "code",
      "source": [
        "eigenvectors.shape"
      ],
      "metadata": {
        "colab": {
          "base_uri": "https://localhost:8080/"
        },
        "id": "PNqziJT5pxmY",
        "outputId": "8862a002-77ca-416e-bb79-686ae9825c4b"
      },
      "execution_count": null,
      "outputs": [
        {
          "output_type": "execute_result",
          "data": {
            "text/plain": [
              "(2, 2)"
            ]
          },
          "metadata": {},
          "execution_count": 19
        }
      ]
    },
    {
      "cell_type": "markdown",
      "source": [
        "A sajátértékekből láttuk, hogy a főkomponens az első sajátvektor. Nézzük meg az első sajátvektor értékeit:"
      ],
      "metadata": {
        "id": "-q3te9fjqCsa"
      }
    },
    {
      "cell_type": "code",
      "source": [
        "P = eigenvectors[0]\n",
        "P"
      ],
      "metadata": {
        "colab": {
          "base_uri": "https://localhost:8080/"
        },
        "id": "QzRBv50NqFvJ",
        "outputId": "60dd4e94-33d9-4c3b-8079-68b57f5c7840"
      },
      "execution_count": null,
      "outputs": [
        {
          "output_type": "execute_result",
          "data": {
            "text/plain": [
              "array([ 0.98965371, -0.14347657])"
            ]
          },
          "metadata": {},
          "execution_count": 20
        }
      ]
    },
    {
      "cell_type": "code",
      "source": [
        "print(P.shape)\n",
        "print(df.shape)\n"
      ],
      "metadata": {
        "colab": {
          "base_uri": "https://localhost:8080/"
        },
        "id": "sEyfmh39Nef7",
        "outputId": "0b563af6-828b-4675-dfc4-d2875ae3c9cb"
      },
      "execution_count": null,
      "outputs": [
        {
          "output_type": "stream",
          "name": "stdout",
          "text": [
            "(2,)\n",
            "(210, 2)\n"
          ]
        }
      ]
    },
    {
      "cell_type": "markdown",
      "source": [
        "Az adathalmazt főkomponensekre bontottuk, és a sajátvektorok segítségével tovább csökkenthetjük a rendelkezésre álló adatok dimenzionalitását.\n",
        "\n",
        "Most már alkalmazhatjuk a dimenziócsökkentési eljárást. Végezzük el a főkomponens mátrixszorzását az adathalmaz transzponáltjával."
      ],
      "metadata": {
        "id": "tH7BmXDmqTN5"
      }
    },
    {
      "cell_type": "code",
      "source": [
        "x_t_p = P.dot(df.values.T)\n",
        "x_t_p"
      ],
      "metadata": {
        "colab": {
          "base_uri": "https://localhost:8080/"
        },
        "id": "W8WEnlrisEjw",
        "outputId": "77545049-2ee3-412e-fa2a-7e95f8249a8e"
      },
      "execution_count": null,
      "outputs": [
        {
          "output_type": "execute_result",
          "data": {
            "text/plain": [
              "array([14.27526018, 13.92917837, 13.38301702, 12.93293812, 15.16122048,\n",
              "       13.45845558, 13.73985287, 13.18637087, 15.58947756, 15.42569089,\n",
              "       14.28229053, 13.10461599, 12.965921  , 12.85132003, 12.81130345,\n",
              "       13.67130454, 13.11079887, 14.73467174, 13.80111402, 11.83858666,\n",
              "       13.20170613, 13.17202321, 14.90964958, 11.22342981, 14.02411636,\n",
              "       15.18559477, 12.11123524, 11.8341322 , 13.1690102 , 12.51942567,\n",
              "       12.24132164, 14.50374139, 13.12396525, 12.9944561 , 14.0747502 ,\n",
              "       15.1341101 , 15.19649564, 16.06653005, 13.83537146, 13.35791196,\n",
              "       12.63259857, 12.59258199, 12.28666024, 14.49642074, 14.15321181,\n",
              "       12.88589119, 14.38312109, 14.03574465, 13.84140082, 13.8915942 ,\n",
              "       13.47938642, 14.80264952, 13.52011369, 13.39204265, 13.54607291,\n",
              "       14.05639189, 13.53734092, 13.99315553, 14.40850975, 11.24451083,\n",
              "       10.58331473, 10.41048904, 11.50383281, 12.30916598, 11.89280073,\n",
              "       12.00941372, 13.38386114, 13.06028843, 13.42230283, 11.82179656,\n",
              "       16.5593315 , 15.80519605, 16.22372014, 18.02932763, 15.78267692,\n",
              "       15.74610712, 16.27076038, 19.55179603, 17.81933482, 16.10353362,\n",
              "       15.51605102, 17.66459722, 19.08925475, 18.45156873, 18.39477208,\n",
              "       17.19529246, 17.81175064, 17.8439994 , 20.01779414, 19.73854564,\n",
              "       18.94782031, 17.68036625, 17.71550128, 17.53149446, 17.21362734,\n",
              "       15.81465546, 18.20042826, 17.85834706, 17.08226638, 17.63403671,\n",
              "       15.41981839, 16.95879329, 18.38158897, 18.06775593, 17.85749624,\n",
              "       17.76901135, 17.77230462, 16.5820008 , 18.77598892, 17.47526503,\n",
              "       17.38289958, 18.27515613, 18.04495989, 18.0439522 , 19.81140162,\n",
              "       17.94225408, 17.89565766, 18.05585741, 17.80113003, 18.89117049,\n",
              "       19.1245366 , 17.0829938 , 15.17598853, 17.38132803, 15.05509802,\n",
              "       17.67922179, 17.55529149, 16.93612734, 19.01695594, 16.53754984,\n",
              "       17.25281652, 17.86252127, 14.37665796, 15.15418344, 14.57029109,\n",
              "       14.43505292, 16.29872492, 14.559527  , 14.60184255, 15.21958533,\n",
              "       12.14967023, 12.38718377, 12.42878528, 11.34404676, 10.93527238,\n",
              "       10.3366053 , 10.5691072 , 11.60508377, 11.79583734,  9.91549863,\n",
              "       10.95248622, 11.11025022, 11.35723322, 10.3153808 , 10.49997492,\n",
              "       10.32097304, 10.49768599, 11.23058691, 10.84734467, 10.61012142,\n",
              "       11.62816677, 11.12803797, 11.16963614, 11.65499354, 10.30578126,\n",
              "       11.24236203, 11.5481403 , 11.24708002, 10.4899349 , 10.39341198,\n",
              "       10.14197117, 10.68915694, 10.42338855, 10.54515665,  9.96068036,\n",
              "        9.97360329, 10.3994313 ,  9.89069391, 10.61801598, 11.31506784,\n",
              "       10.56165311, 11.57984193, 11.31206152, 10.79658743, 11.9682326 ,\n",
              "       10.67093206, 10.91117166, 10.06711321, 10.38365892,  9.77754109,\n",
              "       10.0929323 , 10.42295812, 11.0108678 ,  9.96484453, 11.23346313,\n",
              "       11.92722841, 11.90814938, 12.46837478, 11.7132216 , 11.90012473,\n",
              "       11.50310874, 11.82382531, 10.34565436, 11.82496308, 11.49536435,\n",
              "       11.32683961, 10.37634161, 12.31218568, 10.9750087 , 11.420493  ])"
            ]
          },
          "metadata": {},
          "execution_count": 22
        }
      ]
    },
    {
      "cell_type": "markdown",
      "source": [
        "A mátrixszorzás végrehajtásához az adatkészlet transzponálására van szükség, mivel a mátrix belső dimenzióinak azonosnak kell lenniük a mátrixszorzáshoz. Ahhoz, hogy A (\"A pont B\") érvényes legyen, A alakjának m x n alakúnak, B alakjának pedig n x p alakúnak kell lennie. Ebben a példában A és B belső dimenziója egyaránt n. A kapott mátrix mérete m x p lenne.\n",
        "\n",
        "A következő példában a PCA kimenete egy egyoszlopos, 210 mintát tartalmazó adathalmaz. Így a kezdeti adathalmaz méretét éppen felére csökkentettük, ami az adatokon belüli variancia körülbelül 99%-át tartalmazza.\n",
        "\n",
        "Ebben a gyakorlatban egyszerűen kiszámítottuk az adathalmaz kovariancia-mátrixát anélkül, hogy előzetesen bármilyen transzformációt alkalmaztunk volna az adathalmazon. Ha a két jellemzőnek nagyjából azonos az átlaga és a szórása, ez rendben van. Ha azonban az egyik jellemző értéke sokkal nagyobb (és átlaga eltérő), mint a másiké, akkor ez a jellemző dominálhat a másik felett, amikor komponensekre bontjuk. Ez azt eredményezheti, hogy a kisebb jellemző által nyújtott információ teljesen eltűnik. Egy egyszerű normalizálási technika a kovarianciamátrix kiszámítása előtt az lenne, ha a jellemzőkből kivonnánk a megfelelő átlagokat, és így az adathalmazt nulla körül központosítanánk."
      ],
      "metadata": {
        "id": "dlmM42C6shg6"
      }
    },
    {
      "cell_type": "markdown",
      "source": [
        "#A PCA kiszámításának folyamata\n",
        "Most már minden darab készen áll a PCA elvégzéséhez, hogy csökkentsük az adathalmaz dimenzióinak számát.\n",
        "\n",
        "A PCA elvégzésének általános algoritmusa a következő:\n",
        "\n",
        "- Importálja a szükséges Python-csomagokat (numpy és pandas).\n",
        "- Töltse be a teljes adathalmazt.\n",
        "- A rendelkezésre álló adatok közül válassza ki azokat a jellemzőket, amelyeket a dimenziócsökkentéshez használni kíván.\n",
        "\n",
        "##Megjegyzés:\n",
        "Ha az adathalmaz jellemzői között jelentős skálakülönbség van; például az egyik jellemző értéke 0 és 1, a másiké pedig 100 és 1000 között mozog, akkor szükség lehet az egyik jellemző normalizálására, mivel az ilyen nagyságrendi különbségek megszüntethetik a kisebb jellemzők hatását. Ilyen helyzetben szükség lehet arra, hogy a nagyobb jellemzőt a maximális értékével ossza el.\n",
        "\n",
        "- Számítsa ki a kiválasztott (és esetleg normalizált) adatok kovariancia mátrixát.\n",
        "- Számítsa ki a kovariancia mátrix sajátértékeit és sajátvektorait.\n",
        "- Rendezze a sajátértékeket (és a megfelelő sajátvektorokat) a legmagasabbtól a legalacsonyabbig.\n",
        "- Számítsa ki a sajátértékeket az adathalmazon belüli teljes variancia százalékában.\n",
        "- Válassza ki a sajátértékek és a megfelelő sajátvektorok számát.\n",
        "\n",
        "##Megjegyzés:\n",
        "Ebben a szakaszban a rendezett sajátértékek az adathalmazon belüli teljes variancia százalékos arányát képviselik. Mint ilyenek, ezeket az értékeket felhasználhatjuk a szükséges sajátvektorok számának kiválasztásához, akár a megoldandó problémához, akár a modellre alkalmazott adathalmaz méretének megfelelő csökkentéséhez. Tegyük fel például, hogy a PCA kimenetén belül a variancia legalább 90%-át kell figyelembe vennünk. Ekkor kiválasztanánk azon sajátértékek (és megfelelő sajátvektorok) számát, amelyek a variancia legalább 90%-át tartalmazzák.\n",
        "\n",
        "- Szorozzuk meg az adatkészletet a kiválasztott sajátvektorokkal, és máris elkészült a PCA, ezáltal csökkentve az adatokat reprezentáló jellemzők számát.\n",
        "\n",
        "\n"
      ],
      "metadata": {
        "id": "hgzwCEo9t-HE"
      }
    },
    {
      "cell_type": "code",
      "source": [
        "from sklearn.decomposition import PCA\n",
        "pca = PCA(n_components=1)\n",
        "pca.fit(df)"
      ],
      "metadata": {
        "colab": {
          "base_uri": "https://localhost:8080/",
          "height": 74
        },
        "id": "ZzN98C5wu5Ql",
        "outputId": "4d657754-85c9-460b-c874-a8e7c5e3736c"
      },
      "execution_count": null,
      "outputs": [
        {
          "output_type": "execute_result",
          "data": {
            "text/plain": [
              "PCA(n_components=1)"
            ],
            "text/html": [
              "<style>#sk-container-id-1 {color: black;background-color: white;}#sk-container-id-1 pre{padding: 0;}#sk-container-id-1 div.sk-toggleable {background-color: white;}#sk-container-id-1 label.sk-toggleable__label {cursor: pointer;display: block;width: 100%;margin-bottom: 0;padding: 0.3em;box-sizing: border-box;text-align: center;}#sk-container-id-1 label.sk-toggleable__label-arrow:before {content: \"▸\";float: left;margin-right: 0.25em;color: #696969;}#sk-container-id-1 label.sk-toggleable__label-arrow:hover:before {color: black;}#sk-container-id-1 div.sk-estimator:hover label.sk-toggleable__label-arrow:before {color: black;}#sk-container-id-1 div.sk-toggleable__content {max-height: 0;max-width: 0;overflow: hidden;text-align: left;background-color: #f0f8ff;}#sk-container-id-1 div.sk-toggleable__content pre {margin: 0.2em;color: black;border-radius: 0.25em;background-color: #f0f8ff;}#sk-container-id-1 input.sk-toggleable__control:checked~div.sk-toggleable__content {max-height: 200px;max-width: 100%;overflow: auto;}#sk-container-id-1 input.sk-toggleable__control:checked~label.sk-toggleable__label-arrow:before {content: \"▾\";}#sk-container-id-1 div.sk-estimator input.sk-toggleable__control:checked~label.sk-toggleable__label {background-color: #d4ebff;}#sk-container-id-1 div.sk-label input.sk-toggleable__control:checked~label.sk-toggleable__label {background-color: #d4ebff;}#sk-container-id-1 input.sk-hidden--visually {border: 0;clip: rect(1px 1px 1px 1px);clip: rect(1px, 1px, 1px, 1px);height: 1px;margin: -1px;overflow: hidden;padding: 0;position: absolute;width: 1px;}#sk-container-id-1 div.sk-estimator {font-family: monospace;background-color: #f0f8ff;border: 1px dotted black;border-radius: 0.25em;box-sizing: border-box;margin-bottom: 0.5em;}#sk-container-id-1 div.sk-estimator:hover {background-color: #d4ebff;}#sk-container-id-1 div.sk-parallel-item::after {content: \"\";width: 100%;border-bottom: 1px solid gray;flex-grow: 1;}#sk-container-id-1 div.sk-label:hover label.sk-toggleable__label {background-color: #d4ebff;}#sk-container-id-1 div.sk-serial::before {content: \"\";position: absolute;border-left: 1px solid gray;box-sizing: border-box;top: 0;bottom: 0;left: 50%;z-index: 0;}#sk-container-id-1 div.sk-serial {display: flex;flex-direction: column;align-items: center;background-color: white;padding-right: 0.2em;padding-left: 0.2em;position: relative;}#sk-container-id-1 div.sk-item {position: relative;z-index: 1;}#sk-container-id-1 div.sk-parallel {display: flex;align-items: stretch;justify-content: center;background-color: white;position: relative;}#sk-container-id-1 div.sk-item::before, #sk-container-id-1 div.sk-parallel-item::before {content: \"\";position: absolute;border-left: 1px solid gray;box-sizing: border-box;top: 0;bottom: 0;left: 50%;z-index: -1;}#sk-container-id-1 div.sk-parallel-item {display: flex;flex-direction: column;z-index: 1;position: relative;background-color: white;}#sk-container-id-1 div.sk-parallel-item:first-child::after {align-self: flex-end;width: 50%;}#sk-container-id-1 div.sk-parallel-item:last-child::after {align-self: flex-start;width: 50%;}#sk-container-id-1 div.sk-parallel-item:only-child::after {width: 0;}#sk-container-id-1 div.sk-dashed-wrapped {border: 1px dashed gray;margin: 0 0.4em 0.5em 0.4em;box-sizing: border-box;padding-bottom: 0.4em;background-color: white;}#sk-container-id-1 div.sk-label label {font-family: monospace;font-weight: bold;display: inline-block;line-height: 1.2em;}#sk-container-id-1 div.sk-label-container {text-align: center;}#sk-container-id-1 div.sk-container {/* jupyter's `normalize.less` sets `[hidden] { display: none; }` but bootstrap.min.css set `[hidden] { display: none !important; }` so we also need the `!important` here to be able to override the default hidden behavior on the sphinx rendered scikit-learn.org. See: https://github.com/scikit-learn/scikit-learn/issues/21755 */display: inline-block !important;position: relative;}#sk-container-id-1 div.sk-text-repr-fallback {display: none;}</style><div id=\"sk-container-id-1\" class=\"sk-top-container\"><div class=\"sk-text-repr-fallback\"><pre>PCA(n_components=1)</pre><b>In a Jupyter environment, please rerun this cell to show the HTML representation or trust the notebook. <br />On GitHub, the HTML representation is unable to render, please try loading this page with nbviewer.org.</b></div><div class=\"sk-container\" hidden><div class=\"sk-item\"><div class=\"sk-estimator sk-toggleable\"><input class=\"sk-toggleable__control sk-hidden--visually\" id=\"sk-estimator-id-1\" type=\"checkbox\" checked><label for=\"sk-estimator-id-1\" class=\"sk-toggleable__label sk-toggleable__label-arrow\">PCA</label><div class=\"sk-toggleable__content\"><pre>PCA(n_components=1)</pre></div></div></div></div></div>"
            ]
          },
          "metadata": {},
          "execution_count": 23
        }
      ]
    },
    {
      "cell_type": "markdown",
      "source": [
        "Az illesztés megtanul néhány mennyiséget az adatokból, a legfontosabbak a \"komponensek\" és a \"magyarázott variancia\":"
      ],
      "metadata": {
        "id": "VPYgNLp8xHiu"
      }
    },
    {
      "cell_type": "code",
      "source": [
        "print(pca.components_)"
      ],
      "metadata": {
        "colab": {
          "base_uri": "https://localhost:8080/"
        },
        "id": "og21LH-Ju55c",
        "outputId": "24bfb7a9-838c-4de2-b1dc-b87dd4ad93bf"
      },
      "execution_count": null,
      "outputs": [
        {
          "output_type": "stream",
          "name": "stdout",
          "text": [
            "[[0.98965371 0.14347657]]\n"
          ]
        }
      ]
    },
    {
      "cell_type": "code",
      "source": [
        "pca.explained_variance_ratio_"
      ],
      "metadata": {
        "colab": {
          "base_uri": "https://localhost:8080/"
        },
        "id": "qtl3XWASvBay",
        "outputId": "1a8dbde5-db74-489e-9b08-16dbab7732c8"
      },
      "execution_count": null,
      "outputs": [
        {
          "output_type": "execute_result",
          "data": {
            "text/plain": [
              "array([0.99783531])"
            ]
          },
          "metadata": {},
          "execution_count": 25
        }
      ]
    },
    {
      "cell_type": "code",
      "source": [
        "X_pca = pca.transform(df)\n",
        "X_pca # az első főkomponenshez tartozó értékek reprezentálják az eredeti df 99%-át"
      ],
      "metadata": {
        "id": "aclS12T0vm3J",
        "colab": {
          "base_uri": "https://localhost:8080/"
        },
        "outputId": "46597352-554f-4935-94b2-4dc3a805f987"
      },
      "execution_count": null,
      "outputs": [
        {
          "output_type": "execute_result",
          "data": {
            "text/plain": [
              "array([[ 0.42750141],\n",
              "       [ 0.0214464 ],\n",
              "       [-0.60018363],\n",
              "       [-1.04079308],\n",
              "       [ 1.28333164],\n",
              "       [-0.49748453],\n",
              "       [-0.16529652],\n",
              "       [-0.75981283],\n",
              "       [ 1.8249352 ],\n",
              "       [ 1.61265346],\n",
              "       [ 0.42047106],\n",
              "       [-0.83640254],\n",
              "       [-0.97481059],\n",
              "       [-1.07793343],\n",
              "       [-1.11708915],\n",
              "       [-0.29467893],\n",
              "       [-0.92175772],\n",
              "       [ 0.81919204],\n",
              "       [-0.2067646 ],\n",
              "       [-2.16326594],\n",
              "       [-0.67618271],\n",
              "       [-0.74546517],\n",
              "       [ 1.02028261],\n",
              "       [-2.81486584],\n",
              "       [ 0.18381837],\n",
              "       [ 1.35792272],\n",
              "       [-1.84212229],\n",
              "       [-2.11922533],\n",
              "       [-0.74245216],\n",
              "       [-1.39921053],\n",
              "       [-1.69510565],\n",
              "       [ 0.6542609 ],\n",
              "       [-0.73699336],\n",
              "       [-0.90438032],\n",
              "       [ 0.21235683],\n",
              "       [ 1.27085587],\n",
              "       [ 1.36681493],\n",
              "       [ 2.23857105],\n",
              "       [-0.04309129],\n",
              "       [-0.59487165],\n",
              "       [-1.33424576],\n",
              "       [-1.37340147],\n",
              "       [-1.74044425],\n",
              "       [ 0.68137463],\n",
              "       [ 0.25265366],\n",
              "       [-1.07291845],\n",
              "       [ 0.51757123],\n",
              "       [ 0.13260393],\n",
              "       [-0.06891373],\n",
              "       [ 0.01944442],\n",
              "       [-0.41945   ],\n",
              "       [ 0.92935193],\n",
              "       [-0.34141882],\n",
              "       [-0.53003698],\n",
              "       [-0.30799882],\n",
              "       [ 0.19112899],\n",
              "       [-0.41802528],\n",
              "       [ 0.03664153],\n",
              "       [ 0.53176872],\n",
              "       [-2.77656764],\n",
              "       [-3.48109366],\n",
              "       [-3.68433639],\n",
              "       [-2.54106277],\n",
              "       [-1.64419154],\n",
              "       [-2.09872156],\n",
              "       [-2.01740381],\n",
              "       [-0.50206239],\n",
              "       [-0.83166112],\n",
              "       [-0.48112485],\n",
              "       [-2.12668276],\n",
              "       [ 2.83438868],\n",
              "       [ 2.02487127],\n",
              "       [ 2.4376563 ],\n",
              "       [ 4.29376755],\n",
              "       [ 2.00780425],\n",
              "       [ 1.94540868],\n",
              "       [ 2.50937451],\n",
              "       [ 5.93819103],\n",
              "       [ 4.1672781 ],\n",
              "       [ 2.28073978],\n",
              "       [ 1.700431  ],\n",
              "       [ 3.88656807],\n",
              "       [ 5.39128553],\n",
              "       [ 4.78200787],\n",
              "       [ 4.72004607],\n",
              "       [ 3.46518448],\n",
              "       [ 4.05610383],\n",
              "       [ 4.22178581],\n",
              "       [ 6.40246742],\n",
              "       [ 6.08792369],\n",
              "       [ 5.33478922],\n",
              "       [ 3.94997133],\n",
              "       [ 4.01380167],\n",
              "       [ 3.76236086],\n",
              "       [ 3.62498727],\n",
              "       [ 2.07479108],\n",
              "       [ 4.51852841],\n",
              "       [ 4.20743815],\n",
              "       [ 3.38027982],\n",
              "       [ 3.91712858],\n",
              "       [ 1.55914674],\n",
              "       [ 3.14747757],\n",
              "       [ 4.63426381],\n",
              "       [ 4.39389077],\n",
              "       [ 4.14890975],\n",
              "       [ 3.99987775],\n",
              "       [ 4.03617063],\n",
              "       [ 2.81171939],\n",
              "       [ 5.18993143],\n",
              "       [ 3.73941799],\n",
              "       [ 3.6338527 ],\n",
              "       [ 4.58235206],\n",
              "       [ 4.31772144],\n",
              "       [ 4.3385222 ],\n",
              "       [ 6.19320537],\n",
              "       [ 4.28187572],\n",
              "       [ 4.1305414 ],\n",
              "       [ 4.34641006],\n",
              "       [ 4.08651752],\n",
              "       [ 5.25288752],\n",
              "       [ 5.43517597],\n",
              "       [ 3.32017317],\n",
              "       [ 1.32794281],\n",
              "       [ 3.5958381 ],\n",
              "       [ 1.09255799],\n",
              "       [ 3.93132272],\n",
              "       [ 3.85732227],\n",
              "       [ 3.15035045],\n",
              "       [ 5.38441204],\n",
              "       [ 2.69782576],\n",
              "       [ 3.46703964],\n",
              "       [ 4.12409165],\n",
              "       [ 0.56362052],\n",
              "       [ 1.32995483],\n",
              "       [ 0.72626272],\n",
              "       [ 0.50522556],\n",
              "       [ 2.56058226],\n",
              "       [ 0.75681988],\n",
              "       [ 0.77388356],\n",
              "       [ 1.40310446],\n",
              "       [-1.78159191],\n",
              "       [-1.52427859],\n",
              "       [-1.52629396],\n",
              "       [-2.65837975],\n",
              "       [-3.04132835],\n",
              "       [-3.65003879],\n",
              "       [-3.44709306],\n",
              "       [-2.38500376],\n",
              "       [-2.16010276],\n",
              "       [-4.06024124],\n",
              "       [-3.03874911],\n",
              "       [-2.84023777],\n",
              "       [-2.59239391],\n",
              "       [-3.68819352],\n",
              "       [-3.5165123 ],\n",
              "       [-3.67399269],\n",
              "       [-3.55380951],\n",
              "       [-2.72305757],\n",
              "       [-3.09195215],\n",
              "       [-3.36934884],\n",
              "       [-2.30912138],\n",
              "       [-2.83823245],\n",
              "       [-2.82045139],\n",
              "       [-2.31615508],\n",
              "       [-3.75776627],\n",
              "       [-2.79421191],\n",
              "       [-2.42702566],\n",
              "       [-2.69996453],\n",
              "       [-3.52626536],\n",
              "       [-3.64746625],\n",
              "       [-3.83147307],\n",
              "       [-3.32962591],\n",
              "       [-3.61806359],\n",
              "       [-3.48252174],\n",
              "       [-4.02625068],\n",
              "       [-4.09855283],\n",
              "       [-3.61389943],\n",
              "       [-4.1344019 ],\n",
              "       [-3.39703647],\n",
              "       [-2.64919391],\n",
              "       [-3.47922512],\n",
              "       [-2.41914114],\n",
              "       [-2.68577374],\n",
              "       [-3.23912565],\n",
              "       [-1.95642961],\n",
              "       [-3.29160796],\n",
              "       [-3.0370207 ],\n",
              "       [-3.97433893],\n",
              "       [-3.65750627],\n",
              "       [-4.31814519],\n",
              "       [-3.96057187],\n",
              "       [-3.61763316],\n",
              "       [-3.0179584 ],\n",
              "       [-4.05020792],\n",
              "       [-2.76551994],\n",
              "       [-2.0935631 ],\n",
              "       [-2.09427714],\n",
              "       [-1.50650423],\n",
              "       [-2.23583162],\n",
              "       [-2.14563171],\n",
              "       [-2.50075254],\n",
              "       [-2.24746996],\n",
              "       [-3.71846708],\n",
              "       [-2.18922851],\n",
              "       [-2.51280123],\n",
              "       [-2.70055183],\n",
              "       [-3.65018896],\n",
              "       [-1.68679739],\n",
              "       [-3.04147852],\n",
              "       [-2.5764814 ]])"
            ]
          },
          "metadata": {},
          "execution_count": 26
        }
      ]
    },
    {
      "cell_type": "markdown",
      "source": [
        "Az átalakított adatokat egyetlen dimenzióra csökkentettük. A dimenziócsökkentés hatásának megértéséhez elvégezhetjük a csökkentett adatok inverz transzformációját, és az eredeti adatokkal együtt ábrázolhatjuk:"
      ],
      "metadata": {
        "id": "yuaX2c1e1m6R"
      }
    },
    {
      "cell_type": "code",
      "source": [
        "X_new = pca.inverse_transform(X_pca) # adatok visszavetítése az eredeti térbe\n",
        "\n",
        "plt.figure(figsize=(10, 7))\n",
        "plt.scatter(X_new[:, 0], X_new[:, 1])\n",
        "plt.scatter(df['A'], df['LK'])\n",
        "plt.xlabel('Terület')\n",
        "plt.ylabel('Mag hossza')\n",
        "plt.title('Mag területe, hossza')\n",
        "plt.show()"
      ],
      "metadata": {
        "id": "eyNmh8sVxcLy",
        "colab": {
          "base_uri": "https://localhost:8080/",
          "height": 641
        },
        "outputId": "a3937548-2527-4c8b-e9d8-edd541e20ab1"
      },
      "execution_count": null,
      "outputs": [
        {
          "output_type": "display_data",
          "data": {
            "text/plain": [
              "<Figure size 1000x700 with 1 Axes>"
            ],
            "image/png": "[encoded data removed]"
          },
          "metadata": {}
        }
      ]
    },
    {
      "cell_type": "markdown",
      "source": [
        "#PCA a vizualizációhoz: Kézzel írt számjegyek\n",
        "A dimenziócsökkentés hasznossága talán nem teljesen nyilvánvaló csak két dimenzió esetén, de sokkal világosabbá válik, ha magas dimenziós adatokat vizsgálunk. Hogy ezt lássuk, vessünk egy gyors pillantást a PCA alkalmazására a számjegyek adataira.\n"
      ],
      "metadata": {
        "id": "aHXQosSGyIB2"
      }
    },
    {
      "cell_type": "code",
      "source": [
        "from sklearn.datasets import load_digits\n",
        "digits = load_digits()\n",
        "digits.data.shape"
      ],
      "metadata": {
        "colab": {
          "base_uri": "https://localhost:8080/"
        },
        "id": "eFVzqfKu1uwZ",
        "outputId": "6a9f51b8-e9bd-4fa8-c32c-277aa86b3dee"
      },
      "execution_count": null,
      "outputs": [
        {
          "output_type": "execute_result",
          "data": {
            "text/plain": [
              "(1797, 64)"
            ]
          },
          "metadata": {},
          "execution_count": 28
        }
      ]
    },
    {
      "cell_type": "code",
      "source": [
        "from itertools import product\n",
        "n_rows = 8\n",
        "n_cols = 8\n",
        "images = digits.images.astype(np.int_)\n",
        "\n",
        "fig, ax = plt.subplots(nrows=n_rows, ncols=n_cols, figsize=(10, 10))\n",
        "k = 0\n",
        "for i, j in product(range(n_rows), range(n_cols)):\n",
        "    image = images[n_cols * i + j]\n",
        "    ax[i, j].imshow(image, cmap='binary', interpolation='nearest')\n",
        "    ax[i, j].axis('off')\n",
        "\n",
        "plt.show()\n",
        "plt.close()"
      ],
      "metadata": {
        "colab": {
          "base_uri": "https://localhost:8080/",
          "height": 807
        },
        "id": "SE4Cn73OwX2w",
        "outputId": "28432e0c-42c7-41d4-e608-2422bd93531c"
      },
      "execution_count": null,
      "outputs": [
        {
          "output_type": "display_data",
          "data": {
            "text/plain": [
              "<Figure size 1000x1000 with 64 Axes>"
            ],
            "image/png": "[encoded data removed]"
          },
          "metadata": {}
        }
      ]
    },
    {
      "cell_type": "markdown",
      "source": [
        "Emlékezzünk arra, hogy az adatok 8×8 pixeles képekből állnak, ami azt jelenti, hogy 64 dimenziósak. Ahhoz, hogy némi intuíciót nyerjünk a pontok közötti kapcsolatokról, a PCA segítségével kivetíthetjük őket egy kezelhetőbb számú, mondjuk két dimenzióra:"
      ],
      "metadata": {
        "id": "YGSGizuP10-_"
      }
    },
    {
      "cell_type": "code",
      "source": [
        "from sklearn.decomposition import PCA\n",
        "pca = PCA(2)  # project from 64 to 2 dimensions\n",
        "projected = pca.fit_transform(digits.data)\n",
        "print(digits.data.shape)\n",
        "print(projected.shape)"
      ],
      "metadata": {
        "colab": {
          "base_uri": "https://localhost:8080/"
        },
        "id": "sHzLyxKX12Lw",
        "outputId": "cfbcd6f0-f1a7-4163-90f8-7d2e6b37867d"
      },
      "execution_count": null,
      "outputs": [
        {
          "output_type": "stream",
          "name": "stdout",
          "text": [
            "(1797, 64)\n",
            "(1797, 2)\n"
          ]
        }
      ]
    },
    {
      "cell_type": "code",
      "source": [
        "plt.scatter(projected[:, 0], projected[:, 1],\n",
        "            c=digits.target, edgecolor='none', alpha=0.5,\n",
        "            cmap=plt.cm.get_cmap('Spectral', 10))\n",
        "plt.xlabel('component 1')\n",
        "plt.ylabel('component 2')\n",
        "plt.colorbar();"
      ],
      "metadata": {
        "colab": {
          "base_uri": "https://localhost:8080/",
          "height": 510
        },
        "id": "JBPqsJOU19_4",
        "outputId": "7531fd04-8fc8-4b22-af12-596beed8d593"
      },
      "execution_count": null,
      "outputs": [
        {
          "output_type": "stream",
          "name": "stderr",
          "text": [
            "<ipython-input-31-7564ba3d768d>:3: MatplotlibDeprecationWarning: The get_cmap function was deprecated in Matplotlib 3.7 and will be removed two minor releases later. Use ``matplotlib.colormaps[name]`` or ``matplotlib.colormaps.get_cmap(obj)`` instead.\n",
            "  cmap=plt.cm.get_cmap('Spectral', 10))\n"
          ]
        },
        {
          "output_type": "display_data",
          "data": {
            "text/plain": [
              "<Figure size 640x480 with 2 Axes>"
            ],
            "image/png": "[encoded data removed]"
          },
          "metadata": {}
        }
      ]
    },
    {
      "cell_type": "markdown",
      "source": [
        "Emlékezzünk vissza, mit jelentenek ezek a komponensek: a teljes adat egy 64 dimenziós pontfelhő, és ezek a pontok az egyes adatpontok vetülete a legnagyobb varianciával rendelkező irányok mentén. Lényegében megtaláltuk azt az optimális nyújtást és elforgatást a 64 dimenziós térben, amely lehetővé teszi számjegyek elrendezésének két dimenzióban való megjelenítését, és mindezt felügyelet nélküli módon - azaz a címkékre való hivatkozás nélkül - tettük."
      ],
      "metadata": {
        "id": "wgbGzquu29ZK"
      }
    },
    {
      "cell_type": "markdown",
      "source": [
        "##Az összetevők számának kiválasztása\n",
        "A PCA gyakorlati használatának elengedhetetlen része, hogy meg tudjuk becsülni, hány komponensre van szükség az adatok leírásához. Ezt úgy lehet meghatározni, hogy megnézzük a kumulatív magyarázott variancia arányát a komponensek számának függvényében:"
      ],
      "metadata": {
        "id": "JpMidYwF3KNo"
      }
    },
    {
      "cell_type": "code",
      "source": [
        "pca = PCA().fit(digits.data)\n",
        "plt.plot(np.cumsum(pca.explained_variance_ratio_))\n",
        "plt.xlabel('number of components')\n",
        "plt.ylabel('cumulative explained variance');"
      ],
      "metadata": {
        "colab": {
          "base_uri": "https://localhost:8080/",
          "height": 449
        },
        "id": "vl4Y4VPA2HzN",
        "outputId": "4b5fd78f-08c4-4cc2-9a34-d3d2579d040a"
      },
      "execution_count": null,
      "outputs": [
        {
          "output_type": "display_data",
          "data": {
            "text/plain": [
              "<Figure size 640x480 with 1 Axes>"
            ],
            "image/png": "[encoded data removed]"
          },
          "metadata": {}
        }
      ]
    },
    {
      "cell_type": "markdown",
      "source": [
        "Ez a görbe azt mutatja meg, hogy a teljes, 64 dimenziós variancia mekkora részét tartalmazza az első N komponens. Például azt látjuk, hogy a számjegyek esetében az első 10 komponens a variancia körülbelül 75%-át tartalmazza, míg a variancia közel 100%-ának leírásához körülbelül 50 komponensre van szükség.\n",
        "\n",
        "Itt azt látjuk, hogy a kétdimenziós vetítésünk sok információt veszít (a magyarázott variancia alapján mérve), és hogy körülbelül 20 komponensre lenne szükségünk ahhoz, hogy a variancia 90%-át megtartsuk. Ha ezt a grafikont egy nagydimenziós adathalmazra nézzük, az segíthet megérteni a több megfigyelésben jelen lévő redundancia szintjét.\n",
        "\n"
      ],
      "metadata": {
        "id": "GdOIaCiq3feA"
      }
    },
    {
      "cell_type": "markdown",
      "source": [
        "#PCA mint zajszűrés\n",
        "A PCA zajos adatok szűrésére is használható. Az elképzelés a következő: a zaj hatásánál sokkal nagyobb varianciájú komponenseket a zajnak viszonylag kevéssé kell befolyásolnia. Ha tehát az adatokat csak a főkomponensek legnagyobb részhalmazának felhasználásával rekonstruálja, akkor a jelet előnyben kell tartania, a zajt pedig ki kell dobnia.\n",
        "\n",
        "Lássuk, hogyan néz ez ki a számjegyek adatainál. Először a bemeneti zajmentes adatok közül néhányat ábrázolunk:"
      ],
      "metadata": {
        "id": "XGoqyBrx392p"
      }
    },
    {
      "cell_type": "code",
      "source": [
        "def plot_digits(data):\n",
        "    fig, axes = plt.subplots(4, 10, figsize=(10, 4),\n",
        "                             subplot_kw={'xticks':[], 'yticks':[]},\n",
        "                             gridspec_kw=dict(hspace=0.1, wspace=0.1))\n",
        "    for i, ax in enumerate(axes.flat):\n",
        "        ax.imshow(data[i].reshape(8, 8),\n",
        "                  cmap='binary', interpolation='nearest',\n",
        "                  clim=(0, 16))\n",
        "plot_digits(digits.data)"
      ],
      "metadata": {
        "colab": {
          "base_uri": "https://localhost:8080/",
          "height": 344
        },
        "id": "o5MGkRcp4AeW",
        "outputId": "ffa45a48-cb6b-41b8-8da7-c387aa65d5eb"
      },
      "execution_count": null,
      "outputs": [
        {
          "output_type": "display_data",
          "data": {
            "text/plain": [
              "<Figure size 1000x400 with 40 Axes>"
            ],
            "image/png": "[encoded data removed]"
          },
          "metadata": {}
        }
      ]
    },
    {
      "cell_type": "markdown",
      "source": [
        "Most adjunk hozzá egy kis véletlenszerű zajt, hogy létrehozzunk egy zajos adathalmazt, és ábrázoljuk újra:"
      ],
      "metadata": {
        "id": "SppLIw4E4EJw"
      }
    },
    {
      "cell_type": "code",
      "source": [
        "np.random.seed(42)\n",
        "noisy = np.random.normal(digits.data, 4)\n",
        "plot_digits(noisy)"
      ],
      "metadata": {
        "colab": {
          "base_uri": "https://localhost:8080/",
          "height": 344
        },
        "id": "b3r7Ipnc4EkT",
        "outputId": "2f1de9ee-4968-4bdc-9200-97ee257eba9f"
      },
      "execution_count": null,
      "outputs": [
        {
          "output_type": "display_data",
          "data": {
            "text/plain": [
              "<Figure size 1000x400 with 40 Axes>"
            ],
            "image/png": "[encoded data removed]"
          },
          "metadata": {}
        }
      ]
    },
    {
      "cell_type": "markdown",
      "source": [
        "Szemmel látható, hogy a képek zajosak, és hamis pixeleket tartalmaznak. Képezzünk PCA-t a zajos adatokra, kérve, hogy a vetítés a variancia 50%-át megőrizze:"
      ],
      "metadata": {
        "id": "6TeRZQCz4T6A"
      }
    },
    {
      "cell_type": "code",
      "source": [
        "pca = PCA(0.50).fit(noisy)\n",
        "pca.n_components_"
      ],
      "metadata": {
        "colab": {
          "base_uri": "https://localhost:8080/"
        },
        "id": "DMRISkqH4V9O",
        "outputId": "5bab6335-b656-486f-ff9d-2f1408f3bd14"
      },
      "execution_count": null,
      "outputs": [
        {
          "output_type": "execute_result",
          "data": {
            "text/plain": [
              "12"
            ]
          },
          "metadata": {},
          "execution_count": 35
        }
      ]
    },
    {
      "cell_type": "code",
      "source": [
        "components = pca.transform(noisy)\n",
        "filtered = pca.inverse_transform(components)\n",
        "plot_digits(filtered)"
      ],
      "metadata": {
        "colab": {
          "base_uri": "https://localhost:8080/",
          "height": 344
        },
        "id": "_vo_JLfZ4e6p",
        "outputId": "86418876-e8fb-461d-f040-71ebd2ca8716"
      },
      "execution_count": null,
      "outputs": [
        {
          "output_type": "display_data",
          "data": {
            "text/plain": [
              "<Figure size 1000x400 with 40 Axes>"
            ],
            "image/png": "[encoded data removed]"
          },
          "metadata": {}
        }
      ]
    },
    {
      "cell_type": "markdown",
      "source": [
        "Ez a jelmegőrző/zajszűrő tulajdonság teszi a PCA-t nagyon hasznos jellemzőválasztási rutinná - például ahelyett, hogy egy osztályozót nagyon nagy dimenziójú adatokon képezne ki, az osztályozót inkább az alacsonyabb dimenziójú reprezentáción képezheti ki, ami automatikusan kiszűri a bemeneti véletlenszerű zajt."
      ],
      "metadata": {
        "id": "53GeYla34zK4"
      }
    },
    {
      "cell_type": "markdown",
      "source": [
        "#Beadandó feladathoz\n",
        "PCA felhasználása"
      ],
      "metadata": {
        "id": "wTXWcX70026p"
      }
    },
    {
      "cell_type": "code",
      "source": [
        "import pandas as pd\n",
        "import numpy as np"
      ],
      "metadata": {
        "id": "cCmXORoq8EdC"
      },
      "execution_count": null,
      "outputs": []
    },
    {
      "cell_type": "code",
      "source": [
        "df = pd.read_csv(\"https://raw.githubusercontent.com/karsarobert/Machine_Learning_2024/main/train.csv\") # adatok betöltése\n",
        "\n",
        "numerical_cols = [cname for cname in df.columns if df[cname].dtype in ['int64', 'float64']]\n",
        "object_cols = [cname for cname in df.columns if df[cname].dtype in ['object']]\n",
        "\n",
        "object_cols.append('target_reg')\n",
        "num_data = df[numerical_cols].dropna()\n",
        "\n",
        "\n",
        "y = num_data['target_reg'] #classifier\n",
        "X = num_data.drop(['target_reg'], axis = 1) # X,y beállítása"
      ],
      "metadata": {
        "id": "DFYx7XL88Ejg"
      },
      "execution_count": null,
      "outputs": []
    },
    {
      "cell_type": "code",
      "source": [
        "X.head()"
      ],
      "metadata": {
        "colab": {
          "base_uri": "https://localhost:8080/",
          "height": 255
        },
        "id": "MUnNycKW1Gbn",
        "outputId": "99647d50-49ea-4870-c9a0-dae962dee012"
      },
      "execution_count": null,
      "outputs": [
        {
          "output_type": "execute_result",
          "data": {
            "text/plain": [
              "   id  KATEGORIKUS_VALTOZO_2014  KATEGORIKUS_VALTOZO_2015  \\\n",
              "0   1                         0                         0   \n",
              "1   2                         0                         0   \n",
              "2   3                         0                         0   \n",
              "3   4                         0                         0   \n",
              "4   5                         0                         0   \n",
              "\n",
              "   KATEGORIKUS_VALTOZO_2016  aktelh_2014  aktelh_2015  aktelh_2016  \\\n",
              "0                         0     457724.0     586098.0     643830.0   \n",
              "1                         0         49.0        720.0        421.0   \n",
              "2                         0         80.0        538.0        680.0   \n",
              "3                         0        203.0        265.0        232.0   \n",
              "4                         0          0.0          0.0          0.0   \n",
              "\n",
              "   aktsajt_2014  aktsajt_2015  aktsajt_2016  ...  rovkot_2016  rszem_2014  \\\n",
              "0      535126.0      849583.0     1234907.0  ...   17326862.0  10244187.0   \n",
              "1           0.0           0.0           0.0  ...       3496.0     11494.0   \n",
              "2           0.0           0.0           0.0  ...     261437.0     41030.0   \n",
              "3           0.0           0.0           0.0  ...       3340.0     10629.0   \n",
              "4           0.0           0.0           0.0  ...      14777.0      8787.0   \n",
              "\n",
              "   rszem_2015  rszem_2016  sajattok_2014  sajattok_2015  sajattok_2016  \\\n",
              "0  10726882.0  11271908.0     13450028.0     13883334.0     14386576.0   \n",
              "1     10583.0     10506.0        30300.0        33324.0        33258.0   \n",
              "2     43769.0     44200.0       185435.0       190736.0       259307.0   \n",
              "3     10892.0     11999.0         7850.0         8395.0         8582.0   \n",
              "4      6172.0      6457.0         -287.0         -782.0        -2780.0   \n",
              "\n",
              "   targyie_2014  targyie_2015  targyie_2016  \n",
              "0   107131440.0   130146063.0   156391175.0  \n",
              "1        2806.0        9464.0        7518.0  \n",
              "2      162589.0      155789.0      152413.0  \n",
              "3       26155.0       24763.0       25364.0  \n",
              "4       10319.0        8467.0        6614.0  \n",
              "\n",
              "[5 rows x 95 columns]"
            ],
            "text/html": [
              "\n",
              "  <div id=\"df-ef8bdc22-c581-44b8-9f69-2a988bd99ff6\" class=\"colab-df-container\">\n",
              "    <div>\n",
              "<style scoped>\n",
              "    .dataframe tbody tr th:only-of-type {\n",
              "        vertical-align: middle;\n",
              "    }\n",
              "\n",
              "    .dataframe tbody tr th {\n",
              "        vertical-align: top;\n",
              "    }\n",
              "\n",
              "    .dataframe thead th {\n",
              "        text-align: right;\n",
              "    }\n",
              "</style>\n",
              "<table border=\"1\" class=\"dataframe\">\n",
              "  <thead>\n",
              "    <tr style=\"text-align: right;\">\n",
              "      <th></th>\n",
              "      <th>id</th>\n",
              "      <th>KATEGORIKUS_VALTOZO_2014</th>\n",
              "      <th>KATEGORIKUS_VALTOZO_2015</th>\n",
              "      <th>KATEGORIKUS_VALTOZO_2016</th>\n",
              "      <th>aktelh_2014</th>\n",
              "      <th>aktelh_2015</th>\n",
              "      <th>aktelh_2016</th>\n",
              "      <th>aktsajt_2014</th>\n",
              "      <th>aktsajt_2015</th>\n",
              "      <th>aktsajt_2016</th>\n",
              "      <th>...</th>\n",
              "      <th>rovkot_2016</th>\n",
              "      <th>rszem_2014</th>\n",
              "      <th>rszem_2015</th>\n",
              "      <th>rszem_2016</th>\n",
              "      <th>sajattok_2014</th>\n",
              "      <th>sajattok_2015</th>\n",
              "      <th>sajattok_2016</th>\n",
              "      <th>targyie_2014</th>\n",
              "      <th>targyie_2015</th>\n",
              "      <th>targyie_2016</th>\n",
              "    </tr>\n",
              "  </thead>\n",
              "  <tbody>\n",
              "    <tr>\n",
              "      <th>0</th>\n",
              "      <td>1</td>\n",
              "      <td>0</td>\n",
              "      <td>0</td>\n",
              "      <td>0</td>\n",
              "      <td>457724.0</td>\n",
              "      <td>586098.0</td>\n",
              "      <td>643830.0</td>\n",
              "      <td>535126.0</td>\n",
              "      <td>849583.0</td>\n",
              "      <td>1234907.0</td>\n",
              "      <td>...</td>\n",
              "      <td>17326862.0</td>\n",
              "      <td>10244187.0</td>\n",
              "      <td>10726882.0</td>\n",
              "      <td>11271908.0</td>\n",
              "      <td>13450028.0</td>\n",
              "      <td>13883334.0</td>\n",
              "      <td>14386576.0</td>\n",
              "      <td>107131440.0</td>\n",
              "      <td>130146063.0</td>\n",
              "      <td>156391175.0</td>\n",
              "    </tr>\n",
              "    <tr>\n",
              "      <th>1</th>\n",
              "      <td>2</td>\n",
              "      <td>0</td>\n",
              "      <td>0</td>\n",
              "      <td>0</td>\n",
              "      <td>49.0</td>\n",
              "      <td>720.0</td>\n",
              "      <td>421.0</td>\n",
              "      <td>0.0</td>\n",
              "      <td>0.0</td>\n",
              "      <td>0.0</td>\n",
              "      <td>...</td>\n",
              "      <td>3496.0</td>\n",
              "      <td>11494.0</td>\n",
              "      <td>10583.0</td>\n",
              "      <td>10506.0</td>\n",
              "      <td>30300.0</td>\n",
              "      <td>33324.0</td>\n",
              "      <td>33258.0</td>\n",
              "      <td>2806.0</td>\n",
              "      <td>9464.0</td>\n",
              "      <td>7518.0</td>\n",
              "    </tr>\n",
              "    <tr>\n",
              "      <th>2</th>\n",
              "      <td>3</td>\n",
              "      <td>0</td>\n",
              "      <td>0</td>\n",
              "      <td>0</td>\n",
              "      <td>80.0</td>\n",
              "      <td>538.0</td>\n",
              "      <td>680.0</td>\n",
              "      <td>0.0</td>\n",
              "      <td>0.0</td>\n",
              "      <td>0.0</td>\n",
              "      <td>...</td>\n",
              "      <td>261437.0</td>\n",
              "      <td>41030.0</td>\n",
              "      <td>43769.0</td>\n",
              "      <td>44200.0</td>\n",
              "      <td>185435.0</td>\n",
              "      <td>190736.0</td>\n",
              "      <td>259307.0</td>\n",
              "      <td>162589.0</td>\n",
              "      <td>155789.0</td>\n",
              "      <td>152413.0</td>\n",
              "    </tr>\n",
              "    <tr>\n",
              "      <th>3</th>\n",
              "      <td>4</td>\n",
              "      <td>0</td>\n",
              "      <td>0</td>\n",
              "      <td>0</td>\n",
              "      <td>203.0</td>\n",
              "      <td>265.0</td>\n",
              "      <td>232.0</td>\n",
              "      <td>0.0</td>\n",
              "      <td>0.0</td>\n",
              "      <td>0.0</td>\n",
              "      <td>...</td>\n",
              "      <td>3340.0</td>\n",
              "      <td>10629.0</td>\n",
              "      <td>10892.0</td>\n",
              "      <td>11999.0</td>\n",
              "      <td>7850.0</td>\n",
              "      <td>8395.0</td>\n",
              "      <td>8582.0</td>\n",
              "      <td>26155.0</td>\n",
              "      <td>24763.0</td>\n",
              "      <td>25364.0</td>\n",
              "    </tr>\n",
              "    <tr>\n",
              "      <th>4</th>\n",
              "      <td>5</td>\n",
              "      <td>0</td>\n",
              "      <td>0</td>\n",
              "      <td>0</td>\n",
              "      <td>0.0</td>\n",
              "      <td>0.0</td>\n",
              "      <td>0.0</td>\n",
              "      <td>0.0</td>\n",
              "      <td>0.0</td>\n",
              "      <td>0.0</td>\n",
              "      <td>...</td>\n",
              "      <td>14777.0</td>\n",
              "      <td>8787.0</td>\n",
              "      <td>6172.0</td>\n",
              "      <td>6457.0</td>\n",
              "      <td>-287.0</td>\n",
              "      <td>-782.0</td>\n",
              "      <td>-2780.0</td>\n",
              "      <td>10319.0</td>\n",
              "      <td>8467.0</td>\n",
              "      <td>6614.0</td>\n",
              "    </tr>\n",
              "  </tbody>\n",
              "</table>\n",
              "<p>5 rows × 95 columns</p>\n",
              "</div>\n",
              "    <div class=\"colab-df-buttons\">\n",
              "\n",
              "  <div class=\"colab-df-container\">\n",
              "    <button class=\"colab-df-convert\" onclick=\"convertToInteractive('df-ef8bdc22-c581-44b8-9f69-2a988bd99ff6')\"\n",
              "            title=\"Convert this dataframe to an interactive table.\"\n",
              "            style=\"display:none;\">\n",
              "\n",
              "  <svg xmlns=\"http://www.w3.org/2000/svg\" height=\"24px\" viewBox=\"0 -960 960 960\">\n",
              "    <path d=\"M120-120v-720h720v720H120Zm60-500h600v-160H180v160Zm220 220h160v-160H400v160Zm0 220h160v-160H400v160ZM180-400h160v-160H180v160Zm440 0h160v-160H620v160ZM180-180h160v-160H180v160Zm440 0h160v-160H620v160Z\"/>\n",
              "  </svg>\n",
              "    </button>\n",
              "\n",
              "  <style>\n",
              "    .colab-df-container {\n",
              "      display:flex;\n",
              "      gap: 12px;\n",
              "    }\n",
              "\n",
              "    .colab-df-convert {\n",
              "      background-color: #E8F0FE;\n",
              "      border: none;\n",
              "      border-radius: 50%;\n",
              "      cursor: pointer;\n",
              "      display: none;\n",
              "      fill: #1967D2;\n",
              "      height: 32px;\n",
              "      padding: 0 0 0 0;\n",
              "      width: 32px;\n",
              "    }\n",
              "\n",
              "    .colab-df-convert:hover {\n",
              "      background-color: #E2EBFA;\n",
              "      box-shadow: 0px 1px 2px rgba(60, 64, 67, 0.3), 0px 1px 3px 1px rgba(60, 64, 67, 0.15);\n",
              "      fill: #174EA6;\n",
              "    }\n",
              "\n",
              "    .colab-df-buttons div {\n",
              "      margin-bottom: 4px;\n",
              "    }\n",
              "\n",
              "    [theme=dark] .colab-df-convert {\n",
              "      background-color: #3B4455;\n",
              "      fill: #D2E3FC;\n",
              "    }\n",
              "\n",
              "    [theme=dark] .colab-df-convert:hover {\n",
              "      background-color: #434B5C;\n",
              "      box-shadow: 0px 1px 3px 1px rgba(0, 0, 0, 0.15);\n",
              "      filter: drop-shadow(0px 1px 2px rgba(0, 0, 0, 0.3));\n",
              "      fill: #FFFFFF;\n",
              "    }\n",
              "  </style>\n",
              "\n",
              "    <script>\n",
              "      const buttonEl =\n",
              "        document.querySelector('#df-ef8bdc22-c581-44b8-9f69-2a988bd99ff6 button.colab-df-convert');\n",
              "      buttonEl.style.display =\n",
              "        google.colab.kernel.accessAllowed ? 'block' : 'none';\n",
              "\n",
              "      async function convertToInteractive(key) {\n",
              "        const element = document.querySelector('#df-ef8bdc22-c581-44b8-9f69-2a988bd99ff6');\n",
              "        const dataTable =\n",
              "          await google.colab.kernel.invokeFunction('convertToInteractive',\n",
              "                                                    [key], {});\n",
              "        if (!dataTable) return;\n",
              "\n",
              "        const docLinkHtml = 'Like what you see? Visit the ' +\n",
              "          '<a target=\"_blank\" href=https://colab.research.google.com/notebooks/data_table.ipynb>data table notebook</a>'\n",
              "          + ' to learn more about interactive tables.';\n",
              "        element.innerHTML = '';\n",
              "        dataTable['output_type'] = 'display_data';\n",
              "        await google.colab.output.renderOutput(dataTable, element);\n",
              "        const docLink = document.createElement('div');\n",
              "        docLink.innerHTML = docLinkHtml;\n",
              "        element.appendChild(docLink);\n",
              "      }\n",
              "    </script>\n",
              "  </div>\n",
              "\n",
              "\n",
              "<div id=\"df-f3a6f6df-9be5-46d9-b9f3-a76754bcede9\">\n",
              "  <button class=\"colab-df-quickchart\" onclick=\"quickchart('df-f3a6f6df-9be5-46d9-b9f3-a76754bcede9')\"\n",
              "            title=\"Suggest charts\"\n",
              "            style=\"display:none;\">\n",
              "\n",
              "<svg xmlns=\"http://www.w3.org/2000/svg\" height=\"24px\"viewBox=\"0 0 24 24\"\n",
              "     width=\"24px\">\n",
              "    <g>\n",
              "        <path d=\"M19 3H5c-1.1 0-2 .9-2 2v14c0 1.1.9 2 2 2h14c1.1 0 2-.9 2-2V5c0-1.1-.9-2-2-2zM9 17H7v-7h2v7zm4 0h-2V7h2v10zm4 0h-2v-4h2v4z\"/>\n",
              "    </g>\n",
              "</svg>\n",
              "  </button>\n",
              "\n",
              "<style>\n",
              "  .colab-df-quickchart {\n",
              "      --bg-color: #E8F0FE;\n",
              "      --fill-color: #1967D2;\n",
              "      --hover-bg-color: #E2EBFA;\n",
              "      --hover-fill-color: #174EA6;\n",
              "      --disabled-fill-color: #AAA;\n",
              "      --disabled-bg-color: #DDD;\n",
              "  }\n",
              "\n",
              "  [theme=dark] .colab-df-quickchart {\n",
              "      --bg-color: #3B4455;\n",
              "      --fill-color: #D2E3FC;\n",
              "      --hover-bg-color: #434B5C;\n",
              "      --hover-fill-color: #FFFFFF;\n",
              "      --disabled-bg-color: #3B4455;\n",
              "      --disabled-fill-color: #666;\n",
              "  }\n",
              "\n",
              "  .colab-df-quickchart {\n",
              "    background-color: var(--bg-color);\n",
              "    border: none;\n",
              "    border-radius: 50%;\n",
              "    cursor: pointer;\n",
              "    display: none;\n",
              "    fill: var(--fill-color);\n",
              "    height: 32px;\n",
              "    padding: 0;\n",
              "    width: 32px;\n",
              "  }\n",
              "\n",
              "  .colab-df-quickchart:hover {\n",
              "    background-color: var(--hover-bg-color);\n",
              "    box-shadow: 0 1px 2px rgba(60, 64, 67, 0.3), 0 1px 3px 1px rgba(60, 64, 67, 0.15);\n",
              "    fill: var(--button-hover-fill-color);\n",
              "  }\n",
              "\n",
              "  .colab-df-quickchart-complete:disabled,\n",
              "  .colab-df-quickchart-complete:disabled:hover {\n",
              "    background-color: var(--disabled-bg-color);\n",
              "    fill: var(--disabled-fill-color);\n",
              "    box-shadow: none;\n",
              "  }\n",
              "\n",
              "  .colab-df-spinner {\n",
              "    border: 2px solid var(--fill-color);\n",
              "    border-color: transparent;\n",
              "    border-bottom-color: var(--fill-color);\n",
              "    animation:\n",
              "      spin 1s steps(1) infinite;\n",
              "  }\n",
              "\n",
              "  @keyframes spin {\n",
              "    0% {\n",
              "      border-color: transparent;\n",
              "      border-bottom-color: var(--fill-color);\n",
              "      border-left-color: var(--fill-color);\n",
              "    }\n",
              "    20% {\n",
              "      border-color: transparent;\n",
              "      border-left-color: var(--fill-color);\n",
              "      border-top-color: var(--fill-color);\n",
              "    }\n",
              "    30% {\n",
              "      border-color: transparent;\n",
              "      border-left-color: var(--fill-color);\n",
              "      border-top-color: var(--fill-color);\n",
              "      border-right-color: var(--fill-color);\n",
              "    }\n",
              "    40% {\n",
              "      border-color: transparent;\n",
              "      border-right-color: var(--fill-color);\n",
              "      border-top-color: var(--fill-color);\n",
              "    }\n",
              "    60% {\n",
              "      border-color: transparent;\n",
              "      border-right-color: var(--fill-color);\n",
              "    }\n",
              "    80% {\n",
              "      border-color: transparent;\n",
              "      border-right-color: var(--fill-color);\n",
              "      border-bottom-color: var(--fill-color);\n",
              "    }\n",
              "    90% {\n",
              "      border-color: transparent;\n",
              "      border-bottom-color: var(--fill-color);\n",
              "    }\n",
              "  }\n",
              "</style>\n",
              "\n",
              "  <script>\n",
              "    async function quickchart(key) {\n",
              "      const quickchartButtonEl =\n",
              "        document.querySelector('#' + key + ' button');\n",
              "      quickchartButtonEl.disabled = true;  // To prevent multiple clicks.\n",
              "      quickchartButtonEl.classList.add('colab-df-spinner');\n",
              "      try {\n",
              "        const charts = await google.colab.kernel.invokeFunction(\n",
              "            'suggestCharts', [key], {});\n",
              "      } catch (error) {\n",
              "        console.error('Error during call to suggestCharts:', error);\n",
              "      }\n",
              "      quickchartButtonEl.classList.remove('colab-df-spinner');\n",
              "      quickchartButtonEl.classList.add('colab-df-quickchart-complete');\n",
              "    }\n",
              "    (() => {\n",
              "      let quickchartButtonEl =\n",
              "        document.querySelector('#df-f3a6f6df-9be5-46d9-b9f3-a76754bcede9 button');\n",
              "      quickchartButtonEl.style.display =\n",
              "        google.colab.kernel.accessAllowed ? 'block' : 'none';\n",
              "    })();\n",
              "  </script>\n",
              "</div>\n",
              "    </div>\n",
              "  </div>\n"
            ],
            "application/vnd.google.colaboratory.intrinsic+json": {
              "type": "dataframe",
              "variable_name": "X"
            }
          },
          "metadata": {},
          "execution_count": 4
        }
      ]
    },
    {
      "cell_type": "code",
      "source": [
        "from sklearn.preprocessing import StandardScaler\n",
        "\n",
        "scaler = StandardScaler() # adatok standardizálása 0 átlag 1 szórás\n",
        "X_std = pd.DataFrame(scaler.fit_transform(X))\n"
      ],
      "metadata": {
        "id": "oeOAsMx2HYFm"
      },
      "execution_count": null,
      "outputs": []
    },
    {
      "cell_type": "code",
      "source": [
        "from sklearn.decomposition import PCA\n",
        "import matplotlib.pyplot as plt\n",
        "\n",
        "pca = PCA().fit(X_std)\n",
        "plt.plot(np.cumsum(pca.explained_variance_ratio_))\n",
        "plt.xlabel('number of components')\n",
        "plt.ylabel('cumulative explained variance');"
      ],
      "metadata": {
        "colab": {
          "base_uri": "https://localhost:8080/",
          "height": 449
        },
        "id": "Kcz_PnD_9IOw",
        "outputId": "2c39c94a-eda0-4b17-8dd7-9b1485bae88d"
      },
      "execution_count": null,
      "outputs": [
        {
          "output_type": "display_data",
          "data": {
            "text/plain": [
              "<Figure size 640x480 with 1 Axes>"
            ],
            "image/png": "[encoded data removed]"
          },
          "metadata": {}
        }
      ]
    },
    {
      "cell_type": "code",
      "source": [
        "from sklearn.decomposition import PCA\n",
        "import matplotlib.pyplot as plt\n",
        "\n",
        "\n",
        "pca = PCA(0.95).fit(X_std)\n",
        "pca.n_components_"
      ],
      "metadata": {
        "colab": {
          "base_uri": "https://localhost:8080/"
        },
        "id": "hixqWSMz9fz-",
        "outputId": "3191b4e1-69fd-4b40-cd1a-2af6b7470733"
      },
      "execution_count": null,
      "outputs": [
        {
          "output_type": "execute_result",
          "data": {
            "text/plain": [
              "21"
            ]
          },
          "metadata": {},
          "execution_count": 42
        }
      ]
    },
    {
      "cell_type": "code",
      "source": [
        "from sklearn.decomposition import PCA\n",
        "\n",
        "pca = PCA(20)\n",
        "df_pca= pca.fit_transform(X_std)\n",
        "#pca.components_"
      ],
      "metadata": {
        "id": "taGFcfQb-mK9"
      },
      "execution_count": null,
      "outputs": []
    },
    {
      "cell_type": "code",
      "source": [
        "pca.explained_variance_ratio_"
      ],
      "metadata": {
        "colab": {
          "base_uri": "https://localhost:8080/"
        },
        "id": "AfREsqFCgZna",
        "outputId": "2639a4db-e0a7-4957-8280-b7f3f6dc9b72"
      },
      "execution_count": null,
      "outputs": [
        {
          "output_type": "execute_result",
          "data": {
            "text/plain": [
              "array([0.2515385 , 0.12616439, 0.09500202, 0.0771211 , 0.05998964,\n",
              "       0.04812379, 0.04527425, 0.03825791, 0.02917088, 0.02629535,\n",
              "       0.02257873, 0.01902108, 0.01875618, 0.01773362, 0.01689886,\n",
              "       0.01272106, 0.01248232, 0.01098776, 0.00968484, 0.00712076])"
            ]
          },
          "metadata": {},
          "execution_count": 44
        }
      ]
    },
    {
      "cell_type": "code",
      "source": [
        "from sklearn.model_selection import train_test_split\n",
        "X_train, X_test, y_train, y_test = train_test_split(df_pca, y, test_size=0.2,random_state=0) # adatok felosztása 80-20 %\n"
      ],
      "metadata": {
        "id": "EfRG3L3HCAbC"
      },
      "execution_count": null,
      "outputs": []
    },
    {
      "cell_type": "code",
      "source": [
        "from sklearn.ensemble import RandomForestRegressor\n",
        "\n",
        "forest = RandomForestRegressor(n_estimators=100,\n",
        "                                random_state=1)\n",
        "\n",
        "forest.fit(X_train, y_train)\n",
        "\n"
      ],
      "metadata": {
        "colab": {
          "base_uri": "https://localhost:8080/",
          "height": 74
        },
        "id": "kH_7mAzc_jjV",
        "outputId": "c994c660-1abd-4d06-9a4c-85b828ba5d82"
      },
      "execution_count": null,
      "outputs": [
        {
          "output_type": "execute_result",
          "data": {
            "text/plain": [
              "RandomForestRegressor(random_state=1)"
            ],
            "text/html": [
              "<style>#sk-container-id-2 {color: black;background-color: white;}#sk-container-id-2 pre{padding: 0;}#sk-container-id-2 div.sk-toggleable {background-color: white;}#sk-container-id-2 label.sk-toggleable__label {cursor: pointer;display: block;width: 100%;margin-bottom: 0;padding: 0.3em;box-sizing: border-box;text-align: center;}#sk-container-id-2 label.sk-toggleable__label-arrow:before {content: \"▸\";float: left;margin-right: 0.25em;color: #696969;}#sk-container-id-2 label.sk-toggleable__label-arrow:hover:before {color: black;}#sk-container-id-2 div.sk-estimator:hover label.sk-toggleable__label-arrow:before {color: black;}#sk-container-id-2 div.sk-toggleable__content {max-height: 0;max-width: 0;overflow: hidden;text-align: left;background-color: #f0f8ff;}#sk-container-id-2 div.sk-toggleable__content pre {margin: 0.2em;color: black;border-radius: 0.25em;background-color: #f0f8ff;}#sk-container-id-2 input.sk-toggleable__control:checked~div.sk-toggleable__content {max-height: 200px;max-width: 100%;overflow: auto;}#sk-container-id-2 input.sk-toggleable__control:checked~label.sk-toggleable__label-arrow:before {content: \"▾\";}#sk-container-id-2 div.sk-estimator input.sk-toggleable__control:checked~label.sk-toggleable__label {background-color: #d4ebff;}#sk-container-id-2 div.sk-label input.sk-toggleable__control:checked~label.sk-toggleable__label {background-color: #d4ebff;}#sk-container-id-2 input.sk-hidden--visually {border: 0;clip: rect(1px 1px 1px 1px);clip: rect(1px, 1px, 1px, 1px);height: 1px;margin: -1px;overflow: hidden;padding: 0;position: absolute;width: 1px;}#sk-container-id-2 div.sk-estimator {font-family: monospace;background-color: #f0f8ff;border: 1px dotted black;border-radius: 0.25em;box-sizing: border-box;margin-bottom: 0.5em;}#sk-container-id-2 div.sk-estimator:hover {background-color: #d4ebff;}#sk-container-id-2 div.sk-parallel-item::after {content: \"\";width: 100%;border-bottom: 1px solid gray;flex-grow: 1;}#sk-container-id-2 div.sk-label:hover label.sk-toggleable__label {background-color: #d4ebff;}#sk-container-id-2 div.sk-serial::before {content: \"\";position: absolute;border-left: 1px solid gray;box-sizing: border-box;top: 0;bottom: 0;left: 50%;z-index: 0;}#sk-container-id-2 div.sk-serial {display: flex;flex-direction: column;align-items: center;background-color: white;padding-right: 0.2em;padding-left: 0.2em;position: relative;}#sk-container-id-2 div.sk-item {position: relative;z-index: 1;}#sk-container-id-2 div.sk-parallel {display: flex;align-items: stretch;justify-content: center;background-color: white;position: relative;}#sk-container-id-2 div.sk-item::before, #sk-container-id-2 div.sk-parallel-item::before {content: \"\";position: absolute;border-left: 1px solid gray;box-sizing: border-box;top: 0;bottom: 0;left: 50%;z-index: -1;}#sk-container-id-2 div.sk-parallel-item {display: flex;flex-direction: column;z-index: 1;position: relative;background-color: white;}#sk-container-id-2 div.sk-parallel-item:first-child::after {align-self: flex-end;width: 50%;}#sk-container-id-2 div.sk-parallel-item:last-child::after {align-self: flex-start;width: 50%;}#sk-container-id-2 div.sk-parallel-item:only-child::after {width: 0;}#sk-container-id-2 div.sk-dashed-wrapped {border: 1px dashed gray;margin: 0 0.4em 0.5em 0.4em;box-sizing: border-box;padding-bottom: 0.4em;background-color: white;}#sk-container-id-2 div.sk-label label {font-family: monospace;font-weight: bold;display: inline-block;line-height: 1.2em;}#sk-container-id-2 div.sk-label-container {text-align: center;}#sk-container-id-2 div.sk-container {/* jupyter's `normalize.less` sets `[hidden] { display: none; }` but bootstrap.min.css set `[hidden] { display: none !important; }` so we also need the `!important` here to be able to override the default hidden behavior on the sphinx rendered scikit-learn.org. See: https://github.com/scikit-learn/scikit-learn/issues/21755 */display: inline-block !important;position: relative;}#sk-container-id-2 div.sk-text-repr-fallback {display: none;}</style><div id=\"sk-container-id-2\" class=\"sk-top-container\"><div class=\"sk-text-repr-fallback\"><pre>RandomForestRegressor(random_state=1)</pre><b>In a Jupyter environment, please rerun this cell to show the HTML representation or trust the notebook. <br />On GitHub, the HTML representation is unable to render, please try loading this page with nbviewer.org.</b></div><div class=\"sk-container\" hidden><div class=\"sk-item\"><div class=\"sk-estimator sk-toggleable\"><input class=\"sk-toggleable__control sk-hidden--visually\" id=\"sk-estimator-id-2\" type=\"checkbox\" checked><label for=\"sk-estimator-id-2\" class=\"sk-toggleable__label sk-toggleable__label-arrow\">RandomForestRegressor</label><div class=\"sk-toggleable__content\"><pre>RandomForestRegressor(random_state=1)</pre></div></div></div></div></div>"
            ]
          },
          "metadata": {},
          "execution_count": 46
        }
      ]
    },
    {
      "cell_type": "code",
      "source": [
        "from sklearn.metrics import mean_absolute_error\n",
        "\n",
        "pred = forest.predict(X_test)\n",
        "MAE = mean_absolute_error(y_test, pred)\n",
        "MAE"
      ],
      "metadata": {
        "colab": {
          "base_uri": "https://localhost:8080/"
        },
        "id": "K2mx8ne7AuaI",
        "outputId": "c4c7a517-69ce-429b-9e42-27dc6545e2a5"
      },
      "execution_count": null,
      "outputs": [
        {
          "output_type": "execute_result",
          "data": {
            "text/plain": [
              "111333.93850813742"
            ]
          },
          "metadata": {},
          "execution_count": 47
        }
      ]
    },
    {
      "cell_type": "code",
      "source": [
        "from sklearn.linear_model import LinearRegression\n",
        "from sklearn.metrics import mean_absolute_error\n",
        "\n",
        "linear = LinearRegression(fit_intercept=True)\n",
        "linear.fit(X_train, y_train)\n",
        "predlin = linear.predict(X_test)\n",
        "MAELR = mean_absolute_error(y_test, predlin)\n",
        "print(MAELR)"
      ],
      "metadata": {
        "colab": {
          "base_uri": "https://localhost:8080/"
        },
        "id": "0pVFOtOzROZn",
        "outputId": "65a04abc-0223-4663-8388-e95497a736f0"
      },
      "execution_count": null,
      "outputs": [
        {
          "output_type": "stream",
          "name": "stdout",
          "text": [
            "158618.45579165404\n"
          ]
        }
      ]
    },
    {
      "cell_type": "markdown",
      "source": [
        "#Beadandó feladat:\n",
        "dataracing.hu\n",
        "\n",
        "df = pd.read_csv(\"https://raw.githubusercontent.com/karsarobert/Machine_Learning_2024/main/train.csv\")\n",
        "\n",
        "y = df['target_reg']\n",
        "\n",
        "X = df.drop(['target_reg'], axis = 1)\n"
      ],
      "metadata": {
        "id": "Z3RtGMawsGe_"
      }
    }
  ]
}