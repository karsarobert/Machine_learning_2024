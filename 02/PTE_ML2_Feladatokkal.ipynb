{
  "nbformat": 4,
  "nbformat_minor": 0,
  "metadata": {
    "colab": {
      "provenance": [],
      "authorship_tag": "ABX9TyPFmH9P/85DdiHpWkE3xvC9",
      "include_colab_link": true
    },
    "kernelspec": {
      "name": "python3",
      "display_name": "Python 3"
    },
    "language_info": {
      "name": "python"
    }
  },
  "cells": [
    {
      "cell_type": "markdown",
      "metadata": {
        "id": "view-in-github",
        "colab_type": "text"
      },
      "source": [
        "<a href=\"https://colab.research.google.com/github/karsarobert/Machine_learning_2024/blob/main/02/PTE_ML2_Feladatokkal.ipynb\" target=\"_parent\"><img src=\"https://colab.research.google.com/assets/colab-badge.svg\" alt=\"Open In Colab\"/></a>"
      ]
    },
    {
      "cell_type": "markdown",
      "source": [
        "# A mesterséges intelligencia matematikai alapjai gyakorlat\n",
        "# PTE Gépi tanulás\n",
        "\n",
        "## 2. Gyakorlat: Matplotlib, Pandas python csomagok\n",
        "### 2024. február 13."
      ],
      "metadata": {
        "id": "9oCv1Ss4dbUY"
      }
    },
    {
      "cell_type": "markdown",
      "source": [
        "#Bevezetés\n",
        "A Matplotlib egy platformokon átívelő python könyvtár 2D grafikonok ábrázolására (más néven plots). Használható különböző felhasználói felületeken python szkriptekben, IPythonban, Jupyter Notebooksban, webes alkalmazásokban. Használható interaktív jelentési alkalmazások fejlesztésére, testre szabottan komplex dash board és képalkotó alkalmazások fejlesztésére. Támogatja a grafikonok mentését különböző formátumokban is. Korlátozottan támogatja a 3D-s ábrákat is. Számos 3rd party bővítményt is támogat a funkcionalitás bővítéséhez.\n",
        "\n",
        "##A Matplotlib architektúrája\n",
        "A Matplotlib 3 rétegű architektúrával rendelkezik, Backend, Artist és Scripting, logikusan egy veremként szerveződve. A Scripting egy API, amelynek segítségével a fejlesztők létrehozzák a grafikonokat. Az Artist az, amelyik a grafikonok létrehozásának tényleges munkáját végzi belsőleg. A Backend az, ahol a grafikon megjelenik.\n",
        "\n",
        "##Backend réteg\n",
        "Ez a legalsó réteg, ahol a grafikonok a kimeneti eszközre kerülnek. Ez lehet bármelyik felhasználói felület, amit a Matplotlib támogat. Kétféle Backend létezik. User Interface Backends (pygtk, wxpython, tkinter, qt4, vagy macosx stb. használatára, más néven \"interaktív backendek\"), és Hardcopy Backends képfájlok készítésére (PNG, SVG, PDF, PS; más néven \"nem interaktív backendek\")\n",
        "\n",
        "##Artist réteg\n",
        "Ez a feldolgozás középső rétege. A Matplotlib az artist objektumot használja a grafikon különböző elemeinek megrajzolására. Tehát minden elem(lásd alább egy ábra elemei), amit a grafikonon látunk, egy artist. Ez a réteg objektumorientált API-t biztosít a grafioknok ábrázolásához maximális rugalmassággal. Ez az interfész tapasztalt Python programozóknak készült, akik komplex műszerfal alkalmazásokat tudnak létrehozni.\n",
        "\n",
        "##Scripting réteg\n",
        "Ez a stack legfelső rétege. Ez a réteg egyszerű felületet biztosít a grafikonok létrehozásához. Ezt olyan végfelhasználóknak szánják, akik nem rendelkeznek nagy programozási ismeretekkel. Ezt pyplot API-nak nevezik.\n",
        "\n",
        "\n",
        "\n"
      ],
      "metadata": {
        "id": "AFcQ9rGgwuus"
      }
    },
    {
      "cell_type": "markdown",
      "source": [
        "##Interaktív és nem interaktív módok\n",
        "Interaktív módban a grafikon minden egyes utasítás után frissül a háttértárban. A nem interaktív módban a grafikon csak akkor jelenik meg, ha kifejezetten erre kérik. A következő parancsokkal az interaktív mód be- és kikapcsolható, valamint bármikor ellenőrizhető az aktuális mód.\n",
        "\n",
        "matplotlib.pyplot.ion() az interaktív üzemmód bekapcsolásához\n",
        "matplotlib.pyplot.ioff() az interaktív mód kikapcsolásához\n",
        "matplotlib.is_interactive() annak ellenőrzésére, hogy az interaktív mód be van-e kapcsolva (True) vagy ki van-e kapcsolva (False)."
      ],
      "metadata": {
        "id": "FgPUAxA1yI9u"
      }
    },
    {
      "cell_type": "markdown",
      "source": [
        "#Matplotlib\n",
        "[bevezetés](https://matplotlib.org/stable/tutorials/introductory/quick_start.html#sphx-glr-tutorials-introductory-quick-start-py)"
      ],
      "metadata": {
        "id": "w6xXqr1Vichd"
      }
    },
    {
      "cell_type": "code",
      "source": [
        "# %matplotlib inline a notebookba ágyazott statikus grafikonokat eredményez.\n",
        "%matplotlib inline\n",
        "\n",
        "import matplotlib\n",
        "import matplotlib.pyplot as plt\n",
        "\n",
        "# Set the interactive mode to ON\n",
        "plt.ion()\n",
        "\n",
        "# Check the status of interactive mode\n",
        "matplotlib.is_interactive()"
      ],
      "metadata": {
        "id": "s25I3XYJyTar"
      },
      "execution_count": null,
      "outputs": []
    },
    {
      "cell_type": "code",
      "source": [
        "plt.plot([1.5, 3.0]);"
      ],
      "metadata": {
        "id": "5kzfk-ecynTb"
      },
      "execution_count": null,
      "outputs": []
    },
    {
      "cell_type": "code",
      "source": [
        "plt.plot([1.5, 3.0]);\n",
        "\n",
        "# Add labels and title\n",
        "plt.title(\"Interactive Plot\")\n",
        "plt.xlabel(\"X-tengely\")\n",
        "plt.ylabel(\"Y-axis\")"
      ],
      "metadata": {
        "id": "Fy9vZL5cyoCp"
      },
      "execution_count": null,
      "outputs": []
    },
    {
      "cell_type": "code",
      "source": [
        "# Plot a line graph\n",
        "plt.plot([1.5, 3.0])\n",
        "\n",
        "# Add labels and title\n",
        "plt.title(\"Interactive Plot\");\n",
        "plt.xlabel(\"X-axis\")\n",
        "plt.ylabel(\"Y-axis\")\n",
        "\n",
        "# Add One more line graph\n",
        "plt.plot([3.5, 2.5])"
      ],
      "metadata": {
        "id": "U57_LQyx1Ui_"
      },
      "execution_count": null,
      "outputs": []
    },
    {
      "cell_type": "markdown",
      "source": [
        "#Feladat készítsünk vonaldiagramot amely megvalósítja a x**2 fügvényt X=1-10-ig használjuk a np.linspace-t"
      ],
      "metadata": {
        "id": "lkuvSIfR3ivx"
      }
    },
    {
      "cell_type": "code",
      "source": [
        "import numpy as np\n",
        "\n"
      ],
      "metadata": {
        "id": "tzBp5IS2robw"
      },
      "execution_count": null,
      "outputs": []
    },
    {
      "cell_type": "code",
      "source": [],
      "metadata": {
        "id": "UbJfoEb3r493"
      },
      "execution_count": null,
      "outputs": []
    },
    {
      "cell_type": "code",
      "source": [
        "\n",
        "\n"
      ],
      "metadata": {
        "id": "ka0H4tJhFhUN"
      },
      "execution_count": null,
      "outputs": []
    },
    {
      "cell_type": "markdown",
      "source": [
        "##Fájlok beolvasása"
      ],
      "metadata": {
        "id": "FijWsD8P-lsm"
      }
    },
    {
      "cell_type": "code",
      "source": [
        "import numpy as np\n",
        "#x, y = np.loadtxt ('test.csv', unpack = True, usecols = (0,1), delimiter = ',')\n",
        "x, y = np.loadtxt ('https://raw.githubusercontent.com/karsarobert/Machine_Learning_2024/main/grades.csv', unpack = True, usecols = (0,1), delimiter = ',')\n",
        "print(x)\n",
        "print(y)"
      ],
      "metadata": {
        "id": "v8EjIhIU1pGV"
      },
      "execution_count": null,
      "outputs": []
    },
    {
      "cell_type": "code",
      "source": [
        "# import pyplot library\n",
        "import matplotlib.pyplot as plt\n",
        "\n",
        "# plot the graph\n",
        "plt.plot(x, y)\n",
        "\n",
        "# Display the graph on the screen\n",
        "#plt.show()"
      ],
      "metadata": {
        "id": "d4lAH7pZ-wKD"
      },
      "execution_count": null,
      "outputs": []
    },
    {
      "cell_type": "code",
      "source": [
        "x = np.linspace(0, 10, 1000)\n",
        "plt.plot(x, np.sin(x - 0), color='blue')        # specify color by name\n",
        "plt.plot(x, np.sin(x - 1), color='g')           # short color code (rgbcmyk)\n",
        "plt.plot(x, np.sin(x - 2), color='0.75')        # Grayscale between 0 and 1\n",
        "plt.plot(x, np.sin(x - 3), color='#FFDD44')     # Hex code (RRGGBB from 00 to FF)\n",
        "plt.plot(x, np.sin(x - 4), color=(1.0,0.2,0.3)) # RGB tuple, values 0 to 1\n",
        "plt.plot(x, np.sin(x - 5), color='chartreuse'); # all HTML color names supported\n",
        "plt.grid(True)"
      ],
      "metadata": {
        "id": "5ASzAt7Zc5gS"
      },
      "execution_count": null,
      "outputs": []
    },
    {
      "cell_type": "code",
      "source": [
        "plt.plot(x, x + 0, linestyle='solid')\n",
        "plt.plot(x, x + 1, linestyle='dashed')\n",
        "plt.plot(x, x + 2, linestyle='dashdot')\n",
        "plt.plot(x, x + 3, linestyle='dotted');\n",
        "\n",
        "# rövidített kódok:\n",
        "plt.plot(x, x + 4, linestyle='-')  # solid\n",
        "plt.plot(x, x + 5, linestyle='--') # dashed\n",
        "plt.plot(x, x + 6, linestyle='-.') # dashdot\n",
        "plt.plot(x, x + 7, linestyle=':');  # dotted\n",
        "plt.grid(True)"
      ],
      "metadata": {
        "id": "1LmUxexaibyw"
      },
      "execution_count": null,
      "outputs": []
    },
    {
      "cell_type": "code",
      "source": [],
      "metadata": {
        "id": "GoN8Ph19ruwf"
      },
      "execution_count": null,
      "outputs": []
    },
    {
      "cell_type": "markdown",
      "source": [
        "#Mellékesen: MATLAb -- OO\n",
        "Míg a legtöbb plt függvény közvetlenül lefordítható ax metódusokra (például plt.plot() → ax.plot(), plt.legend() → ax.legend(), stb.), ez nem minden parancs esetében van így. Különösen a határértékek, címkék és címek beállítására szolgáló függvények módosulnak kissé. A MATLAB-stílusú függvények és az objektumorientált módszerek közötti átmenethez a következő módosításokat kell elvégezni:\n",
        "\n",
        "plt.xlabel() → ax.set_xlabel()\n",
        "\n",
        "plt.ylabel() → ax.set_ylabel()\n",
        "\n",
        "plt.xlim() → ax.set_xlim()\n",
        "\n",
        "plt.ylim() → ax.set_ylim()\n",
        "\n",
        "plt.title() → ax.set_title()\n",
        "\n",
        "A rajzolás objektumorientált felületén ahelyett, hogy ezeket a függvényeket egyenként hívnánk meg, gyakran kényelmesebb az ax.set() metódus használatával egyszerre beállítani ezeket a tulajdonságokat:"
      ],
      "metadata": {
        "id": "1Fx4n2pyl9Y9"
      }
    },
    {
      "cell_type": "code",
      "source": [
        "fig, ax = plt.subplots(1, 1, figsize=(5, 5))"
      ],
      "metadata": {
        "id": "crQrdyorb8aX"
      },
      "execution_count": null,
      "outputs": []
    },
    {
      "cell_type": "markdown",
      "source": [
        "Egy képen belül több grafikon van, amit axes-nek hívunk. (Nem összekeverendő az axis szóval, ami tengelyt jelent!) Amelyikre kiadjuk a parancsot, arra rajzolunk.\n",
        "\n"
      ],
      "metadata": {
        "id": "xPSHN_xPCTFm"
      }
    },
    {
      "cell_type": "code",
      "source": [
        "fig, ax = plt.subplots(2, 3, figsize=(9, 6))"
      ],
      "metadata": {
        "id": "W812HdZ6q2i-"
      },
      "execution_count": null,
      "outputs": []
    },
    {
      "cell_type": "code",
      "source": [
        "for i in range(2):\n",
        "    for j in range(3):\n",
        "        ax[i, j].text(0.5, 0.5, str((i, j)),\n",
        "                      fontsize=18, ha='center')\n",
        "fig"
      ],
      "metadata": {
        "id": "nidzjWCmq-ec"
      },
      "execution_count": null,
      "outputs": []
    },
    {
      "cell_type": "code",
      "source": [
        "import matplotlib.pyplot as plt\n",
        "import numpy as np\n",
        "import calendar\n",
        "\n",
        "# A matplotlib csak lebegőpontos adattípusokat fogad el az adatok argumentumaként.\n",
        "# A hónapokat tehát numerikus formában kell ábrázolni.\n",
        "month_num = [1, 2, 3, 4, 5, 6, 7, 8, 9, 10, 11, 12]\n",
        "units_sold = [500, 600, 750, 900, 1100, 1050, 1000, 950, 800, 700, 550, 450]\n",
        "\n",
        "fig, ax = plt.subplots(1, 1, figsize=(5, 5))   # méret és grafikonok száma\n",
        "# a hónap formátumát számról a megfelelő hónap nevére változtatja az x-tengelyen.\n",
        "plt.xticks(month_num, calendar.month_name[1:13], rotation=90)\n",
        "\n",
        "# plot the bar graph\n",
        "plot = ax.bar(month_num, units_sold)\n",
        "\n",
        "#Display the graph on the screen\n",
        "plt.show();"
      ],
      "metadata": {
        "id": "oefYGGyXA-hV"
      },
      "execution_count": null,
      "outputs": []
    },
    {
      "cell_type": "code",
      "source": [
        "fig, axs = plt.subplots(2, 2, figsize=(10, 10))\n",
        "\n",
        "axs[0, 0].bar(month_num, units_sold)\n",
        "axs[0, 1].bar(month_num, units_sold)\n",
        "axs[1, 0].bar(month_num, units_sold, color = 'red')\n",
        "axs[1, 1].bar(month_num, units_sold)\n",
        "\n",
        "plt.show()\n"
      ],
      "metadata": {
        "id": "0VbknTc1BT3x"
      },
      "execution_count": null,
      "outputs": []
    },
    {
      "cell_type": "code",
      "source": [
        "plt.plot(x, np.sin(x))\n",
        "\n",
        "plt.xlim(-1, 11)\n",
        "plt.ylim(-1.5, 1.5);"
      ],
      "metadata": {
        "id": "pOZl5E-UlEE4"
      },
      "execution_count": null,
      "outputs": []
    },
    {
      "cell_type": "code",
      "source": [
        "ax = plt.axes()\n",
        "ax.plot(x, np.sin(x))\n",
        "ax.set(xlim=(0, 10), ylim=(-2, 2),\n",
        "       xlabel='x', ylabel='sin(x)',\n",
        "       title='A Simple Plot');"
      ],
      "metadata": {
        "id": "tN_c-JiKmhvT"
      },
      "execution_count": null,
      "outputs": []
    },
    {
      "cell_type": "code",
      "source": [
        "plt.plot(x, np.sin(x))\n",
        "plt.axis([-10, 11, -1.5, 1.5]);"
      ],
      "metadata": {
        "id": "kF3XmKFJlQ0l"
      },
      "execution_count": null,
      "outputs": []
    },
    {
      "cell_type": "code",
      "source": [
        "x = np.linspace(0, 10, 100)\n",
        "\n",
        "plt.plot(x, np.sin(x))\n",
        "plt.plot(x, np.cos(x))\n",
        "\n",
        "plt.show()"
      ],
      "metadata": {
        "id": "N93NDOfUCgc6"
      },
      "execution_count": null,
      "outputs": []
    },
    {
      "cell_type": "code",
      "source": [
        "fig, axs = plt.subplots(1, 2, figsize=(20, 10))\n",
        "\n",
        "axs[0].plot(x, np.sin(x),label=\"Szinusz\")\n",
        "axs[0].set(ylim=[-2, 2], ylabel='Y tengely', xlabel='X tengely',\n",
        "       title='Szinusz fgv.')\n",
        "axs[0].legend()\n",
        "axs[1].plot(x, np.cos(x),lw=3)"
      ],
      "metadata": {
        "id": "IVb_TC_mDpfQ"
      },
      "execution_count": null,
      "outputs": []
    },
    {
      "cell_type": "markdown",
      "source": [
        "#Feladat rajzoljuk meg a szigmoid fügv-t   -10 és 10 között\n",
        "![image.png](data:image/png;base64,iVBORw0KGgoAAAANSUhEUgAAAHQAAAAkCAYAAABYFB7QAAADc0lEQVR4nO2ba5HjMAyAlZsDYAiBYAiBYAiBYAiCYAiGIAiCIAiGIAa6HxfnmjZ9bpLudf3NdKZtEjuRKlmSVYDG5qiqEZH1fW9Hz/376Ak/HWa2nDMAAJRS3nw3jc1gZgOAwy3019ETNvalKfTDaAr9MJpCP4ym0A+jKfTD2EShqmoi8nCIPoX0jR1YFBaY2Zj55gXDMMAwDF39rKoWY4SU0sOTllKAiCyE0N0/+/+iyrDKI8ZozjlAxPc862RpRkQLKyqlWAjBEHHxfYzxKeusjONopZRmqXszKdJU9ULY069v/r6UYuM4vqQUEXn52sZ1LtZQZgbvPTjn7roIRIQQwksTe+87EYFmpTvjvbcY4yxkEZmt8lT4kwWvWnIpxRBxvo6ZDREvzo0xXrjwxoZUJdX1U1UthLAqcGY259zFMRGxnLMBANQ1l4gspXQxVkrJhmFoCt2Q8ygXAABEBBDREBFUdfXC6prPo2IimiM6730dq0NECyEAEc3neu8hxnj3Jp+x4rdFk9+RGKN57xfCuyZMRFy1rlO3HEKwlNJVZbxpi8k++bUIipgZhmFYPP04jk9Jq+/72ULWxvsGdJ/8ml2uqtYEeFEkOFXQKX3f35SaiNgwDOC97wD+We75eH3f393ZTynZNdd/TnO5E7fyzzVqAeJ8jBoonbvkNdc7rastKNqQXzXFQEQAAEgpPRSEeO8759xFHjkMA+SczXsPAH+VHGO0NddbSnk5j23sACJeBD2llEVJ71ZZsO/7hz1C4wBU9SIqfpSc81uLCu9stfwKIjIbDDNvbxBENBcSHkVV31rHZWZLKVXv8tJ9nFbTjkJETFWtesa1WvqX+3JDCB0RmYhYjWjvQUSQUoLav3o0dfvvK/uyIrLZ/UyKunr8tLbunOsQ0Zxz4JyDEMJCjps0Wj+7rzmO449MLUopRkSgqjCO49WU8BrVYIgIiOihDZQfxVcqVc/WoBHRvPdW18Bn07W65qvqYt0/9zLtrxAHMK3XICKzVU2bFg+PMXV5QCkFvPeQc7b6/pQfbbLMXPPjm3JYi8Zzzqtl0bVKlXPOQgjz+SICp1W0xkYc4XLrHDlnY+bd226ayz2IowLB1pe7M1PKAWvdGnvM9yMt9MhWS+dcl3O2GOOiTfbZ1tfGzjybtqiqtQbzb8wrvchH8Aed+MYH/JCn+gAAAABJRU5ErkJggg==)"
      ],
      "metadata": {
        "id": "6nPoEH0FQhBT"
      }
    },
    {
      "cell_type": "code",
      "source": [
        "def sigmoid(x):\n",
        "  return"
      ],
      "metadata": {
        "id": "bjP62VYXSVMM"
      },
      "execution_count": null,
      "outputs": []
    },
    {
      "cell_type": "code",
      "source": [
        "#x =\n",
        "#y ="
      ],
      "metadata": {
        "id": "V1L9f56TL-OC"
      },
      "execution_count": null,
      "outputs": []
    },
    {
      "cell_type": "code",
      "source": [],
      "metadata": {
        "id": "LB31GPNBRUYR"
      },
      "execution_count": null,
      "outputs": []
    },
    {
      "cell_type": "markdown",
      "source": [
        "#Feladat rajzoljunk lineáris, négyzetes és köbös fügvényeket"
      ],
      "metadata": {
        "id": "pLFB_JZZUPGx"
      }
    },
    {
      "cell_type": "code",
      "source": [
        "x = np.linspace(-5, 5, 100)  # Minta adatok\n",
        "\n",
        "plt.figure(figsize=(20,10))\n",
        "plt.plot()  #lineáris\n",
        "plt.plot(, , label='négyzetes',color='blue', linewidth=3, linestyle='--')\n",
        "plt.plot(, , label='köbös')\n",
        "plt.xlabel('x tengely')\n",
        "plt.ylabel('y tengely')\n",
        "plt.title(\"Fügvények\")\n",
        "plt.scatter(, , s=50, facecolor='C0', edgecolor='k')\n",
        "plt.legend()\n",
        "plt.grid(True)\n",
        "plt.axis([-5, 5, -100, 100])"
      ],
      "metadata": {
        "id": "NTbuP4UhQCpb"
      },
      "execution_count": null,
      "outputs": []
    },
    {
      "cell_type": "markdown",
      "source": [
        "#Mutatók rajzolása"
      ],
      "metadata": {
        "id": "nEO9DBMPWsQa"
      }
    },
    {
      "cell_type": "code",
      "source": [
        "fig, ax = plt.subplots(1, 1, figsize=(20, 10))\n",
        "\n",
        "t = np.arange(0.0, 5.0, 0.01)\n",
        "s = np.cos(2 * np.pi * t)\n",
        "ax.plot(t, s, lw=2)\n",
        "#line, = ax.plot(t, s, lw=2)\n",
        "\n",
        "ax.annotate('lokális maximum', xy=(2, 1), xytext=(3, 1.5),\n",
        "            arrowprops=dict(facecolor='black', shrink=0.05))\n",
        "\n",
        "ax.set_ylim(-2, 2);"
      ],
      "metadata": {
        "id": "1Yc2tTtRUiZs"
      },
      "execution_count": null,
      "outputs": []
    },
    {
      "cell_type": "markdown",
      "source": [
        "#Hibasávok\n",
        "\n",
        "Egy alapvető hibasávot egyetlen Matplotlib függvényhívással lehet létrehozni:"
      ],
      "metadata": {
        "id": "oMg7tL8dnTQW"
      }
    },
    {
      "cell_type": "code",
      "source": [
        "np.random.randn(50) # véletlen számok egy normál eloszlásból 0 átlaggal és 1 varianciával"
      ],
      "metadata": {
        "id": "XlHwszDQXK2W"
      },
      "execution_count": null,
      "outputs": []
    },
    {
      "cell_type": "code",
      "source": [
        "x = np.linspace(0, 10, 50)\n",
        "dy = 0.8\n",
        "y = np.sin(x) + dy * np.random.randn(50)\n",
        "\n",
        "plt.errorbar(x, y, yerr=dy, fmt='.k'); #  hibasávok mindenhol 0,8"
      ],
      "metadata": {
        "id": "5haZZ2i2nQ-G"
      },
      "execution_count": null,
      "outputs": []
    },
    {
      "cell_type": "markdown",
      "source": [
        "#Hisztogrammok"
      ],
      "metadata": {
        "id": "CqsZ1W0An4yW"
      }
    },
    {
      "cell_type": "code",
      "source": [
        "data = np.random.randn(5000) #próbáljuk meg rand\n",
        "plt.hist(data);"
      ],
      "metadata": {
        "id": "yvHT6Yjjn8bi"
      },
      "execution_count": null,
      "outputs": []
    },
    {
      "cell_type": "code",
      "source": [
        "plt.hist(data, bins=30, alpha=0.5,\n",
        "         histtype='stepfilled', color='steelblue',\n",
        "         edgecolor='none');"
      ],
      "metadata": {
        "id": "Pu9zZs8MoG6L"
      },
      "execution_count": null,
      "outputs": []
    },
    {
      "cell_type": "code",
      "source": [
        "x1 = np.random.normal(0, 0.8, 1000) #átlag, szórás, mintaszám\n",
        "x2 = np.random.normal(-2, 1, 1000)\n",
        "x3 = np.random.normal(3, 2, 1000)\n",
        "\n",
        "kwargs = dict(histtype='stepfilled', alpha=0.3, bins=40)\n",
        "\n",
        "plt.hist(x1, **kwargs) # **kwargs ugyanúgy működik *args, mint a , de a helyzeti argumentumok elfogadása helyett kulcsszavas (vagy named ) argumentumokat fogad el\n",
        "plt.hist(x2, **kwargs)\n",
        "plt.hist(x3, **kwargs);"
      ],
      "metadata": {
        "id": "uXlBY_umpBFZ"
      },
      "execution_count": null,
      "outputs": []
    },
    {
      "cell_type": "code",
      "source": [
        "def f(t):\n",
        "    return np.exp(-t) * np.cos(2*np.pi*t)\n",
        "\n",
        "t1 = np.arange(0.0, 5.0, 0.1)\n",
        "t2 = np.arange(0.0, 5.0, 0.02)\n",
        "\n",
        "fig, ax = plt.subplots(1, 1, figsize=(20, 10))\n",
        "ax.plot(t1, f(t1), 'bo', t2, f(t2), 'k') # 'bo' x és y ábrázolása kék kör jelölőkkel, 'k' a feketét jelöli r red,..."
      ],
      "metadata": {
        "id": "9rv33eN0Z7pp"
      },
      "execution_count": null,
      "outputs": []
    },
    {
      "cell_type": "markdown",
      "source": [
        "#Adatmanipuláció Pandas segítségével\n",
        "Részletesen megvizsgáljuk a Pandas könyvtár által biztosított adatszerkezeteket. A Pandas egy újabb csomag, amely a NumPy-ra épül, és a DataFrame hatékony implementációját biztosítja. A DataFrame-ek lényegében többdimenziós tömbök, csatolt sor- és oszlopcímkékkel, és gyakran heterogén típusokkal és/vagy hiányzó adatokkal. Amellett, hogy a Pandas kényelmes tárolási felületet kínál a címkézett adatok számára, számos olyan hatékony adatműveletet is megvalósít, amelyek ismerősek az adatbázis-keretrendszerek és a táblázatkezelő programok felhasználói számára egyaránt.\n",
        "\n",
        "A Pandas, és különösen annak Series és DataFrame objektumai a NumPy tömbszerkezetére épülnek, és hatékony hozzáférést biztosít az ilyen típusú manipulációs feladatokhoz, amelyek az adatkutatók idejének nagy részét lefoglalják.\n",
        "\n",
        "Ebben a részben a Series, a DataFrame és a kapcsolódó struktúrák hatékony használatának mechanikájára fogunk összpontosítani. Ahol szükséges, valós adathalmazokból vett példákat fogunk használni, de nem feltétlenül ezek a példák állnak a középpontban."
      ],
      "metadata": {
        "id": "u79eT1uVt5ol"
      }
    },
    {
      "cell_type": "code",
      "execution_count": null,
      "metadata": {
        "collapsed": true,
        "id": "ZOeQaX0LuwOt"
      },
      "outputs": [],
      "source": [
        "import numpy as np\n",
        "import pandas as pd"
      ]
    },
    {
      "cell_type": "markdown",
      "metadata": {
        "id": "0wFhxXo7uwOw"
      },
      "source": [
        "#A Pandas Series Objektum\n",
        "\n",
        "A Pandas ``Series`` egy indexelt adatokból álló egydimenziós tömb.\n",
        "Egy listából vagy tömbből hozható létre az alábbiak szerint:"
      ]
    },
    {
      "cell_type": "code",
      "execution_count": null,
      "metadata": {
        "id": "aVtTlGSyuwOx"
      },
      "outputs": [],
      "source": [
        "data = pd.Series([0.25, 0.5, 0.75, 1.0])\n",
        "data"
      ]
    },
    {
      "cell_type": "markdown",
      "metadata": {
        "id": "FS2U5D0zuwO0"
      },
      "source": [
        "Ahogy a kimeneten látjuk, a ``Series`` egy értékekből és indexekből álló sorozatot is tartalmaz, amelyeket az ``values`` és ``index`` attribútumokkal érhetünk el.\n",
        "A ``values`` egyszerűen egy NumPy tömb:"
      ]
    },
    {
      "cell_type": "code",
      "execution_count": null,
      "metadata": {
        "id": "S3Om8SiSuwO1"
      },
      "outputs": [],
      "source": [
        "data.values"
      ]
    },
    {
      "cell_type": "code",
      "execution_count": null,
      "metadata": {
        "id": "eW4LM3TxuwO4"
      },
      "outputs": [],
      "source": [
        "data.index"
      ]
    },
    {
      "cell_type": "markdown",
      "metadata": {
        "id": "euvGli3auwO5"
      },
      "source": [
        "\n",
        "A NumPy tömbökhöz hasonlóan az adatok a Pythonban megszokott szögletes zárójeles jelöléssel a hozzájuk tartozó index segítségével érhetők el:"
      ]
    },
    {
      "cell_type": "code",
      "execution_count": null,
      "metadata": {
        "id": "Y_rM5758uwO6"
      },
      "outputs": [],
      "source": [
        "data[1]"
      ]
    },
    {
      "cell_type": "code",
      "execution_count": null,
      "metadata": {
        "id": "j4iFKrPkuwO7"
      },
      "outputs": [],
      "source": [
        "data[1:3]"
      ]
    },
    {
      "cell_type": "code",
      "source": [
        "n=data.values #numpy tömböknél is ua\n",
        "n[1:3]"
      ],
      "metadata": {
        "id": "SE3m1jTgpolS"
      },
      "execution_count": null,
      "outputs": []
    },
    {
      "cell_type": "code",
      "source": [
        "l=[1,2,3,4,5,6,7,8] #mint a python listák\n",
        "l[2:4]"
      ],
      "metadata": {
        "id": "eWxBM_kppKet"
      },
      "execution_count": null,
      "outputs": []
    },
    {
      "cell_type": "code",
      "source": [
        "data = pd.Series([0.25, 0.5, 0.75, 1.0],\n",
        "                 index=['a', 'b', 'c', 'd']) #elemek máshogyan is indexelhetőek\n",
        "data"
      ],
      "metadata": {
        "id": "5nahzSmFyD7U"
      },
      "execution_count": null,
      "outputs": []
    },
    {
      "cell_type": "code",
      "source": [
        "data['b']"
      ],
      "metadata": {
        "id": "vTzJE65EyEgC"
      },
      "execution_count": null,
      "outputs": []
    },
    {
      "cell_type": "markdown",
      "source": [
        "Ily módon a Pandas Series-t egy kicsit úgy tekinthetjük, mint a Python dictionary specializációját. A dictionary egy olyan struktúra, amely tetszőleges kulcsokat képez le tetszőleges értékek halmazára, a Series pedig egy olyan struktúra, amely tipizált kulcsokat képez le tipizált értékek halmazára. Ez a tipizálás fontos: ahogyan a NumPy tömb mögött álló típus-specifikus fordított kód hatékonyabbá teszi azt egy Python listánál bizonyos műveleteknél, úgy a Pandas Series típusinformációja sokkal hatékonyabbá teszi azt bizonyos műveleteknél a Python szótáraknál.\n",
        "\n",
        "A Series dictionary analógia még világosabbá tehető, ha egy Series objektumot közvetlenül egy Python dictionary állítunk elő:"
      ],
      "metadata": {
        "id": "WfcdplzWyXG0"
      }
    },
    {
      "cell_type": "code",
      "source": [
        "population_dict = {'California': 38332521,\n",
        "                   'Texas': 26448193,\n",
        "                   'New York': 19651127,\n",
        "                   'Florida': 19552860,\n",
        "                   'Illinois': 12882135}\n",
        "population = pd.Series(population_dict)\n",
        "population"
      ],
      "metadata": {
        "id": "3r_yjeW9yH2x"
      },
      "execution_count": null,
      "outputs": []
    },
    {
      "cell_type": "code",
      "source": [
        "population['California']"
      ],
      "metadata": {
        "id": "kETyBqDSyq4o"
      },
      "execution_count": null,
      "outputs": []
    },
    {
      "cell_type": "code",
      "source": [
        "# Import pandas\n",
        "import pandas as pd\n",
        "import io\n",
        "import requests\n",
        "\n",
        "# Load data using read_csv()\n",
        "#df = pd.read_csv(\"WHO_first9cols.csv\")\n",
        "df = pd.read_csv('https://raw.githubusercontent.com/karsarobert/Machine_Learning_2024/main/WHO_first9cols.csv')\n",
        "\n",
        "# Az első 5 rekord megjelenítése\n",
        "df.head()"
      ],
      "metadata": {
        "id": "3adHleySyvnQ"
      },
      "execution_count": null,
      "outputs": []
    },
    {
      "cell_type": "code",
      "source": [
        "# Sorozat kiválasztása\n",
        "country_series=df['Country']\n",
        "\n",
        "# a sorozat adattípusának ellenőrzése\n",
        "type(country_series)\n"
      ],
      "metadata": {
        "id": "fpLhj2zp3da2"
      },
      "execution_count": null,
      "outputs": []
    },
    {
      "cell_type": "code",
      "source": [
        "country_series"
      ],
      "metadata": {
        "id": "PcflumEN4DLW"
      },
      "execution_count": null,
      "outputs": []
    },
    {
      "cell_type": "code",
      "source": [
        "print(\"Shape:\", df.shape)"
      ],
      "metadata": {
        "id": "BZJUkFVF3g24"
      },
      "execution_count": null,
      "outputs": []
    },
    {
      "cell_type": "code",
      "source": [
        "# A DataFrame oszloplistájának ellenőrzése\n",
        "print(\"List of Columns:\", df.columns)"
      ],
      "metadata": {
        "id": "1SMP617P3tBQ"
      },
      "execution_count": null,
      "outputs": []
    },
    {
      "cell_type": "code",
      "source": [
        "# Az oszlopok adattípusainak megjelenítése\n",
        "print(\"Data types:\", df.dtypes)"
      ],
      "metadata": {
        "id": "0SQzZyf831iK"
      },
      "execution_count": null,
      "outputs": []
    },
    {
      "cell_type": "code",
      "source": [
        "# Pandas sorozat szeletelés\n",
        "country_series[-5:] # utolsó 5 elem\n"
      ],
      "metadata": {
        "id": "YLsIed1S359p"
      },
      "execution_count": null,
      "outputs": []
    },
    {
      "cell_type": "markdown",
      "source": [
        "#Pandas DataFrames leírása"
      ],
      "metadata": {
        "id": "ImB_z0ol4d6c"
      }
    },
    {
      "cell_type": "markdown",
      "source": [],
      "metadata": {
        "id": "CVYR5o1u4s_T"
      }
    },
    {
      "cell_type": "code",
      "source": [
        "# Az adatkészlet leírása\n",
        "df.describe()"
      ],
      "metadata": {
        "id": "53XUE_Zt4DUw"
      },
      "execution_count": null,
      "outputs": []
    },
    {
      "cell_type": "markdown",
      "source": [
        "count - A nem üres értékek száma.\n",
        "\n",
        "mean - Az átlagos (átlag) érték.\n",
        "\n",
        "std - A szórás.\n",
        "\n",
        "min - a minimális érték.\n",
        "\n",
        "25% - A 25%-os percentilis*.\n",
        "\n",
        "50% - Az 50%-os percentilis*.\n",
        "\n",
        "75% - A 75%-os percentilis*.\n",
        "\n",
        "max - a maximális érték.\n"
      ],
      "metadata": {
        "id": "W8K-60KHteOx"
      }
    },
    {
      "cell_type": "code",
      "source": [
        "df.describe(include=[object])"
      ],
      "metadata": {
        "id": "XChewrKWQILv"
      },
      "execution_count": null,
      "outputs": []
    },
    {
      "cell_type": "markdown",
      "source": [
        "##Mik azok a percentilisek?\n",
        "A percentiliseket a statisztikában arra használják, hogy megadjanak egy számot, amely azt az értéket írja le, amelynél az értékek adott százaléka alacsonyabb.\n",
        "\n",
        "Példa: Tegyük fel, hogy van egy tömbünk, amely egy utcában élő összes ember életkorát tartalmazza.\n",
        "\n",
        "Mi a 75. percentilis? A válasz 43, ami azt jelenti, hogy az emberek 75%-a 43 éves vagy fiatalabb.\n",
        "\n",
        "A NumPy modul rendelkezik egy módszerrel a megadott percentilis megtalálására:"
      ],
      "metadata": {
        "id": "Dy9II-JJt2jT"
      }
    },
    {
      "cell_type": "code",
      "source": [
        "import numpy\n",
        "\n",
        "ages = [5,31,43,48,50,41,7,11,15,39,80,82,32,2,8,6,25,36,27,61,31]\n",
        "x = numpy.percentile(ages, 75)\n",
        "print(x)"
      ],
      "metadata": {
        "id": "QYQ4o-N0tpuC"
      },
      "execution_count": null,
      "outputs": []
    },
    {
      "cell_type": "code",
      "source": [
        "# A megfigyelések számának megszámlálása, mennyi adat van az adott oszlopban\n",
        "df.count()"
      ],
      "metadata": {
        "id": "COaZb9we5HAu"
      },
      "execution_count": null,
      "outputs": []
    },
    {
      "cell_type": "code",
      "source": [
        "# Az összes oszlop mediánjának kiszámítása\n",
        "df.median(numeric_only=True) #csak numerikus oszlopoknál értelmezhető"
      ],
      "metadata": {
        "id": "U0VfYKUU5STY"
      },
      "execution_count": null,
      "outputs": []
    },
    {
      "cell_type": "code",
      "source": [
        "# Group By DataFrame a kontinens oszlop alapján\n",
        "df.groupby('Continent').mean(numeric_only=True)"
      ],
      "metadata": {
        "id": "Xkm_QeEl5YVw"
      },
      "execution_count": null,
      "outputs": []
    },
    {
      "cell_type": "code",
      "source": [
        "import timeit"
      ],
      "metadata": {
        "id": "zPNPSYPdzfT1"
      },
      "execution_count": null,
      "outputs": []
    },
    {
      "cell_type": "code",
      "source": [
        "\n",
        "# Group By DataFrame kontinens alapján, és válassza ki a felnőttek írástudási arányát (%)\n",
        "df.groupby('Continent').mean(numeric_only=True)['Adult literacy rate (%)'] #itt valójában minden oszlopra kiszámítja az átlagot"
      ],
      "metadata": {
        "id": "E7SWFukY5tNY"
      },
      "execution_count": null,
      "outputs": []
    },
    {
      "cell_type": "code",
      "source": [
        "df.groupby('Continent')['Adult literacy rate (%)'].mean()"
      ],
      "metadata": {
        "id": "jhl8xM9KzFk9"
      },
      "execution_count": null,
      "outputs": []
    },
    {
      "cell_type": "code",
      "source": [
        "%timeit df.groupby('Continent').mean(numeric_only=True)['Adult literacy rate (%)'] #sokkal lassabb megoldás"
      ],
      "metadata": {
        "id": "jF3DoPKKz-3v"
      },
      "execution_count": null,
      "outputs": []
    },
    {
      "cell_type": "code",
      "source": [
        "%timeit df.groupby('Continent')['Adult literacy rate (%)'].mean()"
      ],
      "metadata": {
        "id": "B2lZ966W0HzG"
      },
      "execution_count": null,
      "outputs": []
    },
    {
      "cell_type": "markdown",
      "source": [
        "#Hiányzó értékek\n",
        "\n",
        "A legtöbb valós adathalmaz rendezetlen és zajos. A rendezetlenség és a zaj miatt sok érték hibás vagy hiányzik. A pandas sok beépített függvényt kínál a DataFrames hiányzó értékeinek kezelésére:"
      ],
      "metadata": {
        "id": "6uBEr1B36SJU"
      }
    },
    {
      "cell_type": "markdown",
      "source": [
        "Hiányzó értékek ellenőrzése egy DataFrame-ben: A pandas isnull() függvénye ellenőrzi a null értékek meglétét, és True vagy False értéket ad vissza, ahol True a null és False a nem-null értékek esetében. A sum() függvény összeadja az összes True értéket, és visszaadja a hiányzó értékek számát. Kétféleképpen próbáltuk megszámolni a hiányzó értékeket; mindkettő ugyanazt a kimenetet mutatja:"
      ],
      "metadata": {
        "id": "D3d4FSxF6ooz"
      }
    },
    {
      "cell_type": "code",
      "source": [
        "df = pd.read_csv('https://raw.githubusercontent.com/karsarobert/Machine_Learning_2024/main/WHO_first9cols.csv')\n"
      ],
      "metadata": {
        "id": "myiuMk9EkcHH"
      },
      "execution_count": null,
      "outputs": []
    },
    {
      "cell_type": "code",
      "source": [
        "# Hiányzó értékek megszámolása a DataFrame-ben\n",
        "pd.isnull(df).sum()"
      ],
      "metadata": {
        "id": "76iujfbz6EOJ"
      },
      "execution_count": null,
      "outputs": []
    },
    {
      "cell_type": "code",
      "source": [
        "df.isnull().sum()"
      ],
      "metadata": {
        "id": "Th-Aajx062eA"
      },
      "execution_count": null,
      "outputs": []
    },
    {
      "cell_type": "markdown",
      "source": [
        "Hiányzó értékek elhagyása: A pandas rendelkezik a dropna() függvénnyel, amely az ilyen megfigyelések elhagyására vagy törlésére szolgál a DataFrame-ból. Itt az inplace=True attribútum az eredeti DataFrame-ben végzi el a változtatásokat:"
      ],
      "metadata": {
        "id": "PZB4kTRt7It1"
      }
    },
    {
      "cell_type": "code",
      "source": [
        "df.dropna(inplace=True)\n",
        "df.info()"
      ],
      "metadata": {
        "id": "zBUsQ_d466TQ"
      },
      "execution_count": null,
      "outputs": []
    },
    {
      "cell_type": "markdown",
      "source": [
        "Itt a megfigyelések száma 202-ről 118-ra csökken."
      ],
      "metadata": {
        "id": "TVeNhx_z7hCM"
      }
    },
    {
      "cell_type": "markdown",
      "source": [
        "Egy másik megközelítés a hiányzó értékek nullával, átlaggal, mediánnal vagy konstans értékekkel való kitöltése:"
      ],
      "metadata": {
        "id": "_8oy_TKQ7u_y"
      }
    },
    {
      "cell_type": "code",
      "source": [
        "df = pd.read_csv('https://raw.githubusercontent.com/karsarobert/Machine_Learning_2024/main/WHO_first9cols.csv')\n",
        "#df = pd.read_csv(\"WHO_first9cols.csv\")\n",
        "# Hiányzó értékek kitöltése 0-val\n",
        "df.fillna(0,inplace=True) # df.mean\n",
        "\n",
        "df.info()"
      ],
      "metadata": {
        "id": "BloaMPx77OPB"
      },
      "execution_count": null,
      "outputs": []
    },
    {
      "cell_type": "code",
      "source": [
        "df = pd.read_csv('https://raw.githubusercontent.com/karsarobert/Machine_Learning_2024/main/WHO_first9cols.csv')"
      ],
      "metadata": {
        "id": "luQm48H4JGze"
      },
      "execution_count": null,
      "outputs": []
    },
    {
      "cell_type": "code",
      "source": [
        "df.mode().iloc[0] # leggyakrabban megjelenő értékek imputáláshoz pandas dokumentáció!"
      ],
      "metadata": {
        "id": "RmKKda5qH7jw"
      },
      "execution_count": null,
      "outputs": []
    },
    {
      "cell_type": "code",
      "source": [
        "df.fillna(df.mode().iloc[0],inplace=True)"
      ],
      "metadata": {
        "id": "BYybtbuFKsjq"
      },
      "execution_count": null,
      "outputs": []
    },
    {
      "cell_type": "markdown",
      "source": [
        "A loc és iloc függvényekkel tudunk sorokat lekérdezni."
      ],
      "metadata": {
        "id": "NK0NVJhQEE2P"
      }
    },
    {
      "cell_type": "code",
      "source": [
        "df.loc[0]"
      ],
      "metadata": {
        "id": "lc62WBzeC5Qm"
      },
      "execution_count": null,
      "outputs": []
    },
    {
      "cell_type": "code",
      "source": [
        "df['Country'].loc[0] #loc el is hagyható"
      ],
      "metadata": {
        "id": "dRtqkPSL73RG"
      },
      "execution_count": null,
      "outputs": []
    },
    {
      "cell_type": "code",
      "source": [
        "df['Country'][0]"
      ],
      "metadata": {
        "id": "CaXH8Tvv2BEh"
      },
      "execution_count": null,
      "outputs": []
    },
    {
      "cell_type": "code",
      "source": [
        "df.iloc[:5]"
      ],
      "metadata": {
        "id": "coZ56DwDEUtW"
      },
      "execution_count": null,
      "outputs": []
    },
    {
      "cell_type": "code",
      "source": [
        "df['Adult literacy rate (%)'].loc[:10].plot() # Felnőttek írástudási aránya az első 11 adaton .loc nélkül csak 10 adaton"
      ],
      "metadata": {
        "id": "BIbtcOTLE0XO"
      },
      "execution_count": null,
      "outputs": []
    },
    {
      "cell_type": "code",
      "source": [
        "#df = pd.read_csv(\"WHO_first9cols.csv\", index_col=\"Country\" )\n",
        "df = pd.read_csv('https://raw.githubusercontent.com/karsarobert/Machine_Learning_2024/main/WHO_first9cols.csv',  index_col=\"Country\" )"
      ],
      "metadata": {
        "id": "lnRoolIuGMCS"
      },
      "execution_count": null,
      "outputs": []
    },
    {
      "cell_type": "code",
      "source": [
        "df"
      ],
      "metadata": {
        "id": "bAm4HtxI5Dtx"
      },
      "execution_count": null,
      "outputs": []
    },
    {
      "cell_type": "code",
      "source": [
        "df.loc['Algeria']"
      ],
      "metadata": {
        "id": "A8XterpyH0Kh"
      },
      "execution_count": null,
      "outputs": []
    },
    {
      "cell_type": "code",
      "source": [
        "df['Adult literacy rate (%)'].iloc[20:45].plot() #itt iloc kell az indexérték"
      ],
      "metadata": {
        "id": "2DysENvbGYip"
      },
      "execution_count": null,
      "outputs": []
    },
    {
      "cell_type": "code",
      "source": [
        "df['Adult literacy rate (%)'].loc['Albania':'Vietnam'].plot() #itt loc az indexérték"
      ],
      "metadata": {
        "id": "Oi-7AKHp7d41"
      },
      "execution_count": null,
      "outputs": []
    },
    {
      "cell_type": "code",
      "source": [
        "df[['Adult literacy rate (%)','Adult literacy rate (%)' ]] # egy listában adjuk át az oszlop neveket"
      ],
      "metadata": {
        "id": "XvIcbqFNGbf5"
      },
      "execution_count": null,
      "outputs": []
    },
    {
      "cell_type": "markdown",
      "source": [
        "Keressük meg azokat az országokat ahol az iskolázottság nagyobb mint 80 %"
      ],
      "metadata": {
        "id": "xek6LqPtKL9S"
      }
    },
    {
      "cell_type": "code",
      "source": [
        "df[df['Adult literacy rate (%)']>80]"
      ],
      "metadata": {
        "id": "opiHqzZZJeO1"
      },
      "execution_count": null,
      "outputs": []
    },
    {
      "cell_type": "code",
      "source": [
        "df['Adult literacy rate (%)']>80 # a háttérben egy indextáblát gyártunk le"
      ],
      "metadata": {
        "id": "cs05ItXzKGNU"
      },
      "execution_count": null,
      "outputs": []
    },
    {
      "cell_type": "markdown",
      "source": [
        "Több feltételt lehet logikai kapcsolatba hozni"
      ],
      "metadata": {
        "id": "DYSG08P7LVyS"
      }
    },
    {
      "cell_type": "code",
      "source": [
        "ALR = df['Adult literacy rate (%)']>80 #Felnőttek írástudási aránya>80%\n",
        "PSR = df['Net primary school enrolment ratio female (%)']>75 #Női általános iskolai beiskolázási arány>75%\n",
        "df[ALR & PSR]"
      ],
      "metadata": {
        "id": "E5VzPUR7KY7N"
      },
      "execution_count": null,
      "outputs": []
    },
    {
      "cell_type": "code",
      "source": [
        "df[ALR & PSR][['Continent']][:5] #ezeken a kontinenseken találhatóak"
      ],
      "metadata": {
        "id": "ASpGfy18LLOc"
      },
      "execution_count": null,
      "outputs": []
    },
    {
      "cell_type": "code",
      "source": [
        "df[ALR & PSR][['Continent','Adult literacy rate (%)']].groupby('Continent').mean() #az elöbbi szűrést kontinensenként csoportosítja és vesz az átlagukat"
      ],
      "metadata": {
        "id": "_GWzq1vLL0ds"
      },
      "execution_count": null,
      "outputs": []
    },
    {
      "cell_type": "code",
      "source": [
        "df[ALR & PSR][['Continent','Adult literacy rate (%)']].groupby('Continent').agg(['mean', 'count']).sort_values(by=[('Adult literacy rate (%)','count')])"
      ],
      "metadata": {
        "id": "Zg2mrPlmMcHs"
      },
      "execution_count": null,
      "outputs": []
    },
    {
      "cell_type": "markdown",
      "source": [
        "#Feladat kontinensenként összegezzük a lakosságszámot"
      ],
      "metadata": {
        "id": "k_YCPl72O9IB"
      }
    },
    {
      "cell_type": "code",
      "source": [
        "df.columns"
      ],
      "metadata": {
        "id": "rjdgpIzD94Pb"
      },
      "execution_count": null,
      "outputs": []
    },
    {
      "cell_type": "code",
      "source": [],
      "metadata": {
        "id": "LUc_VAoKNM0C"
      },
      "execution_count": null,
      "outputs": []
    },
    {
      "cell_type": "code",
      "source": [],
      "metadata": {
        "id": "jV_Z0tw9-HTS"
      },
      "execution_count": null,
      "outputs": []
    },
    {
      "cell_type": "markdown",
      "source": [
        "#Hisztogramok"
      ],
      "metadata": {
        "id": "etAzO0uh3Jdf"
      }
    },
    {
      "cell_type": "code",
      "source": [
        "df.hist(figsize=(15, 15))\n"
      ],
      "metadata": {
        "id": "LokdWooLPcEc"
      },
      "execution_count": null,
      "outputs": []
    },
    {
      "cell_type": "markdown",
      "source": [
        "A statisztikákban a hosszú farok eloszlás olyan eloszlást jelent, amelynek hosszú „farka” van, amely lassan elkeskenyedik az eloszlás vége felé.\n",
        "A gépi tanulásban sok modell nem kedveli az ilyen adatokat (pl lineáris modell)"
      ],
      "metadata": {
        "id": "DAQIba-HNYqp"
      }
    },
    {
      "cell_type": "code",
      "source": [
        "df['Population (in thousands) total'].hist()"
      ],
      "metadata": {
        "id": "L9TvFD4-PKln"
      },
      "execution_count": null,
      "outputs": []
    },
    {
      "cell_type": "code",
      "source": [
        "np.log(df['Population (in thousands) total']+1).hist() # +1 a 0 kezelésére"
      ],
      "metadata": {
        "id": "89hOvHxJOdgM"
      },
      "execution_count": null,
      "outputs": []
    },
    {
      "cell_type": "code",
      "source": [
        "df.plot(kind='box', subplots=True, layout=(3,3), sharex=False, sharey=False, figsize=(15, 15));"
      ],
      "metadata": {
        "id": "TG9Ze7l4SmyT"
      },
      "execution_count": null,
      "outputs": []
    },
    {
      "cell_type": "code",
      "source": [],
      "metadata": {
        "id": "ljJHjLlXBICO"
      },
      "execution_count": null,
      "outputs": []
    },
    {
      "cell_type": "markdown",
      "source": [],
      "metadata": {
        "id": "E6KoTI7XvHdb"
      }
    },
    {
      "cell_type": "markdown",
      "source": [
        "Az IQR az értékek középső 50%-át írja le, a legalacsonyabbtól a legmagasabb értékek felé haladva. Az interkvartilis tartomány (IQR) meghatározásához először meg kell találni az adatok alsó és felső felének mediánját (középső értékét). Ezek az értékek az 1. kvartilis (Q1) és a 3. kvartilis (Q3). Az IQR a Q3 és a Q1 közötti különbség.  "
      ],
      "metadata": {
        "id": "kjM1vSfivHal"
      }
    },
    {
      "cell_type": "markdown",
      "source": [
        "![img](https://upload.wikimedia.org/wikipedia/commons/thumb/1/1a/Boxplot_vs_PDF.svg/1024px-Boxplot_vs_PDF.svg.png)"
      ],
      "metadata": {
        "id": "ZzGd5WL5uH_z"
      }
    },
    {
      "cell_type": "code",
      "source": [
        "names = df.columns\n",
        "names"
      ],
      "metadata": {
        "id": "TuH-WeVaT3gR"
      },
      "execution_count": null,
      "outputs": []
    },
    {
      "cell_type": "code",
      "source": [
        "names = ['Adolescent fertility rate (%)',\n",
        "       'Adult literacy rate (%)',\n",
        "       'Gross national income per capita (PPP international $)',\n",
        "       'Net primary school enrolment ratio female (%)',\n",
        "       'Net primary school enrolment ratio male (%)',\n",
        "       'Population (in thousands) total']"
      ],
      "metadata": {
        "id": "q8rcQNlZUyin"
      },
      "execution_count": null,
      "outputs": []
    },
    {
      "cell_type": "code",
      "source": [
        "df[['Adolescent fertility rate (%)',\n",
        "       'Adult literacy rate (%)',\n",
        "       'Gross national income per capita (PPP international $)',\n",
        "       'Net primary school enrolment ratio female (%)',\n",
        "       'Net primary school enrolment ratio male (%)',\n",
        "       'Population (in thousands) total']]"
      ],
      "metadata": {
        "id": "k2Ox0U8_Ubq7"
      },
      "execution_count": null,
      "outputs": []
    },
    {
      "cell_type": "markdown",
      "source": [
        "#Korrelációs mátrix ábrázolása\n",
        "A korreláció azt mutatja meg, hogy két változó között milyen összefüggés van a változások között. Ha két változó ugyanabban az irányban változik, akkor pozitív korrelációt mutatnak. Ha együttesen ellentétes irányban változnak (az egyik felfelé, a másik lefelé megy), akkor negatívan korrelálnak.\n",
        "\n",
        "Kiszámíthatja az egyes attribútumpárok közötti korrelációt. Ezt korrelációs mátrixnak nevezzük. Ezután ábrázolhatja a korrelációs mátrixot, és képet kaphat arról, hogy mely változók korrelációja magas egymással.\n",
        "\n",
        "Ezt azért hasznos tudni, mert egyes gépi tanulási algoritmusok, például a lineáris és logisztikus regresszió gyenge teljesítményt nyújthatnak, ha az adatokban magasan korrelált bemeneti változók vannak.\n",
        "\n"
      ],
      "metadata": {
        "id": "Ccxy-zp8Yd1H"
      }
    },
    {
      "cell_type": "code",
      "source": [
        "correlations = df[['Adolescent fertility rate (%)',\n",
        "       'Adult literacy rate (%)',\n",
        "       'Gross national income per capita (PPP international $)',\n",
        "       'Net primary school enrolment ratio female (%)',\n",
        "       'Net primary school enrolment ratio male (%)',\n",
        "       'Population (in thousands) total']].corr()\n",
        "# plot correlation matrix\n",
        "fig = plt.figure(figsize=(10, 10))\n",
        "ax = fig.add_subplot(1,1,1)\n",
        "cax = ax.matshow(correlations, vmin=-1, vmax=1)\n",
        "fig.colorbar(cax)\n",
        "ticks = np.arange(0,6,1)\n",
        "ax.set_xticks(ticks)\n",
        "ax.set_yticks(ticks)\n",
        "ax.set_xticklabels(names, rotation=90)\n",
        "ax.set_yticklabels(names)\n",
        "plt.show()"
      ],
      "metadata": {
        "id": "XFGqWtiATDrT"
      },
      "execution_count": null,
      "outputs": []
    },
    {
      "cell_type": "markdown",
      "source": [
        "#Szórásdiagram mátrix\n",
        "A szórásdiagram két változó közötti kapcsolatot pontok formájában mutatja két dimenzióban, minden egyes attribútumhoz egy tengely tartozik. Az adatokban szereplő minden egyes attribútumpárhoz létrehozhat egy szórásdiagramot. Az összes ilyen szórásdiagramot együttesen megrajzolva szórásdiagram-mátrixnak nevezzük.\n",
        "\n",
        "A szórásdiagramok hasznosak a változók közötti strukturált kapcsolatok kiszűrésére, például arra, hogy két változó közötti kapcsolatot össze tudná-e foglalni egy vonallal. A strukturált kapcsolatokkal rendelkező attribútumok korrelálhatnak is, és jó jelöltek lehetnek arra, hogy eltávolítsa őket az adatállományából."
      ],
      "metadata": {
        "id": "3fErVQ5_YPlx"
      }
    },
    {
      "cell_type": "code",
      "source": [
        "from pandas.plotting import scatter_matrix\n",
        "\n",
        "scatter_matrix(df, figsize=(15, 15));"
      ],
      "metadata": {
        "id": "j15C3ytHTeLO"
      },
      "execution_count": null,
      "outputs": []
    },
    {
      "cell_type": "markdown",
      "source": [
        "#Házi feladat\n",
        "Házi feladat diabetes adatcsomag betöltése, az oszlopok elemszámának ellenőrzése, ha kell korrigálása. Számítsa ki az egyes oszlopok átlagait cimkénként (label) 0 és 1 es cimkék vannak. Válogassuk le azokat az adatokat ahol a szülések száma kisebb mint 10. Rajzoljon korellációs mátrixot. Rajzolja meg az adatkészlethez tartozó hisztogramokat, milyen eloszlásokat ismer fel?\n",
        "Visszaküldési határidő: 2024.02.20!"
      ],
      "metadata": {
        "id": "wc8wbTDZqgHs"
      }
    }
  ]
}