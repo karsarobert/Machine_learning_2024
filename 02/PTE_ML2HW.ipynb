{
  "nbformat": 4,
  "nbformat_minor": 0,
  "metadata": {
    "colab": {
      "provenance": [],
      "authorship_tag": "ABX9TyOXZp+ry6zwAlcOsE0V0CXq",
      "include_colab_link": true
    },
    "kernelspec": {
      "name": "python3",
      "display_name": "Python 3"
    },
    "language_info": {
      "name": "python"
    }
  },
  "cells": [
    {
      "cell_type": "markdown",
      "metadata": {
        "id": "view-in-github",
        "colab_type": "text"
      },
      "source": [
        "<a href=\"https://colab.research.google.com/github/karsarobert/Machine_learning_2024/blob/main/02/PTE_ML2HW.ipynb\" target=\"_parent\"><img src=\"https://colab.research.google.com/assets/colab-badge.svg\" alt=\"Open In Colab\"/></a>"
      ]
    },
    {
      "cell_type": "markdown",
      "source": [
        "Házi feladat diabetes adatcsomag betöltése, az oszlopok elemszámának ellenőrzése, ha kell korrigálása.\n",
        "Számítsa ki az egyes oszlopok átlagait cimkénként (label) 0 és 1 es cimkék vannak.\n",
        "Válogassuk le azokat az adatokat ahol a szülések száma kisebb mint 10.\n",
        "Rajzoljon korellációs mátrixot.\n",
        "Rajzolja meg az adatkészlethez tartozó hisztogramokat, milyen eloszlásokat ismer fel?\n"
      ],
      "metadata": {
        "id": "6wpn4LeEktHW"
      }
    },
    {
      "cell_type": "code",
      "execution_count": null,
      "metadata": {
        "id": "gvsUblVckHX9"
      },
      "outputs": [],
      "source": [
        "import  #importálja a szükséges csomagokat\n",
        "import\n",
        "import\n",
        "\n",
        "\n",
        "#df = pd.read_csv(\"diabetes.csv\")\n",
        "df = pd.read_csv(\"https://raw.githubusercontent.com/karsarobert/Machine_Learning_2024/main/diabetes.csv\")\n",
        "\n",
        "     # nézzük meg a dataframe első néhány adatát"
      ]
    },
    {
      "cell_type": "code",
      "source": [
        "    # nézzük meg a dataframe néhány leíró adatát átlag, szórás, min, max, 25%, ..."
      ],
      "metadata": {
        "id": "nLlkheuBlCfv"
      },
      "execution_count": null,
      "outputs": []
    },
    {
      "cell_type": "code",
      "source": [
        "   # van-e hiányzó adatunk?"
      ],
      "metadata": {
        "id": "hbypzdrklPKm"
      },
      "execution_count": null,
      "outputs": []
    },
    {
      "cell_type": "code",
      "source": [
        "  # csoportosítsuk az adatokat'label' szerint és vegyük azok átlagát"
      ],
      "metadata": {
        "id": "XFrfYnILlbWV"
      },
      "execution_count": null,
      "outputs": []
    },
    {
      "cell_type": "code",
      "source": [
        "  # Válogassuk le azokat az adatokat ahol a szülések száma kisebb mint 10"
      ],
      "metadata": {
        "id": "gfgwGNgnlwJ9"
      },
      "execution_count": null,
      "outputs": []
    },
    {
      "cell_type": "code",
      "source": [],
      "metadata": {
        "id": "ndkfI845od1n"
      },
      "execution_count": null,
      "outputs": []
    },
    {
      "cell_type": "code",
      "source": [
        "    # Rajzoljon korellációs mátrixot."
      ],
      "metadata": {
        "id": "lmy8iX1Gm9Pl"
      },
      "execution_count": null,
      "outputs": []
    },
    {
      "cell_type": "code",
      "source": [
        "    # Rajzolja meg az adatkészlethez tartozó hisztogramokat, milyen eloszlásokat ismer fel?"
      ],
      "metadata": {
        "id": "GanU9zXenzpN"
      },
      "execution_count": null,
      "outputs": []
    },
    {
      "cell_type": "code",
      "source": [],
      "metadata": {
        "id": "UBpNxkCFrCV0"
      },
      "execution_count": null,
      "outputs": []
    }
  ]
}